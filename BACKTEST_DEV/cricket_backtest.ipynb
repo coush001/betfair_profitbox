{
 "cells": [
  {
   "cell_type": "code",
   "execution_count": 1,
   "id": "50a4e8e9-4a95-4984-8c31-99ded1b26d91",
   "metadata": {},
   "outputs": [],
   "source": [
    "# To do:\n",
    "\n",
    "# Define is the team still in it?\n",
    "# - define the behaviour when in risk, and whether to double down, how long to hold, when to cut loss\n"
   ]
  },
  {
   "cell_type": "code",
   "execution_count": 2,
   "id": "d4d948fd-1d3b-4476-89df-0fd8ace5b16a",
   "metadata": {},
   "outputs": [],
   "source": [
    "import pandas as pd\n",
    "import time\n",
    "import logging\n",
    "from pythonjsonlogger import jsonlogger\n",
    "from flumine import FlumineSimulation, clients"
   ]
  },
  {
   "cell_type": "code",
   "execution_count": 3,
   "id": "27fac993-3745-47be-8504-eba0f1be5010",
   "metadata": {},
   "outputs": [],
   "source": [
    "from collections import OrderedDict, deque, defaultdict\n",
    "from flumine import BaseStrategy\n",
    "from flumine.order.trade import Trade\n",
    "from flumine.order.order import OrderStatus\n",
    "from flumine.order.ordertype import LimitOrder\n",
    "from flumine.utils import get_price\n",
    "from logging_setup import build_logger\n",
    "import random\n",
    "\n",
    "import time\n",
    "from datetime import timedelta\n",
    "\n",
    "class HugoStrat(BaseStrategy):\n",
    "    \"\"\"\n",
    "    Example strateg\n",
    "    \"\"\"\n",
    "    def __init__(self, threshold, dev, lookback, take_prof_price_diff, log_root, log_level, *a, **k):\n",
    "        self.log = build_logger(log_root,log_level)  # logs/trades.log, rotated nightly\n",
    "        super().__init__(*a, **k)\n",
    "        self.hist = defaultdict(lambda: deque(maxlen=400))  # per runner\n",
    "        self.threshold = threshold\n",
    "        self.dev = dev\n",
    "        self.lookback = lookback\n",
    "        self.take_prof_price_diff = take_prof_price_diff\n",
    "        self.startdt = None\n",
    "        self._last = {}    # order_id -> last size_matched\n",
    "        self.rows = []     # collected fills: [market_id, selection_id, time, size, price, side, order_id]\n",
    "        self.pnl = 0.0     \n",
    "\n",
    "\n",
    "    def add_market(self, market):\n",
    "        self.log.info(\"ADD\", market.market_id, market.event_name, market.event_type_id)\n",
    "    \n",
    "    def check_market_book(self, market, market_book):\n",
    "        if market_book.status == \"OPEN\" and market_book.inplay:\n",
    "            return True\n",
    "    \n",
    "    def _price_now(self, r):\n",
    "        return r.last_price_traded\n",
    "    \n",
    "    def _price_n_secs_ago(self, key, now_dt, n=5):\n",
    "        cutoff = now_dt - timedelta(seconds=n)\n",
    "        dq = self.hist.get(key)\n",
    "        if not dq: return None\n",
    "        # find the latest sample at/before cutoff\n",
    "        for t,p in reversed(dq):\n",
    "            if t <= cutoff:\n",
    "                return p\n",
    "        return None\n",
    "\n",
    "    def avg_back_odds(self, market, selection_id):\n",
    "        total_stake, weighted = 0, 0\n",
    "        for order in market.blotter:\n",
    "            if order.selection_id == selection_id and order.side == \"BACK\":\n",
    "                matched = order.size_matched\n",
    "                if matched > 0:\n",
    "                    total_stake += matched\n",
    "                    weighted += matched * order.average_price_matched\n",
    "        return weighted / total_stake if total_stake else None\n",
    "    \n",
    "    def process_market_book(self, market, market_book):\n",
    "        if not self.startdt: self.startdt = market_book.publish_time\n",
    "        elapsed = market_book.publish_time.timestamp() - self.startdt.timestamp()\n",
    "        \n",
    "        self.log.debug(f\"process_market_book: {market.event_name}, time elapse {elapsed},  publishtime:{market_book.publish_time}\")\n",
    "\n",
    "# wait until 1 hour done then hedge out\n",
    "        if elapsed > 7200:\n",
    "            self.log.debug(f\"elapsed time {elapsed} > 7200, hedging bets and return\")\n",
    "            for r in market_book.runners:\n",
    "                self.hedge_selection(r)\n",
    "                return\n",
    "                \n",
    "        now_dt = market_book.publish_time  # simulation “now”\n",
    "        \n",
    "        for r in market_book.runners:\n",
    "            key = (market.market_id, r.selection_id)\n",
    "            p = self._price_now(r)\n",
    "            if p and p < self.threshold:\n",
    "                self.hist[key].append((now_dt, p))\n",
    "                p_5s = self._price_n_secs_ago(key, now_dt, self.lookback)\n",
    "                if p_5s:\n",
    "                    delta = (p-p_5s)\n",
    "                    self.log.debug(f\"Price update: Market, selection-id:{key} price now:{p}, odds delta:{delta}, change %: {delta / p}\")\n",
    "# if odds increase by X %, then bet\n",
    "                    if delta>0 and (delta / p) > self.dev :\n",
    "                        runner_context = self.get_runner_context(market.market_id, r.selection_id, r.handicap)\n",
    "                        if runner_context.live_trade_count == 0:\n",
    "                            \n",
    "                            self.log.info(f\"big increase odds, no live trades, placing order: {r.selection_id} 5s ago : {p_5s}  now : {p}\")\n",
    "                            self.log.info(f\": {market.event_name}, time elapse {elapsed},  {market_book.publish_time}\")\n",
    "                            # back at current best lay price\n",
    "                            back = get_price(r.ex.available_to_lay, 0) \n",
    "                            # create trade\n",
    "                            trade = Trade(market_book.market_id, r.selection_id, r.handicap,\n",
    "                                self, notes={\"entry_px\": back})\n",
    "                            order = trade.create_order(side=\"BACK\", order_type=LimitOrder(back, self.context[\"stake\"]))\n",
    "                            market.place_order(order)\n",
    "                            self.log.info({\"PLACE ORDER\":market.market_id,\"price\":back,\"event_name\":market.event_name})\n",
    "\n",
    "                            \n",
    "# if profit available : hedge out at some take profit value\n",
    "                av = self.avg_back_odds(market, r.selection_id)\n",
    "                if av and (av - p) > self.take_prof_price_diff :\n",
    "                    # total matched on backs\n",
    "                    self.hedge_selection(r)\n",
    "\n",
    "    def hedge_selection(r):        \n",
    "        backs = [o for o in market.blotter if o.selection_id==r.selection_id and o.side==\"BACK\" and o.size_matched>0]\n",
    "        stake = sum(o.size_matched for o in backs)\n",
    "        best_lay = get_price(r.ex.available_to_lay, 0)\n",
    "        if not best_lay: return\n",
    "    \n",
    "        # hedge size so Pwin == Plose\n",
    "        hsize = (av*stake - stake) / best_lay\n",
    "        if hsize <= 0: return\n",
    "        self.log.info(f\"Closing risk : runner {r.selection_id}, {hsize} @ {best_lay}\")\n",
    "        trade = Trade(market.market_id, r.selection_id, r.handicap, self)\n",
    "        order = trade.create_order(\"LAY\", LimitOrder(best_lay, round(hsize,2), persistence_type=\"LAPSE\"))\n",
    "        market.place_order(order)\n",
    "\n",
    "    \n",
    "# if odd slowly increase bet more\n",
    "    \n",
    "# if further swing in odds bet more \n",
    "            \n",
    "    \n",
    "    def process_orders(self, market, orders):\n",
    "        # kill order if unmatched in market for greater than 2 seconds\n",
    "        for order in orders:\n",
    "            if order.status == OrderStatus.EXECUTABLE:\n",
    "                if order.elapsed_seconds and order.elapsed_seconds > 4:\n",
    "                     market.cancel_order(order)\n",
    "\n",
    "    def process_order(self, order):\n",
    "        # fully matched\n",
    "        if order.status == OrderStatus.EXECUTION_COMPLETE:\n",
    "            a = {\"Order fully matched\": order.selection_id,\"avg_px\":order.average_price_matched,\n",
    "                 \"size\":order.size_matched}\n",
    "            self.log.info(a)\n",
    "\n",
    "        # partially matched\n",
    "        elif order.size_matched and order.size_remaining:\n",
    "            a = {\"Partial match\":order.selection_id,\n",
    "                 \"matched\":order.size_matched,\n",
    "                 \"remaining\":order.size_remaining,\n",
    "                 \"avg_px\":order.average_price_matched}\n",
    "            self.log.info(a)\n",
    "\n",
    "    def process_closed_market(self, market, market_book):\n",
    "        self.pnl = 0.0\n",
    "        self.log.info(f\"Processing closed market: {market.event_name}, {market.market_id}\")\n",
    "        for order in market.blotter:\n",
    "            self.pnl += order.profit\n",
    "            self.log.info(f\"Order PNL {order.profit}, av size matched: {order.size_matched} av price matched: {order.average_price_matched}, date_time_created: {order.date_time_created}\")\n",
    "            \n",
    "        self.log.warning(f\"Total pnl for market:{market.event_name}, {market.market_id}, : PNL :: {self.pnl}\")\n",
    "            \n",
    "    "
   ]
  },
  {
   "cell_type": "code",
   "execution_count": 4,
   "id": "d3a943ec-261f-4574-a6d4-0e09abce1e0e",
   "metadata": {},
   "outputs": [],
   "source": [
    "markets = pd.read_csv(\"ADVeventid_marketid_AUG24.csv\")[\"path\"].tolist()"
   ]
  },
  {
   "cell_type": "code",
   "execution_count": 5,
   "id": "38d9c957-e0ab-4672-906b-cc2d217814c4",
   "metadata": {},
   "outputs": [],
   "source": [
    "def run_one_trial_drawdown_optim(max_order_exposure, max_selection_exposure, stake, threshold, dev, lookback, take_prof_price_diff):\n",
    "    def run_once(market, max_order_exposure, max_selection_exposure, stake, threshold, dev, lookback, take_prof_price_diff):\n",
    "        client = clients.SimulatedClient()\n",
    "        framework = FlumineSimulation(client=client)\n",
    "    \n",
    "        lists =[]\n",
    "        lists.append(market)\n",
    "        \n",
    "        strategy = HugoStrat(   \n",
    "            market_filter={\"markets\": lists},\n",
    "            max_order_exposure=max_order_exposure,\n",
    "            max_selection_exposure=max_selection_exposure,\n",
    "            context={\"stake\": stake},\n",
    "            threshold=threshold,\n",
    "            dev=dev,\n",
    "            lookback=lookback,\n",
    "            take_prof_price_diff=take_prof_price_diff,\n",
    "            log_root=\"./logs/backtest/\",\n",
    "            log_level=\"E\")\n",
    "    \n",
    "        framework.add_strategy(strategy)\n",
    "        framework.run()\n",
    "        pnl = getattr(strategy, \"pnl\")\n",
    "        del framework, client, strategy\n",
    "        return pnl\n",
    "\n",
    "    \n",
    "    pnls = []\n",
    "    for i in random.sample(markets, 45) :\n",
    "        pnl = run_once(i,max_order_exposure=max_order_exposure,max_selection_exposure=max_selection_exposure, stake=stake,\n",
    "                       threshold=threshold, dev=dev, lookback=lookback, take_prof_price_diff=take_prof_price_diff)\n",
    "        pnls.append(pnl)\n",
    "    return pnls\n",
    "    "
   ]
  },
  {
   "cell_type": "code",
   "execution_count": 6,
   "id": "77befb1d-802f-45af-acec-fbd9280d44b4",
   "metadata": {},
   "outputs": [
    {
     "name": "stderr",
     "output_type": "stream",
     "text": [
      "[I 2025-09-13 15:10:09,329] A new study created in memory with name: no-name-fcbed096-adf7-4d30-9545-8b8459eb0da6\n",
      "[I 2025-09-13 15:12:53,820] Trial 1 finished with values: [-8.59, 14.77] and parameters: {'max_order_exposure': 190, 'max_selection_exposure': 170, 'stake': 4.0, 'max_odds_threshold': 3.212372086112194, 'odds_change_deviation_to_trigger_trade': 0.15383289837337616, 'price_lookback_duration_seconds': 6, 'odds_change_deviation_to_trigger_take_prof': 0.23890520534481374}.\n"
     ]
    },
    {
     "name": "stdout",
     "output_type": "stream",
     "text": [
      "pnls:  [0.0, 0.0, 0.0, 0.0, 0.0, 0.0, -4.0, 0.0, 0.0, 0.0, 0.0, 0.0, 0.0, 0.0, -4.0, 0.0, 0.0, 0.0, 0.18, 0.0, 0.0, 6.0, 0.0, 0.0, -2.77, 0.0, 0.0, 0.0, 0.0, 0.0, 0.0, 0.0, 0.0, 0.0, 0.0, 0.0, -4.0, 0.0, 0.0, 0.0, 0.0, 0.0, 0.0, 0.0, 0.0] \n",
      "sum: -8.59 sum losses : - 14.77\n"
     ]
    },
    {
     "name": "stderr",
     "output_type": "stream",
     "text": [
      "[I 2025-09-13 15:13:36,095] Trial 0 finished with values: [134.96000000000004, 222.17] and parameters: {'max_order_exposure': 150, 'max_selection_exposure': 110, 'stake': 2.0, 'max_odds_threshold': 6.45006419759102, 'odds_change_deviation_to_trigger_trade': 0.020988675796960884, 'price_lookback_duration_seconds': 21, 'odds_change_deviation_to_trigger_take_prof': 0.19792682475731466}.\n"
     ]
    },
    {
     "name": "stdout",
     "output_type": "stream",
     "text": [
      "pnls:  [15.190000000000005, 0.0, -4.679999999999999, -8.72, 0.2400000000000002, -25.13, -68.28, 0.0, 6.700000000000001, 24.58, 8.32, 2.58, -2.56, 0.0, 29.090000000000003, 12.749999999999996, 0.0, 1.3800000000000001, 0.24, -0.8700000000000001, 7.049999999999997, -20.369999999999997, 19.310000000000006, -0.7799999999999998, 0.0, 1.8699999999999997, 0.0, 6.8, -6.699999999999999, 41.410000000000004, 13.08, 0.0, -50.37, 0.5499999999999992, -21.54, -5.33, 34.33999999999999, 76.26000000000002, 0.17000000000000026, 7.279999999999999, 6.57, -4.9, 28.939999999999998, -1.94, 12.43] \n",
      "sum: 134.96000000000004 sum losses : - 222.17\n"
     ]
    },
    {
     "name": "stderr",
     "output_type": "stream",
     "text": [
      "[I 2025-09-13 15:15:38,559] Trial 2 finished with values: [-391.06, 429.62] and parameters: {'max_order_exposure': 125, 'max_selection_exposure': 190, 'stake': 5.0, 'max_odds_threshold': 17.300379626598293, 'odds_change_deviation_to_trigger_trade': 0.05826890431498843, 'price_lookback_duration_seconds': 17, 'odds_change_deviation_to_trigger_take_prof': 0.3008082970417152}.\n"
     ]
    },
    {
     "name": "stdout",
     "output_type": "stream",
     "text": [
      "pnls:  [-68.28, -3.75, 0.0, 0.0, 0.0, -5.09, 0.0, -1.5, -16.47, -6.51, -0.7000000000000002, -20.36, -15.350000000000001, 0.0, -1.45, 5.35, -1.1400000000000001, -0.43000000000000327, 0.0, -36.8, -59.83, 0.0, 2.75, 0.0, -12.18, -0.14, -6.399999999999998, 0.0, 0.71, -13.25, 0.0, 0.0, -28.869999999999997, -5.0, -12.799999999999995, -9.23, 13.45, 0.0, -21.189999999999998, -27.0, 16.3, -5.99, -3.2900000000000005, -3.47, -43.15] \n",
      "sum: -391.06 sum losses : - 429.62\n"
     ]
    },
    {
     "name": "stderr",
     "output_type": "stream",
     "text": [
      "[I 2025-09-13 15:16:52,074] Trial 3 finished with values: [102.34, 73.58] and parameters: {'max_order_exposure': 40, 'max_selection_exposure': 160, 'stake': 8.0, 'max_odds_threshold': 1.610733343905984, 'odds_change_deviation_to_trigger_trade': 0.036806399408241305, 'price_lookback_duration_seconds': 6, 'odds_change_deviation_to_trigger_take_prof': 0.09530417241592824}.\n"
     ]
    },
    {
     "name": "stdout",
     "output_type": "stream",
     "text": [
      "pnls:  [7.6, 0.0, 0.0, -10.24, -8.0, 27.29, -8.0, 0.0, 2.56, 15.840000000000002, 0.0, 15.12, 0.0, 0.01, 24.16, 0.0, 0.0, 0.0, 0.0, -8.0, 0.0, 0.0, 0.0, 4.08, 0.0, 0.0, 16.64, 9.919999999999998, 17.12, 0.58, 0.0, 0.0, -15.2, 4.24, 2.24, 0.0, -16.14, 0.0, 0.0, 3.03, 20.32, 2.16, -8.0, 3.01, 0.0] \n",
      "sum: 102.34 sum losses : - 73.58\n"
     ]
    },
    {
     "name": "stderr",
     "output_type": "stream",
     "text": [
      "[I 2025-09-13 15:19:16,860] Trial 4 finished with values: [-308.48, 698.0600000000001] and parameters: {'max_order_exposure': 160, 'max_selection_exposure': 150, 'stake': 8.0, 'max_odds_threshold': 7.331695203223062, 'odds_change_deviation_to_trigger_trade': 0.007888578281088708, 'price_lookback_duration_seconds': 13, 'odds_change_deviation_to_trigger_take_prof': 0.2925482349113186}.\n"
     ]
    },
    {
     "name": "stdout",
     "output_type": "stream",
     "text": [
      "pnls:  [-21.939999999999998, 0.0, 0.0, -2.339999999999999, -17.919999999999973, 0.0, -4.560000000000002, -59.800000000000004, 7.35, -12.850000000000001, -5.459999999999992, -37.71000000000001, -25.12, -64.76, 16.970000000000006, 0.0, 6.710000000000001, 7.879999999999998, -8.230000000000011, -3.3599999999999994, 18.92, 20.660000000000004, 29.02000000000001, 6.619999999999999, -57.870000000000005, -52.24, 0.0, 0.0, -8.340000000000002, 3.45, 24.580000000000005, 1.8000000000000007, 23.989999999999995, 17.69999999999999, 34.46, -78.75000000000001, 0.0, 16.43, -79.89000000000001, 3.2700000000000005, 38.11, -100.82999999999998, -56.09, 111.66, 0.0] \n",
      "sum: -308.48 sum losses : - 698.0600000000001\n"
     ]
    },
    {
     "name": "stderr",
     "output_type": "stream",
     "text": [
      "[I 2025-09-13 15:20:38,716] Trial 5 finished with values: [205.14, 160.16] and parameters: {'max_order_exposure': 165, 'max_selection_exposure': 30, 'stake': 3.0, 'max_odds_threshold': 13.728590885441367, 'odds_change_deviation_to_trigger_trade': 0.007178856520514159, 'price_lookback_duration_seconds': 16, 'odds_change_deviation_to_trigger_take_prof': 0.26786529123408104}.\n"
     ]
    },
    {
     "name": "stdout",
     "output_type": "stream",
     "text": [
      "pnls:  [4.170000000000002, -0.029999999999999805, 0.40000000000000124, -8.309999999999999, -28.669999999999998, 3.03, -8.380000000000003, -13.780000000000001, -1.4299999999999997, 0.0, 0.8399999999999999, 17.869999999999997, -7.010000000000003, -3.1100000000000017, 122.97, 8.129999999999999, -5.449999999999999, 6.84, 0.0, -0.9600000000000026, 0.0, 15.14, 9.029999999999998, 6.910000000000001, 1.08, 4.380000000000003, 0.0, -8.18, -2.110000000000001, 45.51999999999999, -18.42, 86.42999999999999, -6.909999999999999, -6.709999999999997, -0.38, 10.260000000000002, -9.0, 0.0, 0.0, 1.39, -25.32, 5.4399999999999995, -6.0, 7.83, 7.640000000000001] \n",
      "sum: 205.14 sum losses : - 160.16\n"
     ]
    },
    {
     "name": "stderr",
     "output_type": "stream",
     "text": [
      "[I 2025-09-13 15:22:07,373] Trial 6 finished with values: [-13.13, 28.88] and parameters: {'max_order_exposure': 40, 'max_selection_exposure': 120, 'stake': 1.0, 'max_odds_threshold': 12.98075831736601, 'odds_change_deviation_to_trigger_trade': 0.1878235070359515, 'price_lookback_duration_seconds': 28, 'odds_change_deviation_to_trigger_take_prof': 0.25841963641203636}.\n"
     ]
    },
    {
     "name": "stdout",
     "output_type": "stream",
     "text": [
      "pnls:  [0.0, -2.95, 7.02, 0.0, 0.0, -4.0, -2.0, 0.0, 3.4, 0.0, 0.0, 0.0, -8.26, 0.0, 0.0, -2.0, 0.0, 0.0, 0.0, 0.0, -1.0, 0.0, 0.0, 1.3, 0.0, 0.0, 0.0, 0.0, 0.0, 0.0, 1.06, -0.07, 0.0, -5.0, 0.0, 0.0, 0.0, 0.0, -1.54, -1.0, 0.0, 2.9699999999999998, -1.0599999999999996, 0.0, 0.0] \n",
      "sum: -13.13 sum losses : - 28.88\n"
     ]
    },
    {
     "name": "stderr",
     "output_type": "stream",
     "text": [
      "[I 2025-09-13 15:23:21,228] Trial 7 finished with values: [-41.599999999999945, 603.3199999999999] and parameters: {'max_order_exposure': 200, 'max_selection_exposure': 100, 'stake': 6.0, 'max_odds_threshold': 1.8620861317051791, 'odds_change_deviation_to_trigger_trade': 0.020183238532332216, 'price_lookback_duration_seconds': 26, 'odds_change_deviation_to_trigger_take_prof': 0.06886493707803996}.\n"
     ]
    },
    {
     "name": "stdout",
     "output_type": "stream",
     "text": [
      "pnls:  [10.1, -47.819999999999986, -32.3, 73.36, -13.56, 39.000000000000014, -33.36999999999999, -24.720000000000006, 66.96000000000001, 0.0, -9.46, -7.22, 0.0, 67.35, -27.65, -57.17999999999998, -3.54, 0.0, 0.04, 46.44, -50.879999999999995, -79.05, 2.4099999999999997, -81.42, 0.0, 7.630000000000001, 65.24, 0.52, 51.35000000000001, -0.120000000000001, 9.079999999999998, 0.0, 0.0, 0.07, 37.32, -6.0, 7.17, 24.229999999999997, -30.25999999999999, -98.77000000000001, 0.0, 38.44, 12.24, 0.72, 2.0500000000000003] \n",
      "sum: -41.599999999999945 sum losses : - 603.3199999999999\n"
     ]
    },
    {
     "name": "stderr",
     "output_type": "stream",
     "text": [
      "[I 2025-09-13 15:24:41,417] Trial 8 finished with values: [-239.99, 261.1] and parameters: {'max_order_exposure': 145, 'max_selection_exposure': 70, 'stake': 7.0, 'max_odds_threshold': 12.79289573224904, 'odds_change_deviation_to_trigger_trade': 0.07314090421113367, 'price_lookback_duration_seconds': 2, 'odds_change_deviation_to_trigger_take_prof': 0.9850706208723358}.\n"
     ]
    },
    {
     "name": "stdout",
     "output_type": "stream",
     "text": [
      "pnls:  [0.0, -8.18, 13.76, 0.0, 0.0, -1.95, -1.56, -12.259999999999998, -23.66, 0.0, -0.07, 0.0, -7.0, 0.0, 0.0, 0.0, -13.62, 0.0, 0.0, -37.720000000000006, -28.31, 0.0, 0.0, -7.0, -0.25, 6.09, -6.51, -5.8999999999999995, -5.37, 0.0, -12.07, 0.0, 1.26, 0.0, -4.24, 0.0, 0.0, 0.0, 0.0, -11.82, -40.09, 0.0, 0.0, 0.0, -33.519999999999996] \n",
      "sum: -239.99 sum losses : - 261.1\n"
     ]
    },
    {
     "name": "stderr",
     "output_type": "stream",
     "text": [
      "[I 2025-09-13 15:25:55,825] Trial 9 finished with values: [-158.68, 203.76] and parameters: {'max_order_exposure': 185, 'max_selection_exposure': 160, 'stake': 9.0, 'max_odds_threshold': 17.869746834339107, 'odds_change_deviation_to_trigger_trade': 0.1573390928748785, 'price_lookback_duration_seconds': 10, 'odds_change_deviation_to_trigger_take_prof': 0.2253296177113737}.\n"
     ]
    },
    {
     "name": "stdout",
     "output_type": "stream",
     "text": [
      "pnls:  [0.0, 23.04, -9.0, -18.0, 0.0, -10.729999999999999, 0.0, -45.92, -5.12, -39.17, 0.0, 0.0, 0.0, 0.0, 0.0, 0.0, -1.5, 0.0, 0.0, 0.0, 0.0, 0.0, -8.3, -0.05, 0.0, -3.02, -9.0, 0.0, 0.0, 0.0, 0.0, 0.0, 0.0, 0.0, 0.0, -39.82, 0.0, 0.0, 6.92, -9.0, 0.0, 0.0, -5.13, 15.12, 0.0] \n",
      "sum: -158.68 sum losses : - 203.76\n"
     ]
    },
    {
     "name": "stderr",
     "output_type": "stream",
     "text": [
      "[I 2025-09-13 15:27:59,261] Trial 10 finished with values: [178.47000000000003, 144.10999999999999] and parameters: {'max_order_exposure': 30, 'max_selection_exposure': 170, 'stake': 3.0, 'max_odds_threshold': 5.127954060470222, 'odds_change_deviation_to_trigger_trade': 0.07491370666640622, 'price_lookback_duration_seconds': 16, 'odds_change_deviation_to_trigger_take_prof': 0.05182137524073478}.\n"
     ]
    },
    {
     "name": "stdout",
     "output_type": "stream",
     "text": [
      "pnls:  [-3.09, 12.04, 2.58, -6.45, 0.0, 0.0, 21.09, 0.0, -7.68, 79.63000000000001, 28.56, 0.0, -4.06, 0.0, -4.5, 39.0, 0.0, 8.25, -3.0, 0.0, 0.0, 0.0, 0.0, -6.9, -11.75, 0.0, 11.15, 0.0, 92.52, 0.0, 0.0, 18.07, -12.0, -17.27, -33.62999999999999, 2.61, -6.6899999999999995, 0.0, -0.5100000000000002, 7.08, -7.65, 0.0, 0.0, -15.61, -3.32] \n",
      "sum: 178.47000000000003 sum losses : - 144.10999999999999\n"
     ]
    },
    {
     "name": "stderr",
     "output_type": "stream",
     "text": [
      "[I 2025-09-13 15:28:55,801] Trial 11 finished with values: [113.64999999999999, 434.3] and parameters: {'max_order_exposure': 200, 'max_selection_exposure': 100, 'stake': 9.0, 'max_odds_threshold': 7.784837787504579, 'odds_change_deviation_to_trigger_trade': 0.006101272533313021, 'price_lookback_duration_seconds': 3, 'odds_change_deviation_to_trigger_take_prof': 0.11693598821624407}.\n"
     ]
    },
    {
     "name": "stdout",
     "output_type": "stream",
     "text": [
      "pnls:  [-43.870000000000005, 124.07000000000001, 16.919999999999998, 35.190000000000005, 9.649999999999995, 50.04, 0.0, 10.729999999999999, -17.750000000000004, -19.21999999999999, 0.18, -42.85, -21.81, 36.1, -38.85000000000001, 22.49, 27.88, -22.04, 5.4399999999999995, -7.87, 1.19, 25.490000000000002, 0.9200000000000004, -6.380000000000001, -2.770000000000006, -26.01, 0.0, 0.0, -20.49, -19.22, 0.0, 16.29, 12.340000000000002, -10.789999999999994, 17.52, 85.65, -30.580000000000016, 0.41000000000000014, 0.0, 49.44999999999999, -59.17999999999999, 0.0, 0.0, -44.62, 0.0] \n",
      "sum: 113.64999999999999 sum losses : - 434.3\n"
     ]
    },
    {
     "name": "stderr",
     "output_type": "stream",
     "text": [
      "[I 2025-09-13 15:31:03,442] Trial 12 finished with values: [-63.58000000000004, 797.54] and parameters: {'max_order_exposure': 180, 'max_selection_exposure': 170, 'stake': 10.0, 'max_odds_threshold': 9.196677808365529, 'odds_change_deviation_to_trigger_trade': 0.045321193968381794, 'price_lookback_duration_seconds': 19, 'odds_change_deviation_to_trigger_take_prof': 0.06396383817812093}.\n"
     ]
    },
    {
     "name": "stdout",
     "output_type": "stream",
     "text": [
      "pnls:  [1.15, -45.74999999999999, -91.50000000000001, -5.300000000000001, 114.52, 35.43, -133.54000000000002, 1.06, 6.24, 149.1, 1.16, 0.0, 0.0, -25.34, 46.209999999999994, 0.0, 143.82, 8.899999999999999, -11.18, -74.9, 0.0, -55.05, 20.460000000000004, -0.2, -7.88, -51.26, -2.8400000000000003, -0.09, -0.07, 0.0, -0.23, 0.0, 0.0, 64.3, -72.64999999999999, -154.9, 6.14, 134.23, -5.159999999999999, -0.66, 0.0, 1.2399999999999998, -31.569999999999986, -27.47, 0.0] \n",
      "sum: -63.58000000000004 sum losses : - 797.54\n"
     ]
    },
    {
     "name": "stderr",
     "output_type": "stream",
     "text": [
      "[I 2025-09-13 15:31:56,889] Trial 13 finished with values: [-279.71999999999997, 389.41999999999996] and parameters: {'max_order_exposure': 85, 'max_selection_exposure': 40, 'stake': 8.0, 'max_odds_threshold': 10.200940188642793, 'odds_change_deviation_to_trigger_trade': 0.06633181123868617, 'price_lookback_duration_seconds': 25, 'odds_change_deviation_to_trigger_take_prof': 0.022487374562767403}.\n"
     ]
    },
    {
     "name": "stdout",
     "output_type": "stream",
     "text": [
      "pnls:  [0.0, 20.110000000000003, 18.87, -0.5, 5.44, 0.0, -16.05, 0.0, -8.0, -32.4, 0.0, 0.0, 0.0, 8.8, -38.56, -3.46, 0.0, 0.0, -16.97, -39.98, -26.0, -8.0, 3.95, 0.0, 17.729999999999997, 0.0, 0.0, 0.0, -0.2699999999999996, 0.0, -1.61, 0.0, -8.0, -22.31, 0.0, -31.219999999999995, 34.800000000000004, -29.66, -22.47, -34.3, -0.08999999999999986, -9.57, 0.0, 0.0, -40.0] \n",
      "sum: -279.71999999999997 sum losses : - 389.41999999999996\n"
     ]
    },
    {
     "name": "stderr",
     "output_type": "stream",
     "text": [
      "[I 2025-09-13 15:33:43,541] Trial 14 finished with values: [-93.07000000000001, 272.99] and parameters: {'max_order_exposure': 80, 'max_selection_exposure': 40, 'stake': 7.0, 'max_odds_threshold': 14.062572273124234, 'odds_change_deviation_to_trigger_trade': 0.010141480304777102, 'price_lookback_duration_seconds': 28, 'odds_change_deviation_to_trigger_take_prof': 0.07652571267391034}.\n"
     ]
    },
    {
     "name": "stdout",
     "output_type": "stream",
     "text": [
      "pnls:  [-10.46, -4.77, -9.31, -1.1499999999999968, 1.21, -35.519999999999996, 0.0, -1.3299999999999983, 0.0, -4.17, 2.51, -9.229999999999997, -25.300000000000004, 11.179999999999998, -9.35, 1.2299999999999969, 5.590000000000002, 1.8100000000000005, -14.939999999999998, 0.0, 0.5599999999999987, -7.280000000000001, -9.459999999999999, 0.700000000000002, 55.61999999999999, 2.039999999999999, 10.010000000000002, 11.39, 2.9099999999999997, 8.67, -2.33, -30.000000000000004, -0.3500000000000014, -38.07, 0.0, 18.41, -14.52, -9.450000000000001, 0.0, 9.349999999999998, 9.489999999999998, 12.5, 7.1000000000000005, -36.0, 7.64] \n",
      "sum: -93.07000000000001 sum losses : - 272.99\n"
     ]
    },
    {
     "name": "stderr",
     "output_type": "stream",
     "text": [
      "[I 2025-09-13 15:34:46,732] Trial 15 finished with values: [-53.64, 134.9] and parameters: {'max_order_exposure': 110, 'max_selection_exposure': 70, 'stake': 3.0, 'max_odds_threshold': 12.726199817595708, 'odds_change_deviation_to_trigger_trade': 0.06442174769241264, 'price_lookback_duration_seconds': 13, 'odds_change_deviation_to_trigger_take_prof': 0.949760985107222}.\n"
     ]
    },
    {
     "name": "stdout",
     "output_type": "stream",
     "text": [
      "pnls:  [0.0, -19.36, -0.41, -5.6499999999999995, -12.34, 0.0, 0.0, 2.01, 38.2, 0.0, 0.0, 0.0, -27.790000000000003, 0.18, 0.0, 0.0, 0.0, -5.15, 1.7900000000000003, 7.320000000000001, -3.0, 4.14, -2.73, 0.0, 0.0, -2.27, 0.0, -2.6899999999999986, 0.0, -5.56, -6.0, -0.05, 0.0, 0.0, 0.0, 13.32, 6.0, 0.0, 6.419999999999999, -12.67, 1.88, 0.0, -3.7100000000000013, -1.91, -23.61] \n",
      "sum: -53.64 sum losses : - 134.9\n"
     ]
    },
    {
     "name": "stderr",
     "output_type": "stream",
     "text": [
      "[I 2025-09-13 15:36:46,456] Trial 16 finished with values: [-252.66000000000003, 794.4] and parameters: {'max_order_exposure': 150, 'max_selection_exposure': 180, 'stake': 9.0, 'max_odds_threshold': 6.380687918128324, 'odds_change_deviation_to_trigger_trade': 0.02847370858231189, 'price_lookback_duration_seconds': 10, 'odds_change_deviation_to_trigger_take_prof': 0.10105627615214575}.\n"
     ]
    },
    {
     "name": "stdout",
     "output_type": "stream",
     "text": [
      "pnls:  [-5.710000000000002, -3.0900000000000007, -9.0, 3.480000000000002, 0.0, 21.42, -18.439999999999998, 212.34, -58.45000000000002, 0.0, 53.27999999999999, -2.55, -55.11, 0.01, 63.39999999999999, -8.46, -7.33, 17.89, 3.06, -126.96000000000001, -35.74999999999997, -6.32, 7.0600000000000005, 49.06000000000001, 0.0, 11.530000000000001, -14.32, -0.19999999999999998, 37.849999999999994, -0.48000000000000004, 31.64, -118.57999999999998, 22.159999999999997, -135.39000000000001, -31.03, -16.089999999999996, 3.6, 0.0, 0.0, -49.89000000000001, -39.92, 3.96, -16.19, -11.31, -23.83] \n",
      "sum: -252.66000000000003 sum losses : - 794.4\n"
     ]
    },
    {
     "name": "stderr",
     "output_type": "stream",
     "text": [
      "[I 2025-09-13 15:37:56,607] Trial 17 finished with values: [186.54999999999998, 208.15] and parameters: {'max_order_exposure': 90, 'max_selection_exposure': 30, 'stake': 7.0, 'max_odds_threshold': 19.900569002618745, 'odds_change_deviation_to_trigger_trade': 0.0109262661618359, 'price_lookback_duration_seconds': 25, 'odds_change_deviation_to_trigger_take_prof': 0.08089153052493536}.\n"
     ]
    },
    {
     "name": "stdout",
     "output_type": "stream",
     "text": [
      "pnls:  [-10.84, -29.47, -10.47, 6.0200000000000005, 8.21, -21.84, 6.800000000000001, -10.689999999999998, 0.0, 108.50999999999999, 21.25, 2.020000000000002, -11.350000000000001, 1.3999999999999986, -12.319999999999999, 0.0, -10.41, 11.66, 13.989999999999998, 5.510000000000002, 0.0, 2.32, -18.47, 62.050000000000004, 22.32, 1.06, 6.3, 23.38, -3.6300000000000003, -6.489999999999999, -8.640000000000004, 0.0, -9.360000000000001, 2.75, 23.189999999999998, -13.35, -10.409999999999997, -13.07, 15.16, 0.0, 23.16, 16.130000000000003, 5.33, 6.179999999999998, -7.340000000000002] \n",
      "sum: 186.54999999999998 sum losses : - 208.15\n"
     ]
    },
    {
     "name": "stderr",
     "output_type": "stream",
     "text": [
      "[I 2025-09-13 15:39:56,571] Trial 18 finished with values: [-221.25, 308.34000000000003] and parameters: {'max_order_exposure': 65, 'max_selection_exposure': 80, 'stake': 4.0, 'max_odds_threshold': 9.369904852070297, 'odds_change_deviation_to_trigger_trade': 0.0475681525543221, 'price_lookback_duration_seconds': 13, 'odds_change_deviation_to_trigger_take_prof': 0.04160157491614067}.\n"
     ]
    },
    {
     "name": "stdout",
     "output_type": "stream",
     "text": [
      "pnls:  [-54.61, 5.6, 3.06, -11.59, -37.209999999999994, -0.67, 5.350000000000003, 1.08, 2.8, 0.5, 12.34, 1.92, -21.77, 0.0, -2.4299999999999997, 6.069999999999999, -7.7399999999999975, 0.0, -3.5199999999999996, -3.0700000000000025, 0.0, -71.64000000000001, -18.340000000000003, 1.7699999999999996, 0.0, 2.72, 0.0, -0.28, 2.8, 3.5600000000000005, 0.0, -3.28, -8.0, 0.0, -48.519999999999996, 22.0, -4.0, -3.31, 0.0, 1.76, 0.0, 8.24, -8.36, 5.52, 0.0] \n",
      "sum: -221.25 sum losses : - 308.34000000000003\n"
     ]
    },
    {
     "name": "stderr",
     "output_type": "stream",
     "text": [
      "[I 2025-09-13 15:41:33,733] Trial 19 finished with values: [-13.979999999999988, 206.07] and parameters: {'max_order_exposure': 145, 'max_selection_exposure': 50, 'stake': 1.0, 'max_odds_threshold': 17.7846063661835, 'odds_change_deviation_to_trigger_trade': 0.009277864680376615, 'price_lookback_duration_seconds': 14, 'odds_change_deviation_to_trigger_take_prof': 0.5417759071692994}.\n"
     ]
    },
    {
     "name": "stdout",
     "output_type": "stream",
     "text": [
      "pnls:  [0.0, 3.8400000000000003, -7.069999999999999, 2.57, -11.250000000000002, -3.0, -32.370000000000005, -3.4400000000000004, 1.2299999999999989, -34.050000000000004, 1.15, -4.14, -1.3199999999999998, 7.440000000000006, -7.18, 0.0, -0.09, 10.869999999999997, 60.36, 0.0, 2.7300000000000004, -2.78, -4.989999999999998, 5.390000000000001, 0.0, 3.4899999999999998, 0.0, -23.48, 7.5, -3.86, -0.6, 2.780000000000002, -2.58, 0.8600000000000001, -40.859999999999985, -21.220000000000006, 2.58, 2.940000000000001, 2.56, 1.38, 0.8000000000000029, 2.389999999999999, 26.07, -1.79, 43.160000000000004] \n",
      "sum: -13.979999999999988 sum losses : - 206.07\n"
     ]
    },
    {
     "name": "stderr",
     "output_type": "stream",
     "text": [
      "[I 2025-09-13 15:42:41,787] Trial 20 finished with values: [69.27, 291.78999999999996] and parameters: {'max_order_exposure': 25, 'max_selection_exposure': 130, 'stake': 5.0, 'max_odds_threshold': 16.4584129682421, 'odds_change_deviation_to_trigger_trade': 0.04025198179945776, 'price_lookback_duration_seconds': 27, 'odds_change_deviation_to_trigger_take_prof': 0.7815941702346563}.\n"
     ]
    },
    {
     "name": "stdout",
     "output_type": "stream",
     "text": [
      "pnls:  [-27.05999999999998, 0.0, 45.86, -6.949999999999999, -0.6400000000000001, 0.0, 40.519999999999996, 0.0, -29.13, -0.78, 19.16, 0.0, -15.059999999999997, 12.019999999999996, -10.000000000000014, -0.5800000000000001, 0.0, -28.32, -18.72, -25.25, -8.58, -1.6800000000000002, -11.41, -5.0, -2.4299999999999997, 1.25, 0.0, 2.52, 0.0, 11.05, -10.0, -2.07, -0.11, 0.0, -12.44, 4.35, 2.78, -17.379999999999995, 7.65, 209.07999999999998, 0.0, 2.670000000000001, -58.199999999999996, 0.0, 2.15] \n",
      "sum: 69.27 sum losses : - 291.78999999999996\n"
     ]
    },
    {
     "name": "stderr",
     "output_type": "stream",
     "text": [
      "[I 2025-09-13 15:44:14,688] Trial 21 finished with values: [-22.630000000000003, 96.71] and parameters: {'max_order_exposure': 90, 'max_selection_exposure': 50, 'stake': 7.0, 'max_odds_threshold': 8.018337080442183, 'odds_change_deviation_to_trigger_trade': 0.10094288109515005, 'price_lookback_duration_seconds': 5, 'odds_change_deviation_to_trigger_take_prof': 0.04783225263609229}.\n"
     ]
    },
    {
     "name": "stdout",
     "output_type": "stream",
     "text": [
      "pnls:  [5.3500000000000005, -7.33, 0.0, 0.0, -28.599999999999998, 28.52, 0.0, 18.409999999999997, 0.4, 0.3200000000000003, -3.32, 0.0, 0.0, 0.0, 0.0, 15.819999999999999, 0.0, 0.0, 0.0, 0.0, 0.0, -1.95, 0.0, -0.79, -7.0, 0.0, -19.98, 0.0, 0.0, 0.0, -1.5, 1.96, 0.0, 0.0, 0.0, 0.0, -3.11, 0.0, -14.0, 0.0, 0.0, 0.0, 0.48999999999999977, 2.81, -9.129999999999999] \n",
      "sum: -22.630000000000003 sum losses : - 96.71\n"
     ]
    },
    {
     "name": "stderr",
     "output_type": "stream",
     "text": [
      "[I 2025-09-13 15:45:07,530] Trial 22 finished with values: [-37.2, 42.62] and parameters: {'max_order_exposure': 105, 'max_selection_exposure': 150, 'stake': 2.0, 'max_odds_threshold': 18.668867392095798, 'odds_change_deviation_to_trigger_trade': 0.14395836662170972, 'price_lookback_duration_seconds': 6, 'odds_change_deviation_to_trigger_take_prof': 0.03892193073672046}.\n"
     ]
    },
    {
     "name": "stdout",
     "output_type": "stream",
     "text": [
      "pnls:  [0.0, 0.0, 0.0, 1.22, 0.0, 0.0, 0.0, 0.0, 0.0, 0.0, -2.62, 0.0, 0.0, 0.0, -3.84, 0.0, 0.0, 0.0, 0.0, 0.0, -0.09, 0.0, 0.0, 1.72, 0.0, 0.0, -6.0, 0.0, 0.0, 0.0, 0.0, 0.0, -5.0, 2.48, 0.0, 0.0, 0.0, -4.0, -8.5, 0.0, -0.57, 0.0, 0.0, 0.0, -12.0] \n",
      "sum: -37.2 sum losses : - 42.62\n"
     ]
    },
    {
     "name": "stderr",
     "output_type": "stream",
     "text": [
      "[I 2025-09-13 15:47:14,681] Trial 23 finished with values: [-207.41999999999996, 609.7299999999999] and parameters: {'max_order_exposure': 165, 'max_selection_exposure': 140, 'stake': 10.0, 'max_odds_threshold': 8.233196436114927, 'odds_change_deviation_to_trigger_trade': 0.04907058074574071, 'price_lookback_duration_seconds': 7, 'odds_change_deviation_to_trigger_take_prof': 0.8943599908383986}.\n"
     ]
    },
    {
     "name": "stdout",
     "output_type": "stream",
     "text": [
      "pnls:  [-9.24, -13.229999999999997, -8.870000000000001, 0.0, -82.49999999999999, 0.0, 0.0, 0.0, -9.45, 16.91, 0.0, -2.55, 0.0, 0.0, -4.629999999999999, 0.0, 6.260000000000002, 16.729999999999986, -4.32, -10.0, 0.58, -94.55999999999999, -52.819999999999986, 0.0, 13.0, 0.0, 0.0, -93.58, 0.0, 18.94, -14.64, -37.6, 70.03999999999999, -33.379999999999995, 0.0, -10.0, 0.0, 0.0, -6.11, -10.0, -9.6, -13.59, 259.85, -89.06, 0.0] \n",
      "sum: -207.41999999999996 sum losses : - 609.7299999999999\n"
     ]
    },
    {
     "name": "stderr",
     "output_type": "stream",
     "text": [
      "[I 2025-09-13 15:48:27,428] Trial 24 finished with values: [-102.81999999999998, 508.84] and parameters: {'max_order_exposure': 195, 'max_selection_exposure': 90, 'stake': 10.0, 'max_odds_threshold': 5.24797482289338, 'odds_change_deviation_to_trigger_trade': 0.009101108333589436, 'price_lookback_duration_seconds': 24, 'odds_change_deviation_to_trigger_take_prof': 0.4322838695596277}.\n"
     ]
    },
    {
     "name": "stdout",
     "output_type": "stream",
     "text": [
      "pnls:  [0.0, 13.850000000000001, -0.41000000000000014, -8.420000000000002, 8.739999999999998, -90.0, 47.86000000000001, -1.3800000000000012, 50.63, 0.0, 11.830000000000005, 14.11, 0.0, -15.119999999999996, 18.98, 5.8, -4.760000000000001, -2.2, 47.94, 21.499999999999996, 32.54, 0.0, -17.43, 22.9, 37.84000000000001, -30.879999999999995, 37.46, -25.97, -41.400000000000006, 7.27, -25.88, -45.25, -15.1, 3.4, 14.610000000000001, 0.0, -1.1399999999999992, -10.35, -27.499999999999993, -11.880000000000004, 8.76, -4.58, -19.35, -54.26, -55.58] \n",
      "sum: -102.81999999999998 sum losses : - 508.84\n"
     ]
    },
    {
     "name": "stderr",
     "output_type": "stream",
     "text": [
      "[I 2025-09-13 15:50:27,474] Trial 25 finished with values: [224.64000000000004, 290.09999999999997] and parameters: {'max_order_exposure': 60, 'max_selection_exposure': 150, 'stake': 2.0, 'max_odds_threshold': 14.349904548506677, 'odds_change_deviation_to_trigger_trade': 0.014379304808363682, 'price_lookback_duration_seconds': 9, 'odds_change_deviation_to_trigger_take_prof': 0.759176601133651}.\n"
     ]
    },
    {
     "name": "stdout",
     "output_type": "stream",
     "text": [
      "pnls:  [0.0, -1.25, 2.9499999999999975, 0.0, -0.77, -66.00000000000001, 0.0, -3.1399999999999997, 3.3, 0.0, -1.71, -2.479999999999999, -4.78, 115.88999999999999, -2.1199999999999997, 3.6800000000000006, -22.959999999999994, -12.989999999999997, -1.9100000000000001, -18.129999999999992, 2.289999999999998, 0.0, 81.23, -10.78, 0.0, -49.13999999999999, -3.5300000000000002, 4.22, 2.25, 2.9200000000000013, -45.10000000000001, -0.78, 234.21000000000004, 7.2, 9.899999999999999, 0.0, 37.300000000000004, 4.069999999999997, 3.31, -9.58, 0.0, -2.0, 0.02, 0.0, -30.949999999999996] \n",
      "sum: 224.64000000000004 sum losses : - 290.09999999999997\n"
     ]
    },
    {
     "name": "stderr",
     "output_type": "stream",
     "text": [
      "[I 2025-09-13 15:51:34,454] Trial 26 finished with values: [0.0, 0.0] and parameters: {'max_order_exposure': 5, 'max_selection_exposure': 20, 'stake': 8.0, 'max_odds_threshold': 17.707136865516315, 'odds_change_deviation_to_trigger_trade': 0.14970606608673215, 'price_lookback_duration_seconds': 15, 'odds_change_deviation_to_trigger_take_prof': 0.33187002352262035}.\n"
     ]
    },
    {
     "name": "stdout",
     "output_type": "stream",
     "text": [
      "pnls:  [0.0, 0.0, 0.0, 0.0, 0.0, 0.0, 0.0, 0.0, 0.0, 0.0, 0.0, 0.0, 0.0, 0.0, 0.0, 0.0, 0.0, 0.0, 0.0, 0.0, 0.0, 0.0, 0.0, 0.0, 0.0, 0.0, 0.0, 0.0, 0.0, 0.0, 0.0, 0.0, 0.0, 0.0, 0.0, 0.0, 0.0, 0.0, 0.0, 0.0, 0.0, 0.0, 0.0, 0.0, 0.0] \n",
      "sum: 0.0 sum losses : - 0.0\n"
     ]
    },
    {
     "name": "stderr",
     "output_type": "stream",
     "text": [
      "[I 2025-09-13 15:54:07,684] Trial 27 finished with values: [45.169999999999995, 397.21000000000004] and parameters: {'max_order_exposure': 170, 'max_selection_exposure': 170, 'stake': 1.0, 'max_odds_threshold': 6.863540109802222, 'odds_change_deviation_to_trigger_trade': 0.005717088616835215, 'price_lookback_duration_seconds': 6, 'odds_change_deviation_to_trigger_take_prof': 0.021049271900721287}.\n"
     ]
    },
    {
     "name": "stdout",
     "output_type": "stream",
     "text": [
      "pnls:  [-16.150000000000002, 0.26, 70.95, 0.0, -0.9799999999999999, 39.88, 61.62999999999998, -3.79, 0.0, -61.57, 0.0, 30.140000000000008, -0.12, 0.0, 0.22, 8.420000000000002, 3.1300000000000003, -2.3100000000000005, -1.4699999999999998, -1.5999999999999996, 0.16999999999999935, 0.18000000000000016, 54.55000000000001, 35.52, 0.47, 2.1399999999999997, -6.79, -24.869999999999997, -11.410000000000007, 0.0, 15.620000000000001, 5.249999999999999, -8.51, -58.47, 40.71000000000001, -1.63, -68.72, -1.9700000000000004, 1.29, 2.7800000000000002, 59.86999999999998, -1.0, 9.200000000000001, -3.23, -122.62] \n",
      "sum: 45.169999999999995 sum losses : - 397.21000000000004\n"
     ]
    },
    {
     "name": "stderr",
     "output_type": "stream",
     "text": [
      "[I 2025-09-13 15:54:41,491] Trial 28 finished with values: [-55.35999999999999, 133.45] and parameters: {'max_order_exposure': 95, 'max_selection_exposure': 90, 'stake': 2.0, 'max_odds_threshold': 13.732416060185576, 'odds_change_deviation_to_trigger_trade': 0.05722170929743804, 'price_lookback_duration_seconds': 10, 'odds_change_deviation_to_trigger_take_prof': 0.19147080999125882}.\n"
     ]
    },
    {
     "name": "stdout",
     "output_type": "stream",
     "text": [
      "pnls:  [0.0, 0.0, -4.0, -2.0, 0.0, 0.0, 0.0, 0.0, 6.2, 19.22, 0.0, 0.0, 0.0, -0.11, -10.0, 1.44, 0.0, 0.9799999999999999, 0.0, 0.81, 0.0, -9.43, -28.779999999999998, 0.0, -0.25, -3.7800000000000002, 7.58, 5.0, -2.0300000000000002, 1.9, -3.93, -19.43, 8.41, -2.0, -4.01, 0.0, -3.2399999999999998, 2.51, 0.0, -17.0, 14.020000000000003, 1.16, -15.26, -8.2, 8.860000000000001] \n",
      "sum: -55.35999999999999 sum losses : - 133.45\n"
     ]
    },
    {
     "name": "stderr",
     "output_type": "stream",
     "text": [
      "[I 2025-09-13 15:56:45,067] Trial 29 finished with values: [-20.45, 39.839999999999996] and parameters: {'max_order_exposure': 180, 'max_selection_exposure': 160, 'stake': 1.0, 'max_odds_threshold': 12.98075831736601, 'odds_change_deviation_to_trigger_trade': 0.1878235070359515, 'price_lookback_duration_seconds': 28, 'odds_change_deviation_to_trigger_take_prof': 0.09530417241592824}.\n"
     ]
    },
    {
     "name": "stdout",
     "output_type": "stream",
     "text": [
      "pnls:  [0.0, 0.0, -0.2, -1.54, 0.0, 0.0, 0.0, 0.0, 0.0, -2.65, -8.0, 4.120000000000001, -7.71, 0.0, 0.0, -6.52, 4.75, 1.6400000000000001, 0.0, -2.0, 0.0, 4.0, 0.0, 0.0, 0.0, -1.0, -5.5, 0.0, 0.0, 0.0, 0.0, 0.0, 2.38, -0.07, 2.5, 0.0, 0.0, 0.0, -0.65, 0.0, 0.0, 0.0, -1.0, 0.0, -3.0] \n",
      "sum: -20.45 sum losses : - 39.839999999999996\n"
     ]
    },
    {
     "name": "stderr",
     "output_type": "stream",
     "text": [
      "[I 2025-09-13 15:57:27,116] Trial 30 finished with values: [2.85, 7.29] and parameters: {'max_order_exposure': 105, 'max_selection_exposure': 150, 'stake': 2.0, 'max_odds_threshold': 3.1519349660486715, 'odds_change_deviation_to_trigger_trade': 0.14395836662170972, 'price_lookback_duration_seconds': 10, 'odds_change_deviation_to_trigger_take_prof': 0.03892193073672046}.\n"
     ]
    },
    {
     "name": "stdout",
     "output_type": "stream",
     "text": [
      "pnls:  [0.0, 2.02, 0.0, 0.0, 2.26, 0.0, 0.0, 0.0, 0.0, 0.0, 0.0, 0.0, 0.0, 0.0, -2.0, 0.0, -2.0, 0.0, 0.0, 0.0, 0.0, 0.0, 0.0, -2.0, 0.0, 0.0, 0.0, 0.0, 0.0, 0.0, -1.29, 3.74, 0.0, 0.0, 0.0, 0.0, 0.0, 0.0, 0.0, 2.12, 0.0, 0.0, 0.0, 0.0, 0.0] \n",
      "sum: 2.85 sum losses : - 7.29\n"
     ]
    },
    {
     "name": "stderr",
     "output_type": "stream",
     "text": [
      "[I 2025-09-13 15:59:30,334] Trial 31 finished with values: [-6.99, 27.78] and parameters: {'max_order_exposure': 105, 'max_selection_exposure': 150, 'stake': 2.0, 'max_odds_threshold': 18.668867392095798, 'odds_change_deviation_to_trigger_trade': 0.14395836662170972, 'price_lookback_duration_seconds': 6, 'odds_change_deviation_to_trigger_take_prof': 0.03892193073672046}.\n"
     ]
    },
    {
     "name": "stdout",
     "output_type": "stream",
     "text": [
      "pnls:  [0.0, 0.0, 0.0, 0.0, -0.13, 0.0, 0.0, 0.0, -0.33, 0.0, 0.0, 0.0, -1.65, 0.0, -4.0, 0.0, 0.0, -2.85, 0.0, -3.84, 0.0, -4.0600000000000005, 2.34, 0.0, -4.0, 0.0, 0.0, -4.0, -0.09, 0.0, 17.3, 0.0, 0.0, 0.0, 0.0, 0.0, 0.0, 0.0, -2.83, 0.73, 0.42, 0.0, 0.0, 0.0, 0.0] \n",
      "sum: -6.99 sum losses : - 27.78\n"
     ]
    },
    {
     "name": "stderr",
     "output_type": "stream",
     "text": [
      "[I 2025-09-13 16:00:07,190] Trial 32 finished with values: [226.48999999999998, 120.28] and parameters: {'max_order_exposure': 105, 'max_selection_exposure': 150, 'stake': 7.0, 'max_odds_threshold': 18.668867392095798, 'odds_change_deviation_to_trigger_trade': 0.07314090421113367, 'price_lookback_duration_seconds': 2, 'odds_change_deviation_to_trigger_take_prof': 0.9850706208723358}.\n"
     ]
    },
    {
     "name": "stdout",
     "output_type": "stream",
     "text": [
      "pnls:  [0.0, 0.01, -19.770000000000003, 0.0, 9.36, -28.53, 0.0, 0.0, 0.0, 0.0, 6.58, 0.0, 36.4, -10.899999999999999, 0.55, 5.95, 0.0, 0.0, -41.330000000000005, 0.27, -0.09, 0.0, 0.0, -5.8999999999999995, 0.0, -2.86, 32.51, 45.64, 2.34, 1.26, 0.0, 190.25, 15.649999999999999, 0.0, 0.0, 0.0, 0.0, -2.34, 0.0, 0.0, 0.0, -1.56, 0.0, 0.0, -7.0] \n",
      "sum: 226.48999999999998 sum losses : - 120.28\n"
     ]
    },
    {
     "name": "stderr",
     "output_type": "stream",
     "text": [
      "[I 2025-09-13 16:02:06,752] Trial 33 finished with values: [-160.79000000000002, 523.2] and parameters: {'max_order_exposure': 195, 'max_selection_exposure': 90, 'stake': 10.0, 'max_odds_threshold': 5.24797482289338, 'odds_change_deviation_to_trigger_trade': 0.03306095219744098, 'price_lookback_duration_seconds': 24, 'odds_change_deviation_to_trigger_take_prof': 0.4322838695596277}.\n"
     ]
    },
    {
     "name": "stdout",
     "output_type": "stream",
     "text": [
      "pnls:  [-4.810000000000002, 0.0, -15.2, 33.040000000000006, 0.9299999999999999, 0.0, -14.280000000000001, -6.41, 0.0, 11.620000000000001, -18.509999999999994, -29.18, -10.5, -4.279999999999999, -7.23, -10.39, -64.95, -12.18000000000001, -23.01, 0.0, 33.08, 0.0, -3.47, -2.7, -30.14, -25.849999999999998, -64.06, 51.379999999999995, -0.01, -13.07, 0.0, -11.560000000000004, -14.649999999999999, -0.11, -37.19, 0.0, -48.910000000000004, -44.16, 0.0, 108.07000000000001, 61.510000000000005, 0.0, 40.96, 21.82, -6.390000000000008] \n",
      "sum: -160.79000000000002 sum losses : - 523.2\n"
     ]
    },
    {
     "name": "stderr",
     "output_type": "stream",
     "text": [
      "[I 2025-09-13 16:02:32,190] Trial 34 finished with values: [-25.549999999999997, 90.58] and parameters: {'max_order_exposure': 105, 'max_selection_exposure': 150, 'stake': 7.0, 'max_odds_threshold': 6.409042616645327, 'odds_change_deviation_to_trigger_trade': 0.14395836662170972, 'price_lookback_duration_seconds': 6, 'odds_change_deviation_to_trigger_take_prof': 0.08089153052493536}.\n"
     ]
    },
    {
     "name": "stdout",
     "output_type": "stream",
     "text": [
      "pnls:  [0.0, 0.0, 0.0, 0.0, 0.0, 3.5, 0.0, 0.0, 17.78, 0.0, -7.0, 0.0, -1.45, 0.0, 0.0, 0.0, -8.2, 0.0, -7.0, 0.0, 0.0, 0.0, 43.75, 0.0, 0.0, 0.0, 0.0, 0.0, -14.0, -7.0, 0.0, 0.0, 0.0, 0.0, 0.0, -14.0, 0.0, -7.0, 0.0, 0.0, -13.42, 0.0, 0.0, 0.0, -11.51] \n",
      "sum: -25.549999999999997 sum losses : - 90.58\n"
     ]
    },
    {
     "name": "stderr",
     "output_type": "stream",
     "text": [
      "[I 2025-09-13 16:05:17,123] Trial 35 finished with values: [-71.68000000000008, 603.7500000000001] and parameters: {'max_order_exposure': 160, 'max_selection_exposure': 170, 'stake': 4.0, 'max_odds_threshold': 7.784837787504579, 'odds_change_deviation_to_trigger_trade': 0.006101272533313021, 'price_lookback_duration_seconds': 30, 'odds_change_deviation_to_trigger_take_prof': 0.07979255019905714}.\n"
     ]
    },
    {
     "name": "stdout",
     "output_type": "stream",
     "text": [
      "pnls:  [8.09, -1.5999999999999996, -4.38, -11.110000000000001, -0.18999999999999995, 0.47, 2.21, 22.2, 75.64000000000003, -130.66000000000003, -18.49, 0.0, 0.0, -50.39999999999999, -10.340000000000002, -45.69, -3.6900000000000004, 58.56, -55.83000000000003, -25.310000000000002, -2.2, -1.1400000000000001, 13.89, 55.249999999999986, -15.640000000000011, -11.799999999999999, 51.539999999999985, 3.64, -53.58999999999997, 29.63, 44.05, 6.8500000000000005, -29.030000000000015, 35.91999999999997, 16.630000000000003, 39.85999999999999, 0.0, -33.410000000000004, 5.02, -12.110000000000003, -1.31, 25.52, -85.83000000000001, 0.0, 37.10000000000001] \n",
      "sum: -71.68000000000008 sum losses : - 603.7500000000001\n"
     ]
    },
    {
     "name": "stderr",
     "output_type": "stream",
     "text": [
      "[I 2025-09-13 16:06:08,787] Trial 36 finished with values: [-13.520000000000001, 31.85] and parameters: {'max_order_exposure': 40, 'max_selection_exposure': 120, 'stake': 1.0, 'max_odds_threshold': 12.98075831736601, 'odds_change_deviation_to_trigger_trade': 0.1878235070359515, 'price_lookback_duration_seconds': 28, 'odds_change_deviation_to_trigger_take_prof': 0.25841963641203636}.\n"
     ]
    },
    {
     "name": "stdout",
     "output_type": "stream",
     "text": [
      "pnls:  [0.0, -1.0, 2.9699999999999998, 0.0, 0.0, 0.0, 0.0, 0.0, 0.0, 0.0, 0.0, 0.0, 0.0, 0.0, 0.0, 4.75, -0.33, 0.0, 0.0, -2.95, -12.99, 0.0, -4.26, 0.0, 9.04, -2.0, -1.0, -5.05, 0.0, 0.0, 0.0, -0.2, 0.0, 1.57, 0.0, 0.0, 0.0, 0.0, -1.0, 0.0, 0.0, 0.0, 0.0, -1.0, -0.07] \n",
      "sum: -13.520000000000001 sum losses : - 31.85\n"
     ]
    },
    {
     "name": "stderr",
     "output_type": "stream",
     "text": [
      "[I 2025-09-13 17:37:44,048] Trial 37 finished with values: [-127.36, 184.42] and parameters: {'max_order_exposure': 155, 'max_selection_exposure': 20, 'stake': 7.0, 'max_odds_threshold': 8.018337080442183, 'odds_change_deviation_to_trigger_trade': 0.10094288109515005, 'price_lookback_duration_seconds': 28, 'odds_change_deviation_to_trigger_take_prof': 0.25841963641203636}.\n"
     ]
    },
    {
     "name": "stdout",
     "output_type": "stream",
     "text": [
      "pnls:  [-7.0, 2.81, 0.0, -19.78, -13.86, 11.060000000000002, -14.14, -3.8499999999999996, 4.35, 0.73, -14.0, -1.2, 11.129999999999999, 0.0, 0.0, -4.619999999999999, -12.64, 0.0, 0.0, 0.0, 0.0, -14.0, 0.0, 0.0, -3.8500000000000014, -7.0, 0.0, 0.0, -14.0, 0.0, -16.45, 0.0, -0.06, -18.66, 0.0, -0.94, 0.0, -3.77, 0.0, 8.92, 0.0, -14.6, 0.0, 18.060000000000002, 0.0] \n",
      "sum: -127.36 sum losses : - 184.42\n"
     ]
    },
    {
     "name": "stderr",
     "output_type": "stream",
     "text": [
      "[I 2025-09-13 17:38:38,280] Trial 38 finished with values: [-311.57, 565.29] and parameters: {'max_order_exposure': 200, 'max_selection_exposure': 70, 'stake': 9.0, 'max_odds_threshold': 7.784837787504579, 'odds_change_deviation_to_trigger_trade': 0.006101272533313021, 'price_lookback_duration_seconds': 2, 'odds_change_deviation_to_trigger_take_prof': 0.9850706208723358}.\n"
     ]
    },
    {
     "name": "stdout",
     "output_type": "stream",
     "text": [
      "pnls:  [12.6, -10.799999999999997, -33.07, -26.00999999999999, -30.48, 6.759999999999998, -24.59, -65.78999999999999, -4.5, 37.91, 15.640000000000002, 4.700000000000002, -4.14, -8.849999999999994, 0.0, -54.33000000000001, 17.719999999999995, 0.0, 36.129999999999995, -35.66000000000001, 4.359999999999999, 14.73, -26.620000000000005, 6.6, -13.110000000000003, -19.869999999999997, -14.869999999999994, 2.74, 0.0, -41.459999999999994, 21.42, 6.640000000000001, -19.22, -5.189999999999995, -2.2700000000000005, 17.45, -17.750000000000004, 11.78, 0.0, -22.63999999999999, 2.3099999999999987, 34.23, 0.0, -28.380000000000003, -55.69] \n",
      "sum: -311.57 sum losses : - 565.29\n"
     ]
    },
    {
     "name": "stderr",
     "output_type": "stream",
     "text": [
      "[I 2025-09-13 17:41:21,894] Trial 39 finished with values: [158.27, 196.28] and parameters: {'max_order_exposure': 40, 'max_selection_exposure': 80, 'stake': 8.0, 'max_odds_threshold': 2.3157847955758655, 'odds_change_deviation_to_trigger_trade': 0.036806399408241305, 'price_lookback_duration_seconds': 6, 'odds_change_deviation_to_trigger_take_prof': 0.04160157491614067}.\n"
     ]
    },
    {
     "name": "stdout",
     "output_type": "stream",
     "text": [
      "pnls:  [-8.0, 0.03, 33.519999999999996, -4.68, 15.440000000000001, -39.79, 31.29, -2.24, 0.0, 0.0, 2.45, -5.470000000000001, 35.51, 20.56, 0.0, 0.0, 11.27, 7.76, -16.0, 25.6, -8.32, -8.0, 16.240000000000002, 0.0, 0.0, 0.0, 0.0, 50.620000000000005, 8.49, 0.0, 0.0, 50.68, -69.12, 24.16, 0.0, 4.73, 5.12, 0.0, -7.199999999999999, -3.46, 0.0, -16.0, -8.0, 0.0, 11.08] \n",
      "sum: 158.27 sum losses : - 196.28\n"
     ]
    },
    {
     "name": "stderr",
     "output_type": "stream",
     "text": [
      "[I 2025-09-13 17:41:39,884] Trial 40 finished with values: [-706.6899999999999, 1059.57] and parameters: {'max_order_exposure': 120, 'max_selection_exposure': 170, 'stake': 5.0, 'max_odds_threshold': 16.068397345654567, 'odds_change_deviation_to_trigger_trade': 0.009101108333589436, 'price_lookback_duration_seconds': 24, 'odds_change_deviation_to_trigger_take_prof': 0.4322838695596277}.\n"
     ]
    },
    {
     "name": "stdout",
     "output_type": "stream",
     "text": [
      "pnls:  [-161.42000000000002, -19.07, 0.0, -8.580000000000002, 0.44, 12.74, -88.54, -122.44000000000003, 0.0, 14.29, 0.0, -99.9, -14.61, 0.0, 37.329999999999984, 13.05, 38.50000000000003, 38.34, 1.9899999999999998, 11.259999999999998, 2.96, -5.43, 1.0500000000000007, 0.0, -54.55999999999999, 123.05, 0.1, 18.72999999999999, -1.1799999999999997, 0.0, -4.55, -36.08, 6.53, 32.519999999999996, -34.56999999999998, -35.9, -52.9, -5.37, -101.34000000000002, -1.5, -130.79999999999995, 0.0, 0.0, -72.40999999999998, -8.420000000000002] \n",
      "sum: -706.6899999999999 sum losses : - 1059.57\n"
     ]
    },
    {
     "name": "stderr",
     "output_type": "stream",
     "text": [
      "[I 2025-09-13 17:44:57,491] Trial 41 finished with values: [-60.040000000000084, 800.2] and parameters: {'max_order_exposure': 30, 'max_selection_exposure': 170, 'stake': 9.0, 'max_odds_threshold': 5.127954060470222, 'odds_change_deviation_to_trigger_trade': 0.006101272533313021, 'price_lookback_duration_seconds': 16, 'odds_change_deviation_to_trigger_take_prof': 0.11693598821624407}.\n"
     ]
    },
    {
     "name": "stdout",
     "output_type": "stream",
     "text": [
      "pnls:  [-43.74, -75.94, -24.05000000000001, -75.87, 18.759999999999998, 115.94000000000001, 23.070000000000004, 0.0, -9.899999999999997, -64.64999999999999, 43.929999999999986, -20.360000000000007, 18.119999999999997, 8.629999999999997, 23.369999999999997, -25.87000000000001, 2.64, 0.8999999999999986, 7.4399999999999995, 71.96000000000001, -57.53, 161.01, 16.39999999999999, 21.79, -53.88000000000001, 0.0, 4.4, 5.819999999999995, 46.76, 10.61, 2.7199999999999918, -73.59000000000002, -67.17, -55.33, 20.27, 74.11, -27.0, 9.780000000000001, 31.41, 0.32, -63.48999999999999, 0.0, -58.23000000000001, 0.0, -3.6] \n",
      "sum: -60.040000000000084 sum losses : - 800.2\n"
     ]
    },
    {
     "name": "stderr",
     "output_type": "stream",
     "text": [
      "[I 2025-09-13 17:45:10,467] Trial 42 finished with values: [-82.65, 173.11] and parameters: {'max_order_exposure': 90, 'max_selection_exposure': 30, 'stake': 7.0, 'max_odds_threshold': 14.349904548506677, 'odds_change_deviation_to_trigger_trade': 0.014379304808363682, 'price_lookback_duration_seconds': 9, 'odds_change_deviation_to_trigger_take_prof': 0.759176601133651}.\n"
     ]
    },
    {
     "name": "stdout",
     "output_type": "stream",
     "text": [
      "pnls:  [0.4900000000000002, -11.27, -4.9399999999999995, 2.74, -20.019999999999996, 0.0, -0.4100000000000028, -4.869999999999999, 0.0, 0.0, 0.0, -11.1, 3.33, 18.5, 0.41999999999999904, 16.619999999999997, 0.0, -6.370000000000001, -7.57, -1.8200000000000012, -0.7599999999999998, 6.680000000000001, 12.749999999999998, -10.49, 0.009999999999999787, -13.420000000000002, -5.390000000000001, -5.939999999999998, 6.94, 0.0, -23.8, 0.0, 0.0, -1.48, -13.680000000000001, -4.0200000000000005, 0.0, -8.14, -8.650000000000002, 5.89, 4.6, -2.65, 0.55, 10.940000000000003, -6.3199999999999985] \n",
      "sum: -82.65 sum losses : - 173.11\n"
     ]
    },
    {
     "name": "stderr",
     "output_type": "stream",
     "text": [
      "[I 2025-09-13 17:48:55,496] Trial 44 finished with values: [-240.66000000000003, 381.26] and parameters: {'max_order_exposure': 150, 'max_selection_exposure': 110, 'stake': 1.0, 'max_odds_threshold': 17.7846063661835, 'odds_change_deviation_to_trigger_trade': 0.009277864680376615, 'price_lookback_duration_seconds': 14, 'odds_change_deviation_to_trigger_take_prof': 0.5417759071692994}.\n"
     ]
    },
    {
     "name": "stdout",
     "output_type": "stream",
     "text": [
      "pnls:  [0.0, 38.24999999999999, 0.0, -13.21, -7.069999999999999, -0.6, 2.559999999999999, 4.519999999999999, 0.0, 1.15, -28.95, -38.650000000000006, -0.3999999999999989, 0.5700000000000007, 0.0, 3.21, -36.32000000000001, -36.510000000000005, 0.0, 2.7300000000000004, 0.57, 3.2199999999999998, -16.380000000000003, 1.29, 6.11, 2.9799999999999986, -0.55, -17.45, -48.83999999999999, -84.46000000000001, -3.0, 4.67, -6.390000000000001, -6.46, -4.82, 6.399999999999999, 2.69, 0.7899999999999999, -4.630000000000002, 9.390000000000004, 32.809999999999995, -18.07, -1.4400000000000002, 16.690000000000005, -7.059999999999999] \n",
      "sum: -240.66000000000003 sum losses : - 381.26\n"
     ]
    },
    {
     "name": "stderr",
     "output_type": "stream",
     "text": [
      "[I 2025-09-13 17:48:59,689] Trial 43 finished with values: [488.72, 441.7399999999999] and parameters: {'max_order_exposure': 30, 'max_selection_exposure': 170, 'stake': 7.0, 'max_odds_threshold': 5.127954060470222, 'odds_change_deviation_to_trigger_trade': 0.024552036108306984, 'price_lookback_duration_seconds': 16, 'odds_change_deviation_to_trigger_take_prof': 0.07652571267391034}.\n"
     ]
    },
    {
     "name": "stdout",
     "output_type": "stream",
     "text": [
      "pnls:  [-37.66999999999998, -15.32, 2.86, 14.189999999999996, 18.2, 0.0, -13.64, 13.120000000000001, 0.0, 54.41999999999999, 5.819999999999999, 35.839999999999996, 67.47, -7.38, 16.389999999999997, -10.47, 2.3600000000000008, 56.65000000000001, -39.09, 167.05999999999997, -7.0, 0.0, 233.32, -9.370000000000001, 5.99, -4.940000000000003, 0.0, 0.22000000000000064, 0.0, -32.129999999999995, 2.12, 90.30999999999999, -99.36, 21.41, 18.540000000000006, 50.019999999999996, -17.779999999999998, -20.679999999999996, -11.83, -3.669999999999999, -0.19999999999999996, -20.200000000000003, -13.049999999999999, -77.95999999999994, 54.14999999999999] \n",
      "sum: 488.72 sum losses : - 441.7399999999999\n"
     ]
    },
    {
     "name": "stderr",
     "output_type": "stream",
     "text": [
      "[I 2025-09-13 17:52:05,227] Trial 46 finished with values: [167.16000000000003, 430.97999999999996] and parameters: {'max_order_exposure': 160, 'max_selection_exposure': 150, 'stake': 9.0, 'max_odds_threshold': 7.331695203223062, 'odds_change_deviation_to_trigger_trade': 0.007888578281088708, 'price_lookback_duration_seconds': 9, 'odds_change_deviation_to_trigger_take_prof': 0.759176601133651}.\n"
     ]
    },
    {
     "name": "stdout",
     "output_type": "stream",
     "text": [
      "pnls:  [153.54, 0.0, 107.14, 8.860000000000001, 5.179999999999997, -51.25999999999999, -26.11999999999999, 9.309999999999999, 9.739999999999998, 0.0, 9.52, 5.21, 8.239999999999998, 20.27, 0.0, 0.0, 15.010000000000002, 44.82, 27.080000000000005, -45.0, -57.85000000000002, -3.3499999999999996, -19.599999999999998, -18.1, 1.08, -9.0, -63.64999999999999, 12.24, -36.730000000000004, 1.8599999999999852, 7.469999999999999, 4.42, -5.229999999999995, 0.0, 6.91, 0.0, 78.83000000000001, 1.4100000000000001, 0.0, -76.46000000000001, 0.0, 0.0, 37.38000000000001, -18.62999999999998, 22.62] \n",
      "sum: 167.16000000000003 sum losses : - 430.97999999999996\n"
     ]
    },
    {
     "name": "stderr",
     "output_type": "stream",
     "text": [
      "[I 2025-09-13 17:52:15,700] Trial 45 finished with values: [-182.7, 202.35999999999999] and parameters: {'max_order_exposure': 90, 'max_selection_exposure': 30, 'stake': 3.0, 'max_odds_threshold': 17.085952014732694, 'odds_change_deviation_to_trigger_trade': 0.10094288109515005, 'price_lookback_duration_seconds': 16, 'odds_change_deviation_to_trigger_take_prof': 0.26786529123408104}.\n"
     ]
    },
    {
     "name": "stdout",
     "output_type": "stream",
     "text": [
      "pnls:  [-3.0, 0.0, 2.32, -15.46, -13.8, 0.0, -4.29, -2.84, 0.0, 0.0, 0.0, 7.8, 0.0, 0.0, 0.0, 0.0, 0.0, -10.25, -18.72, 0.07, 0.04, 0.0, -10.969999999999999, -3.0, -17.83, 0.0, -24.01, -0.24, -3.0, -26.59, 0.0, -10.82, -0.8999999999999999, 0.0, 0.0, 0.0, -10.149999999999999, 2.01, 0.99, -19.2, -7.29, 0.0, 6.43, 0.0, 0.0] \n",
      "sum: -182.7 sum losses : - 202.35999999999999\n"
     ]
    },
    {
     "name": "stderr",
     "output_type": "stream",
     "text": [
      "[I 2025-09-13 17:55:43,415] Trial 48 finished with values: [-140.04000000000002, 193.3] and parameters: {'max_order_exposure': 60, 'max_selection_exposure': 30, 'stake': 2.0, 'max_odds_threshold': 14.349904548506677, 'odds_change_deviation_to_trigger_trade': 0.007178856520514159, 'price_lookback_duration_seconds': 9, 'odds_change_deviation_to_trigger_take_prof': 0.759176601133651}.\n"
     ]
    },
    {
     "name": "stdout",
     "output_type": "stream",
     "text": [
      "pnls:  [3.4100000000000006, -2.6999999999999993, 5.680000000000001, 0.46, -15.809999999999999, -13.440000000000001, -4.8800000000000034, -10.879999999999999, -8.75, 1.3999999999999984, -3.859999999999999, 0.0, 0.15000000000000013, -11.5, 6.329999999999998, -13.899999999999999, -2.0, -0.9700000000000002, -5.18, -18.810000000000002, 1.02, 1.8800000000000008, -1.2300000000000013, 4.53, 5.34, -21.96, 0.6000000000000001, 16.61, -15.490000000000002, 0.0, 2.7755575615628914e-17, -9.7, -7.18, -2.09, 0.6500000000000001, 5.2, 0.0, -4.049999999999999, -5.5600000000000005, -10.210000000000003, -1.9800000000000018, 0.0, 0.0, -1.1699999999999986, 0.0] \n",
      "sum: -140.04000000000002 sum losses : - 193.3\n"
     ]
    },
    {
     "name": "stderr",
     "output_type": "stream",
     "text": [
      "[I 2025-09-13 17:55:55,820] Trial 47 finished with values: [23.730000000000008, 234.07] and parameters: {'max_order_exposure': 25, 'max_selection_exposure': 30, 'stake': 7.0, 'max_odds_threshold': 16.4584129682421, 'odds_change_deviation_to_trigger_trade': 0.0109262661618359, 'price_lookback_duration_seconds': 25, 'odds_change_deviation_to_trigger_take_prof': 0.08089153052493536}.\n"
     ]
    },
    {
     "name": "stdout",
     "output_type": "stream",
     "text": [
      "pnls:  [1.8900000000000001, 1.3999999999999986, -14.809999999999999, 0.0, -8.329999999999998, -19.610000000000003, 1.4000000000000021, -0.13999999999999968, -9.39, -12.319999999999999, -0.36, 13.989999999999998, -5.41, -10.900000000000002, 6.0200000000000005, -6.18, 0.0, -8.97, 5.77, 1.9000000000000004, -6.94, -5.390000000000001, -25.889999999999997, 7.65, 9.540000000000001, 23.38, -15.549999999999999, -4.600000000000003, -7.1400000000000015, 11.52, 11.620000000000001, -3.4400000000000013, 74.23, 20.8, 7.52, -21.84, 0.0, -22.86, -7.290000000000001, 26.16, 0.32000000000000206, 32.690000000000005, -1.5399999999999991, -4.480000000000002, -10.689999999999998] \n",
      "sum: 23.730000000000008 sum losses : - 234.07\n"
     ]
    },
    {
     "name": "stderr",
     "output_type": "stream",
     "text": [
      "[I 2025-09-13 17:58:33,801] Trial 50 finished with values: [0.0, 0.0] and parameters: {'max_order_exposure': 5, 'max_selection_exposure': 150, 'stake': 8.0, 'max_odds_threshold': 14.349904548506677, 'odds_change_deviation_to_trigger_trade': 0.14970606608673215, 'price_lookback_duration_seconds': 9, 'odds_change_deviation_to_trigger_take_prof': 0.759176601133651}.\n"
     ]
    },
    {
     "name": "stdout",
     "output_type": "stream",
     "text": [
      "pnls:  [0.0, 0.0, 0.0, 0.0, 0.0, 0.0, 0.0, 0.0, 0.0, 0.0, 0.0, 0.0, 0.0, 0.0, 0.0, 0.0, 0.0, 0.0, 0.0, 0.0, 0.0, 0.0, 0.0, 0.0, 0.0, 0.0, 0.0, 0.0, 0.0, 0.0, 0.0, 0.0, 0.0, 0.0, 0.0, 0.0, 0.0, 0.0, 0.0, 0.0, 0.0, 0.0, 0.0, 0.0, 0.0] \n",
      "sum: 0.0 sum losses : - 0.0\n",
      "pnls:  [6.319999999999999, 0.0, 27.75, 0.0, -6.0, 44.400000000000006, 0.0, 2.42, -7.22, 16.53, -18.0, 32.6, 10.02, 38.76, -81.42, 39.99, 60.120000000000005, 18.98, -31.020000000000003, 22.94, 0.0, 60.69, 0.0, 0.0, 58.690000000000005, 2.13, 43.84, -90.36, 2.32, -9.250000000000004, 0.0, 45.379999999999995, 31.96999999999999, -36.28, -74.28, 7.610000000000001, -91.04, 38.339999999999996, 2.0500000000000003, 1.8699999999999999, 9.26, 0.0, 2.8200000000000003, 0.0, -22.859999999999996] \n",
      "sum: 160.07 sum losses : - 467.73\n"
     ]
    },
    {
     "name": "stderr",
     "output_type": "stream",
     "text": [
      "[I 2025-09-13 17:58:44,012] Trial 49 finished with values: [160.07, 467.73] and parameters: {'max_order_exposure': 200, 'max_selection_exposure': 100, 'stake': 6.0, 'max_odds_threshold': 1.8620861317051791, 'odds_change_deviation_to_trigger_trade': 0.020183238532332216, 'price_lookback_duration_seconds': 26, 'odds_change_deviation_to_trigger_take_prof': 0.06886493707803996}.\n",
      "[I 2025-09-13 18:01:54,819] Trial 51 finished with values: [-596.0600000000001, 1069.27] and parameters: {'max_order_exposure': 40, 'max_selection_exposure': 160, 'stake': 10.0, 'max_odds_threshold': 7.581737807250001, 'odds_change_deviation_to_trigger_trade': 0.006101272533313021, 'price_lookback_duration_seconds': 6, 'odds_change_deviation_to_trigger_take_prof': 0.09530417241592824}.\n"
     ]
    },
    {
     "name": "stdout",
     "output_type": "stream",
     "text": [
      "pnls:  [1.15, 6.06, -62.519999999999996, -26.749999999999986, 49.56999999999999, -23.20000000000001, -49.87000000000002, -25.899999999999988, -95.61, -93.11, 58.989999999999995, -15.100000000000012, -63.660000000000004, -8.06, -0.050000000000001266, -35.44, 23.92, -38.48999999999999, -66.36999999999999, 47.37, 27.470000000000002, -12.15, 27.929999999999996, 16.64, 0.0, -52.82000000000002, -87.02999999999999, -86.49000000000001, 1.33, -7.640000000000001, -5.030000000000005, -89.97000000000003, 0.0, 7.16, -20.06, 54.480000000000004, 6.690000000000005, 18.180000000000007, -79.26, 95.56000000000002, 9.709999999999994, 0.0, -24.689999999999998, 20.599999999999998, 0.40000000000000036] \n",
      "sum: -596.0600000000001 sum losses : - 1069.27\n"
     ]
    },
    {
     "name": "stderr",
     "output_type": "stream",
     "text": [
      "[I 2025-09-13 18:02:15,160] Trial 52 finished with values: [-20.66, 47.14] and parameters: {'max_order_exposure': 145, 'max_selection_exposure': 120, 'stake': 1.0, 'max_odds_threshold': 17.7846063661835, 'odds_change_deviation_to_trigger_trade': 0.1878235070359515, 'price_lookback_duration_seconds': 28, 'odds_change_deviation_to_trigger_take_prof': 0.25841963641203636}.\n"
     ]
    },
    {
     "name": "stdout",
     "output_type": "stream",
     "text": [
      "pnls:  [0.0, -1.0, 0.0, -1.0, 0.0, 0.0, 3.4, 0.0, -2.0, -3.0, 0.0, 11.9, 0.0, 0.0, -1.0, 3.1, -3.0, 0.0, 3.1399999999999997, -8.9, 0.0, 0.0, -1.76, 0.0, 0.0, 0.0, 0.0, -7.0, 0.0, 0.0, 0.0, -0.09, 0.0, 0.0, 0.0, -5.390000000000001, -5.0, 0.0, 0.0, 0.0, -8.0, 1.9699999999999998, 0.0, 2.9699999999999998, 0.0] \n",
      "sum: -20.66 sum losses : - 47.14\n"
     ]
    },
    {
     "name": "stderr",
     "output_type": "stream",
     "text": [
      "[I 2025-09-13 18:04:52,349] Trial 53 finished with values: [-122.17, 226.56] and parameters: {'max_order_exposure': 90, 'max_selection_exposure': 30, 'stake': 8.0, 'max_odds_threshold': 19.900569002618745, 'odds_change_deviation_to_trigger_trade': 0.036806399408241305, 'price_lookback_duration_seconds': 25, 'odds_change_deviation_to_trigger_take_prof': 0.08089153052493536}.\n"
     ]
    },
    {
     "name": "stdout",
     "output_type": "stream",
     "text": [
      "pnls:  [-11.2, 0.0, -4.09, 17.990000000000002, 0.0, 5.8500000000000005, 15.129999999999999, 3.32, -16.380000000000003, -7.85, -1.81, -2.5999999999999996, 0.0, -8.38, -8.0, 15.84, -2.1, 0.1299999999999999, -26.54, -8.0, -22.51, 2.4000000000000004, 0.0, -7.290000000000001, 11.67, 0.0, -3.12, 2.15, -11.96, -10.54, 0.0, 7.77, -16.31, 4.8, 3.95, 4.8999999999999995, -1.0400000000000018, -8.0, 0.0, -24.0, -13.799999999999997, -0.32, -10.719999999999999, 6.01, 2.48] \n",
      "sum: -122.17 sum losses : - 226.56\n"
     ]
    },
    {
     "name": "stderr",
     "output_type": "stream",
     "text": [
      "[I 2025-09-13 18:05:13,441] Trial 54 finished with values: [-5.03, 40.38] and parameters: {'max_order_exposure': 40, 'max_selection_exposure': 120, 'stake': 1.0, 'max_odds_threshold': 12.98075831736601, 'odds_change_deviation_to_trigger_trade': 0.1878235070359515, 'price_lookback_duration_seconds': 28, 'odds_change_deviation_to_trigger_take_prof': 0.25841963641203636}.\n"
     ]
    },
    {
     "name": "stdout",
     "output_type": "stream",
     "text": [
      "pnls:  [0.0, 0.0, 0.0, 0.0, -0.74, 9.3, 0.0, 0.0, 0.0, -6.78, 0.0, 0.0, 0.0, 0.0, 0.0, -1.0, 20.41, -1.0, 0.0, 0.0, -4.73, 0.0, 0.0, 0.0, 0.0, -5.9, 0.0, 0.0, -1.0, 0.0, 0.0, 0.0, 2.5, 0.0, 0.0, 3.1399999999999997, 0.0, -1.0, -3.71, -1.0, -8.0, -3.52, 0.0, 0.0, -2.0] \n",
      "sum: -5.03 sum losses : - 40.38\n"
     ]
    },
    {
     "name": "stderr",
     "output_type": "stream",
     "text": [
      "[I 2025-09-13 18:07:32,601] Trial 55 finished with values: [0.0, 0.0] and parameters: {'max_order_exposure': 5, 'max_selection_exposure': 30, 'stake': 8.0, 'max_odds_threshold': 17.707136865516315, 'odds_change_deviation_to_trigger_trade': 0.14970606608673215, 'price_lookback_duration_seconds': 16, 'odds_change_deviation_to_trigger_take_prof': 0.26786529123408104}.\n"
     ]
    },
    {
     "name": "stdout",
     "output_type": "stream",
     "text": [
      "pnls:  [0.0, 0.0, 0.0, 0.0, 0.0, 0.0, 0.0, 0.0, 0.0, 0.0, 0.0, 0.0, 0.0, 0.0, 0.0, 0.0, 0.0, 0.0, 0.0, 0.0, 0.0, 0.0, 0.0, 0.0, 0.0, 0.0, 0.0, 0.0, 0.0, 0.0, 0.0, 0.0, 0.0, 0.0, 0.0, 0.0, 0.0, 0.0, 0.0, 0.0, 0.0, 0.0, 0.0, 0.0, 0.0] \n",
      "sum: 0.0 sum losses : - 0.0\n"
     ]
    },
    {
     "name": "stderr",
     "output_type": "stream",
     "text": [
      "[I 2025-09-13 18:07:56,821] Trial 56 finished with values: [-432.34999999999997, 588.5799999999999] and parameters: {'max_order_exposure': 165, 'max_selection_exposure': 90, 'stake': 10.0, 'max_odds_threshold': 5.24797482289338, 'odds_change_deviation_to_trigger_trade': 0.04907058074574071, 'price_lookback_duration_seconds': 24, 'odds_change_deviation_to_trigger_take_prof': 0.8943599908383986}.\n"
     ]
    },
    {
     "name": "stdout",
     "output_type": "stream",
     "text": [
      "pnls:  [-41.33, -39.799999999999976, -6.18, -29.78, 10.9, -18.9, 0.0, 0.0, 0.81, -23.94, -12.380000000000004, -38.62, -3.870000000000001, -17.189999999999998, -61.82, -16.8, 10.52, 3.3, 36.220000000000006, 12.21, -3.4000000000000057, -15.7, 2.3100000000000023, -42.67999999999999, -9.22, -66.72999999999999, 0.0, 0.0, 0.0, 0.0, -27.9, 16.729999999999997, 43.79, 19.439999999999998, -33.19, -10.129999999999999, -18.439999999999984, -3.8, -4.900000000000003, 0.0, 0.0, -31.880000000000013, 0.0, 0.0, -10.0] \n",
      "sum: -432.34999999999997 sum losses : - 588.5799999999999\n"
     ]
    },
    {
     "name": "stderr",
     "output_type": "stream",
     "text": [
      "[I 2025-09-13 18:10:28,235] Trial 57 finished with values: [-177.29, 303.18] and parameters: {'max_order_exposure': 40, 'max_selection_exposure': 50, 'stake': 8.0, 'max_odds_threshold': 17.7846063661835, 'odds_change_deviation_to_trigger_trade': 0.06507361472964396, 'price_lookback_duration_seconds': 6, 'odds_change_deviation_to_trigger_take_prof': 0.5417759071692994}.\n"
     ]
    },
    {
     "name": "stdout",
     "output_type": "stream",
     "text": [
      "pnls:  [-8.43, 0.0, 2.64, 0.0, 0.0, 8.8, -7.599999999999999, 0.0, 19.73, 0.0, -18.32, -8.0, -15.690000000000001, 0.0, 0.0, 0.0, -41.879999999999995, -16.0, 0.0, -18.380000000000003, 6.8, -1.45, 21.97, 8.64, -1.18, 5.0, -24.19, 4.27, 0.0, -0.8800000000000026, -18.36, 0.0, -8.0, 40.16, -32.69, -0.49000000000000005, -36.76, 0.0, -8.0, 5.36, -25.630000000000003, -11.16, -0.09, 0.0, 2.5200000000000005] \n",
      "sum: -177.29 sum losses : - 303.18\n"
     ]
    },
    {
     "name": "stderr",
     "output_type": "stream",
     "text": [
      "[I 2025-09-13 18:11:05,283] Trial 58 finished with values: [57.48, 27.18] and parameters: {'max_order_exposure': 85, 'max_selection_exposure': 150, 'stake': 2.0, 'max_odds_threshold': 11.485809196209683, 'odds_change_deviation_to_trigger_trade': 0.14395836662170972, 'price_lookback_duration_seconds': 10, 'odds_change_deviation_to_trigger_take_prof': 0.759176601133651}.\n"
     ]
    },
    {
     "name": "stdout",
     "output_type": "stream",
     "text": [
      "pnls:  [0.0, 0.0, 0.0, 0.0, 0.0, 0.0, 8.2, 0.0, 0.0, 0.0, 0.0, -4.0, -4.11, 0.0, 31.299999999999997, -2.0, 2.7, 0.0, 0.42, 0.0, 0.0, 0.0, 0.0, 0.0, -0.05, 0.0, -2.0, 9.44, 0.0, 12.0, -8.0, 0.0, 0.0, 0.0, 0.0, 0.0, 0.0, 0.0, 0.0, -3.02, 0.0, 20.6, -4.0, 0.0, 0.0] \n",
      "sum: 57.48 sum losses : - 27.18\n"
     ]
    },
    {
     "name": "stderr",
     "output_type": "stream",
     "text": [
      "[I 2025-09-13 18:13:15,110] Trial 59 finished with values: [-104.52000000000001, 179.93] and parameters: {'max_order_exposure': 165, 'max_selection_exposure': 120, 'stake': 3.0, 'max_odds_threshold': 12.98075831736601, 'odds_change_deviation_to_trigger_trade': 0.08844667317764052, 'price_lookback_duration_seconds': 28, 'odds_change_deviation_to_trigger_take_prof': 0.26786529123408104}.\n"
     ]
    },
    {
     "name": "stdout",
     "output_type": "stream",
     "text": [
      "pnls:  [-16.56, -4.29, 0.0, 0.0, 4.88, -3.0, 0.0, -24.0, -9.0, 0.0, 0.0, 0.0, 0.0, 7.5, -15.82, -3.0, 0.0, -0.75, 0.0, -2.07, 0.0, -2.25, -17.34, 0.0, 0.0, -3.0, -3.0, 6.09, 0.0, 0.0, 45.76, 0.0, -4.07, -9.229999999999999, 10.2, -3.0, 0.0, -16.55, -39.67, 0.0, 0.84, 0.0, -3.33, 0.14, 0.0] \n",
      "sum: -104.52000000000001 sum losses : - 179.93\n"
     ]
    },
    {
     "name": "stderr",
     "output_type": "stream",
     "text": [
      "[I 2025-09-13 18:14:06,191] Trial 60 finished with values: [-58.71999999999997, 519.31] and parameters: {'max_order_exposure': 105, 'max_selection_exposure': 150, 'stake': 7.0, 'max_odds_threshold': 5.127954060470222, 'odds_change_deviation_to_trigger_trade': 0.024552036108306984, 'price_lookback_duration_seconds': 2, 'odds_change_deviation_to_trigger_take_prof': 0.9850706208723358}.\n"
     ]
    },
    {
     "name": "stdout",
     "output_type": "stream",
     "text": [
      "pnls:  [16.09, -58.86, 1.4900000000000002, -62.629999999999995, -39.21, -7.23, -25.299999999999994, 0.0, 3.5599999999999987, 166.36000000000004, -38.09, -3.6, 8.68, -14.83, -12.740000000000002, 0.0, 3.3699999999999997, 33.22, 0.0, 0.0, 8.26, 0.0, 1.0899999999999999, -1.6600000000000001, -26.48, -9.450000000000006, 6.27, -48.370000000000005, 18.42, 0.0, 57.19, -1.75, -34.81999999999999, -16.130000000000003, 59.79999999999998, 1.0099999999999998, -14.120000000000001, -100.13999999999997, 0.0, 1.59, 0.0, 58.730000000000004, 11.159999999999982, 4.300000000000001, -3.9] \n",
      "sum: -58.71999999999997 sum losses : - 519.31\n"
     ]
    },
    {
     "name": "stderr",
     "output_type": "stream",
     "text": [
      "[I 2025-09-13 18:16:36,070] Trial 61 finished with values: [0.7499999999999989, 25.48] and parameters: {'max_order_exposure': 105, 'max_selection_exposure': 100, 'stake': 3.0, 'max_odds_threshold': 3.1519349660486715, 'odds_change_deviation_to_trigger_trade': 0.15383289837337616, 'price_lookback_duration_seconds': 15, 'odds_change_deviation_to_trigger_take_prof': 0.09937432032037913}.\n"
     ]
    },
    {
     "name": "stdout",
     "output_type": "stream",
     "text": [
      "pnls:  [0.0, -3.0, 0.0, 3.17, 0.0, 0.0, 0.0, 0.0, -3.0, -3.0, 1.65, 0.0, 0.0, 0.0, 0.0, 0.0, 0.0, 0.0, 0.0, 0.0, -3.0, 0.0, -3.0, 0.0, 0.0, 0.0, -2.08, 0.0, 0.0, 0.0, 0.0, 1.22, 6.75, 13.44, 0.0, 0.0, 0.0, 0.0, 0.0, 0.0, 0.0, 0.0, -8.4, 0.0, 0.0] \n",
      "sum: 0.7499999999999989 sum losses : - 25.48\n"
     ]
    },
    {
     "name": "stderr",
     "output_type": "stream",
     "text": [
      "[I 2025-09-13 18:17:51,350] Trial 62 finished with values: [226.76000000000002, 119.0] and parameters: {'max_order_exposure': 105, 'max_selection_exposure': 90, 'stake': 1.0, 'max_odds_threshold': 18.668867392095798, 'odds_change_deviation_to_trigger_trade': 0.005645061908267353, 'price_lookback_duration_seconds': 16, 'odds_change_deviation_to_trigger_take_prof': 0.05182137524073478}.\n"
     ]
    },
    {
     "name": "stdout",
     "output_type": "stream",
     "text": [
      "pnls:  [2.259999999999999, -1.8099999999999992, 84.41999999999999, 3.8799999999999994, -26.730000000000004, 0.7399999999999999, 7.489999999999998, 32.31, -14.13, 11.379999999999999, 7.739999999999999, 30.15000000000001, -32.90999999999999, 0.0, 1.9599999999999997, -3.0, 0.02, 0.0, 4.03, 0.93, -11.36, 2.03, 46.199999999999996, 10.580000000000009, 24.23000000000001, 0.93, 1.0, 3.789999999999999, 16.220000000000006, -0.039999999999999994, 0.0, 0.0, -5.81, -23.040000000000003, 5.659999999999999, 0.0, -0.17000000000000004, 7.61, 2.9, 16.210000000000004, 8.049999999999999, 0.8200000000000001, 0.10000000000000009, 12.120000000000001, 0.0] \n",
      "sum: 226.76000000000002 sum losses : - 119.0\n"
     ]
    },
    {
     "name": "stderr",
     "output_type": "stream",
     "text": [
      "[I 2025-09-13 18:19:38,863] Trial 63 finished with values: [-303.85999999999996, 438.84] and parameters: {'max_order_exposure': 40, 'max_selection_exposure': 160, 'stake': 1.0, 'max_odds_threshold': 6.863540109802222, 'odds_change_deviation_to_trigger_trade': 0.005717088616835215, 'price_lookback_duration_seconds': 6, 'odds_change_deviation_to_trigger_take_prof': 0.09530417241592824}.\n"
     ]
    },
    {
     "name": "stdout",
     "output_type": "stream",
     "text": [
      "pnls:  [1.2999999999999998, 1.6099999999999994, 0.10000000000000012, 0.0, -1.8899999999999992, 0.6800000000000005, 1.24, 0.0, 0.0, 1.28, 2.11, -3.0, -2.58, -2.0, 0.21999999999999997, -71.53, 54.28, 5.960000000000001, -3.58, -127.78, -1.0, -6.96, -2.2499999999999982, -2.0, 21.439999999999998, 1.1400000000000001, 0.0, -1.0, -36.55999999999998, 0.32999999999999996, 0.6599999999999999, 1.73, -50.279999999999994, 8.149999999999997, 0.0, -47.96999999999999, 10.679999999999998, 0.0, -56.389999999999986, 8.25, 7.610000000000005, 3.84, -22.070000000000007, 0.0, 2.37] \n",
      "sum: -303.85999999999996 sum losses : - 438.84\n"
     ]
    },
    {
     "name": "stderr",
     "output_type": "stream",
     "text": [
      "[I 2025-09-13 18:21:19,976] Trial 64 finished with values: [-86.58, 263.71] and parameters: {'max_order_exposure': 40, 'max_selection_exposure': 100, 'stake': 7.0, 'max_odds_threshold': 19.900569002618745, 'odds_change_deviation_to_trigger_trade': 0.1878235070359515, 'price_lookback_duration_seconds': 25, 'odds_change_deviation_to_trigger_take_prof': 0.08089153052493536}.\n"
     ]
    },
    {
     "name": "stdout",
     "output_type": "stream",
     "text": [
      "pnls:  [40.6, 0.0, -13.74, -45.82, 0.0, 0.0, 0.0, 0.0, 0.0, -7.0, -96.58, 0.0, -7.0, 0.0, 0.0, 0.0, 46.730000000000004, 0.0, 8.449999999999996, 0.0, 20.02, 0.0, 45.720000000000006, 0.0, 0.0, 0.0, 0.0, -3.11, 0.0, 0.0, -14.780000000000001, 6.369999999999997, 0.0, 0.0, 0.0, 9.24, 0.0, -7.0, -7.0, -0.06, -54.620000000000005, 0.0, 0.0, 0.0, -7.0] \n",
      "sum: -86.58 sum losses : - 263.71\n"
     ]
    },
    {
     "name": "stderr",
     "output_type": "stream",
     "text": [
      "[I 2025-09-13 18:22:47,546] Trial 65 finished with values: [1.0499999999999992, 82.35] and parameters: {'max_order_exposure': 30, 'max_selection_exposure': 170, 'stake': 3.0, 'max_odds_threshold': 3.668586882091449, 'odds_change_deviation_to_trigger_trade': 0.07491370666640622, 'price_lookback_duration_seconds': 6, 'odds_change_deviation_to_trigger_take_prof': 0.05182137524073478}.\n"
     ]
    },
    {
     "name": "stdout",
     "output_type": "stream",
     "text": [
      "pnls:  [0.28, 18.9, 0.07, 0.0, -12.0, -6.0, -16.32, 0.0, 0.0, 0.0, -4.41, -6.95, 0.0, 0.0, 0.0, 0.0, 0.0, 3.3, 33.35, 0.0, 3.9200000000000004, 0.0, 0.0, 0.0, 1.8, 2.6599999999999997, -7.8, 0.0, 0.0, -8.42, 3.0, 9.91, 0.0, -3.0, -1.4, -16.05, 0.0, 0.0, 0.0, 0.0, 0.0, 0.0, 0.0, 0.0, 6.21] \n",
      "sum: 1.0499999999999992 sum losses : - 82.35\n"
     ]
    },
    {
     "name": "stderr",
     "output_type": "stream",
     "text": [
      "[I 2025-09-13 18:23:51,239] Trial 66 finished with values: [-7.4399999999999995, 10.0] and parameters: {'max_order_exposure': 30, 'max_selection_exposure': 120, 'stake': 1.0, 'max_odds_threshold': 5.127954060470222, 'odds_change_deviation_to_trigger_trade': 0.1878235070359515, 'price_lookback_duration_seconds': 16, 'odds_change_deviation_to_trigger_take_prof': 0.25841963641203636}.\n"
     ]
    },
    {
     "name": "stdout",
     "output_type": "stream",
     "text": [
      "pnls:  [-3.0, 0.0, -1.0, 0.0, 0.0, 0.0, 0.0, 0.0, 0.0, 0.0, -1.0, 0.0, 0.0, 0.0, 1.06, 0.0, 0.0, 0.0, 0.0, 0.0, 0.0, 0.0, -1.0, 0.0, 0.0, 0.0, 0.0, 0.0, 0.0, 0.0, -1.0, 0.0, -2.0, 1.5, 0.0, 0.0, 0.0, -1.0, 0.0, 0.0, 0.0, 0.0, 0.0, 0.0, 0.0] \n",
      "sum: -7.4399999999999995 sum losses : - 10.0\n"
     ]
    },
    {
     "name": "stderr",
     "output_type": "stream",
     "text": [
      "[I 2025-09-13 18:25:47,187] Trial 67 finished with values: [195.85, 79.52] and parameters: {'max_order_exposure': 105, 'max_selection_exposure': 150, 'stake': 7.0, 'max_odds_threshold': 6.863540109802222, 'odds_change_deviation_to_trigger_trade': 0.09088751669340961, 'price_lookback_duration_seconds': 6, 'odds_change_deviation_to_trigger_take_prof': 0.8614467799406271}.\n"
     ]
    },
    {
     "name": "stdout",
     "output_type": "stream",
     "text": [
      "pnls:  [0.0, 0.0, 0.0, 0.0, 0.0, -7.0, 48.12, 52.00999999999999, 2.34, 0.0, 0.04, -8.04, -1.64, -2.86, 0.0, -7.0, 30.379999999999995, -6.97, 27.75, 2.81, 96.50000000000001, -4.4399999999999995, 0.0, 7.440000000000001, 0.0, 0.0, -6.93, -19.91, -7.0, 0.0, 0.0, 5.67, 0.0, 0.0, 0.0, 2.31, 0.0, -7.0, 0.0, -0.73, 0.0, 0.0, 0.0, 0.0, 0.0] \n",
      "sum: 195.85 sum losses : - 79.52\n"
     ]
    },
    {
     "name": "stderr",
     "output_type": "stream",
     "text": [
      "[I 2025-09-13 18:26:28,758] Trial 68 finished with values: [0.0, 0.0] and parameters: {'max_order_exposure': 5, 'max_selection_exposure': 100, 'stake': 8.0, 'max_odds_threshold': 17.707136865516315, 'odds_change_deviation_to_trigger_trade': 0.006101272533313021, 'price_lookback_duration_seconds': 16, 'odds_change_deviation_to_trigger_take_prof': 0.26786529123408104}.\n"
     ]
    },
    {
     "name": "stdout",
     "output_type": "stream",
     "text": [
      "pnls:  [0.0, 0.0, 0.0, 0.0, 0.0, 0.0, 0.0, 0.0, 0.0, 0.0, 0.0, 0.0, 0.0, 0.0, 0.0, 0.0, 0.0, 0.0, 0.0, 0.0, 0.0, 0.0, 0.0, 0.0, 0.0, 0.0, 0.0, 0.0, 0.0, 0.0, 0.0, 0.0, 0.0, 0.0, 0.0, 0.0, 0.0, 0.0, 0.0, 0.0, 0.0, 0.0, 0.0, 0.0, 0.0] \n",
      "sum: 0.0 sum losses : - 0.0\n"
     ]
    },
    {
     "name": "stderr",
     "output_type": "stream",
     "text": [
      "[I 2025-09-13 18:29:01,496] Trial 69 finished with values: [2.94, 22.48] and parameters: {'max_order_exposure': 180, 'max_selection_exposure': 200, 'stake': 1.0, 'max_odds_threshold': 12.98075831736601, 'odds_change_deviation_to_trigger_trade': 0.1878235070359515, 'price_lookback_duration_seconds': 28, 'odds_change_deviation_to_trigger_take_prof': 0.09530417241592824}.\n"
     ]
    },
    {
     "name": "stdout",
     "output_type": "stream",
     "text": [
      "pnls:  [0.0, 0.0, -1.54, 0.0, 0.0, 1.57, 0.0, -2.0, 9.04, 0.0, 0.0, -2.0, -2.95, 0.0, -2.0, 0.0, 0.0, 0.0, 0.0, -2.0, 0.0, 0.0, 0.0, 0.0, 0.73, 13.110000000000001, 0.0, 0.0, 0.0, 0.0, -5.99, 0.0, 0.97, 0.0, 0.0, 0.0, 0.0, 0.0, 0.0, 0.0, -2.0, 0.0, -1.0, -1.0, 0.0] \n",
      "sum: 2.94 sum losses : - 22.48\n"
     ]
    },
    {
     "name": "stderr",
     "output_type": "stream",
     "text": [
      "[I 2025-09-13 18:29:05,071] Trial 70 finished with values: [33.77, 169.99] and parameters: {'max_order_exposure': 30, 'max_selection_exposure': 30, 'stake': 7.0, 'max_odds_threshold': 5.127954060470222, 'odds_change_deviation_to_trigger_trade': 0.0109262661618359, 'price_lookback_duration_seconds': 16, 'odds_change_deviation_to_trigger_take_prof': 0.07652571267391034}.\n"
     ]
    },
    {
     "name": "stdout",
     "output_type": "stream",
     "text": [
      "pnls:  [-11.69, 0.0, 0.44, -4.38, 0.0, -13.79, 0.0, -25.209999999999997, -2.2399999999999984, 0.0, 10.25, 7.079999999999998, 0.0, -2.3800000000000026, 3.6699999999999995, 11.2, 13.25, 16.42, 0.0, 7.65, -11.45, -1.69, -3.9700000000000024, 6.619999999999999, 30.689999999999998, -5.040000000000003, 23.660000000000004, -5.6, 1.0799999999999998, -7.079999999999998, -4.830000000000002, -29.58, -0.5599999999999998, 9.56, 0.0, 7.84, -10.6, 22.12, 5.56, -7.489999999999998, 9.299999999999999, -10.55, 16.67, -11.86, 0.7] \n",
      "sum: 33.77 sum losses : - 169.99\n"
     ]
    },
    {
     "name": "stderr",
     "output_type": "stream",
     "text": [
      "[I 2025-09-13 18:31:42,736] Trial 71 finished with values: [0.0, 0.0] and parameters: {'max_order_exposure': 5, 'max_selection_exposure': 30, 'stake': 7.0, 'max_odds_threshold': 17.707136865516315, 'odds_change_deviation_to_trigger_trade': 0.14970606608673215, 'price_lookback_duration_seconds': 1, 'odds_change_deviation_to_trigger_take_prof': 0.26786529123408104}.\n"
     ]
    },
    {
     "name": "stdout",
     "output_type": "stream",
     "text": [
      "pnls:  [0.0, 0.0, 0.0, 0.0, 0.0, 0.0, 0.0, 0.0, 0.0, 0.0, 0.0, 0.0, 0.0, 0.0, 0.0, 0.0, 0.0, 0.0, 0.0, 0.0, 0.0, 0.0, 0.0, 0.0, 0.0, 0.0, 0.0, 0.0, 0.0, 0.0, 0.0, 0.0, 0.0, 0.0, 0.0, 0.0, 0.0, 0.0, 0.0, 0.0, 0.0, 0.0, 0.0, 0.0, 0.0] \n",
      "sum: 0.0 sum losses : - 0.0\n"
     ]
    },
    {
     "name": "stderr",
     "output_type": "stream",
     "text": [
      "[I 2025-09-13 18:32:05,433] Trial 72 finished with values: [-27.059999999999995, 151.44] and parameters: {'max_order_exposure': 105, 'max_selection_exposure': 150, 'stake': 1.0, 'max_odds_threshold': 18.668867392095798, 'odds_change_deviation_to_trigger_trade': 0.01868386549204702, 'price_lookback_duration_seconds': 6, 'odds_change_deviation_to_trigger_take_prof': 0.03892193073672046}.\n"
     ]
    },
    {
     "name": "stdout",
     "output_type": "stream",
     "text": [
      "pnls:  [1.75, 0.23, 4.28, 19.689999999999998, -4.07, 0.99, -2.8500000000000005, 2.28, 0.0, 4.7, 1.65, -2.0, 0.0, 6.31, 3.21, -0.039999999999999994, 0.0, -37.669999999999995, 0.0, 0.8, -0.25, -0.09, -39.81, 4.07, 6.39, -1.4600000000000002, 8.82, 3.8, 14.799999999999999, 1.67, -1.0, -23.319999999999997, 0.0, 0.0, -6.07, 10.81, 1.48, -4.0, 7.709999999999999, -25.689999999999998, -0.26, 0.0, -2.67, 18.94, -0.18999999999999997] \n",
      "sum: -27.059999999999995 sum losses : - 151.44\n"
     ]
    },
    {
     "name": "stderr",
     "output_type": "stream",
     "text": [
      "[I 2025-09-13 18:34:11,742] Trial 73 finished with values: [0.0, 0.0] and parameters: {'max_order_exposure': 145, 'max_selection_exposure': 120, 'stake': 8.0, 'max_odds_threshold': 1.610733343905984, 'odds_change_deviation_to_trigger_trade': 0.1878235070359515, 'price_lookback_duration_seconds': 13, 'odds_change_deviation_to_trigger_take_prof': 0.09530417241592824}.\n"
     ]
    },
    {
     "name": "stdout",
     "output_type": "stream",
     "text": [
      "pnls:  [0.0, 0.0, 0.0, 0.0, 0.0, 0.0, 0.0, 0.0, 0.0, 0.0, 0.0, 0.0, 0.0, 0.0, 0.0, 0.0, 0.0, 0.0, 0.0, 0.0, 0.0, 0.0, 0.0, 0.0, 0.0, 0.0, 0.0, 0.0, 0.0, 0.0, 0.0, 0.0, 0.0, 0.0, 0.0, 0.0, 0.0, 0.0, 0.0, 0.0, 0.0, 0.0, 0.0, 0.0, 0.0] \n",
      "sum: 0.0 sum losses : - 0.0\n"
     ]
    },
    {
     "name": "stderr",
     "output_type": "stream",
     "text": [
      "[I 2025-09-13 18:34:59,367] Trial 74 finished with values: [-61.26, 200.81] and parameters: {'max_order_exposure': 25, 'max_selection_exposure': 30, 'stake': 7.0, 'max_odds_threshold': 3.989635301789391, 'odds_change_deviation_to_trigger_trade': 0.04025198179945776, 'price_lookback_duration_seconds': 25, 'odds_change_deviation_to_trigger_take_prof': 0.7815941702346563}.\n"
     ]
    },
    {
     "name": "stdout",
     "output_type": "stream",
     "text": [
      "pnls:  [4.200000000000001, -3.47, -6.85, -16.43, 3.62, 0.0, -3.25, -4.859999999999999, 0.0, -5.65, -6.55, -7.0, 7.630000000000003, 20.39, -6.240000000000002, 4.340000000000003, 41.97, -21.0, 11.98, 0.0, 2.81, -7.37, 1.73, -14.780000000000001, 0.0, -1.58, -14.009999999999998, 0.8000000000000003, 0.0, -0.11, 7.680000000000001, 18.900000000000002, 7.6999999999999975, -22.73, -18.92, 3.27, -11.4, 0.77, -2.770000000000003, 0.0, 0.0, -4.41, 1.7600000000000002, -7.489999999999997, -13.940000000000001] \n",
      "sum: -61.26 sum losses : - 200.81\n"
     ]
    },
    {
     "name": "stderr",
     "output_type": "stream",
     "text": [
      "[I 2025-09-13 18:37:24,934] Trial 75 finished with values: [-45.43000000000001, 138.43] and parameters: {'max_order_exposure': 5, 'max_selection_exposure': 30, 'stake': 3.0, 'max_odds_threshold': 6.863540109802222, 'odds_change_deviation_to_trigger_trade': 0.09066481649458877, 'price_lookback_duration_seconds': 12, 'odds_change_deviation_to_trigger_take_prof': 0.021049271900721287}.\n"
     ]
    },
    {
     "name": "stdout",
     "output_type": "stream",
     "text": [
      "pnls:  [-22.32, 0.0, 0.0, -6.029999999999999, 6.149999999999999, 31.64, -5.800000000000001, 0.0, 0.0, 0.0, -2.04, -3.0, 12.27, -10.25, 0.0, -3.0, -13.8, 0.0, 23.79, 0.0, 0.0, 0.0, 0.0, -6.5, -9.0, 0.0, 0.0, 0.0, 0.0, 12.35, 1.0, 0.0, -10.93, 0.0, 0.0, -9.0, 0.0, -3.0, 0.0, 1.66, 4.14, -0.79, 0.0, -7.29, -25.68] \n",
      "sum: -45.43000000000001 sum losses : - 138.43\n"
     ]
    },
    {
     "name": "stderr",
     "output_type": "stream",
     "text": [
      "[I 2025-09-13 18:37:40,680] Trial 76 finished with values: [-10.69, 17.43] and parameters: {'max_order_exposure': 170, 'max_selection_exposure': 170, 'stake': 1.0, 'max_odds_threshold': 12.98075831736601, 'odds_change_deviation_to_trigger_trade': 0.1878235070359515, 'price_lookback_duration_seconds': 6, 'odds_change_deviation_to_trigger_take_prof': 0.021049271900721287}.\n"
     ]
    },
    {
     "name": "stdout",
     "output_type": "stream",
     "text": [
      "pnls:  [2.4, 0.0, -3.5, 1.84, 0.0, 0.0, -1.0, 0.0, 0.0, 0.0, -2.0, 0.0, -1.6500000000000001, 0.0, 0.0, 0.0, 0.0, 0.0, 0.0, -0.95, 0.0, 0.0, 0.0, 0.0, 0.0, 0.0, -2.0, 0.0, -0.33, 0.0, 0.0, 0.0, -3.0, -1.0, 0.0, 0.0, 0.0, 0.0, 0.0, 0.0, -2.0, 0.0, 2.5, 0.0, 0.0] \n",
      "sum: -10.69 sum losses : - 17.43\n"
     ]
    },
    {
     "name": "stderr",
     "output_type": "stream",
     "text": [
      "[I 2025-09-13 18:41:17,366] Trial 78 finished with values: [290.49, 413.53000000000003] and parameters: {'max_order_exposure': 170, 'max_selection_exposure': 80, 'stake': 8.0, 'max_odds_threshold': 6.863540109802222, 'odds_change_deviation_to_trigger_trade': 0.005717088616835215, 'price_lookback_duration_seconds': 6, 'odds_change_deviation_to_trigger_take_prof': 0.04160157491614067}.\n"
     ]
    },
    {
     "name": "stdout",
     "output_type": "stream",
     "text": [
      "pnls:  [0.0, -9.280000000000001, -8.0, 0.96, 0.0, -12.75, -35.82000000000001, -13.81, 0.0, -52.059999999999995, -4.27, -8.0, -41.31, 0.0, 0.0, 1.5999999999999996, -19.72, -34.45, 174.04999999999998, -45.440000000000005, 18.78, -12.530000000000001, 0.0, -10.820000000000004, -27.210000000000004, 46.739999999999995, 170.38000000000002, 12.159999999999997, 14.589999999999996, 0.0, 27.850000000000005, 21.919999999999998, -25.220000000000002, 11.05, 0.0, 42.72, 22.0, 0.0, 4.6000000000000005, -8.399999999999999, -44.44, 1.64, 5.98, 125.9, 1.1] \n",
      "sum: 290.49 sum losses : - 413.53000000000003\n"
     ]
    },
    {
     "name": "stderr",
     "output_type": "stream",
     "text": [
      "[I 2025-09-13 18:41:20,218] Trial 77 finished with values: [31.090000000000014, 179.59999999999997] and parameters: {'max_order_exposure': 200, 'max_selection_exposure': 100, 'stake': 1.0, 'max_odds_threshold': 12.98075831736601, 'odds_change_deviation_to_trigger_trade': 0.006966750087835178, 'price_lookback_duration_seconds': 3, 'odds_change_deviation_to_trigger_take_prof': 0.11693598821624407}.\n"
     ]
    },
    {
     "name": "stdout",
     "output_type": "stream",
     "text": [
      "pnls:  [-6.549999999999998, 0.15000000000000002, 5.760000000000001, -13.870000000000001, 15.720000000000002, -1.3299999999999998, 25.839999999999996, 0.0, -8.920000000000003, -1.0, 3.54, 0.7799999999999998, -1.9, -1.3300000000000003, 0.0, 28.2, 4.15, 0.0, -1.33, -2.08, 2.5700000000000003, 0.0, 0.0, -38.82999999999999, 0.26, 31.34999999999999, -28.18, 7.070000000000001, -22.639999999999997, 0.0, 23.569999999999986, -0.009999999999999343, -2.71, -2.7399999999999993, 1.43, 2.2199999999999975, -31.71999999999998, 1.4, 0.0, -11.249999999999998, -2.0900000000000007, -1.1199999999999997, 11.909999999999998, 0.0, 44.77000000000001] \n",
      "sum: 31.090000000000014 sum losses : - 179.59999999999997\n"
     ]
    },
    {
     "name": "stderr",
     "output_type": "stream",
     "text": [
      "[I 2025-09-13 18:43:52,750] Trial 80 finished with values: [4.3100000000000005, 12.15] and parameters: {'max_order_exposure': 200, 'max_selection_exposure': 120, 'stake': 1.0, 'max_odds_threshold': 12.98075831736601, 'odds_change_deviation_to_trigger_trade': 0.1878235070359515, 'price_lookback_duration_seconds': 3, 'odds_change_deviation_to_trigger_take_prof': 0.11693598821624407}.\n"
     ]
    },
    {
     "name": "stdout",
     "output_type": "stream",
     "text": [
      "pnls:  [0.0, 0.0, 0.0, -0.06, -1.0, 0.0, 0.0, -2.0, 0.0, 0.0, 0.0, -1.71, 0.0, 9.5, 0.0, 0.0, 0.0, 0.0, 0.0, 0.0, 0.0, 0.0, 0.0, 0.0, -0.38, 0.0, 0.0, 0.0, 0.0, 0.0, -4.0, 0.0, 5.9, -1.0, 0.0, 0.0, 1.06, 0.0, 0.0, 0.0, 0.0, 0.0, -1.0, -1.0, 0.0] \n",
      "sum: 4.3100000000000005 sum losses : - 12.15\n"
     ]
    },
    {
     "name": "stderr",
     "output_type": "stream",
     "text": [
      "[I 2025-09-13 18:43:57,783] Trial 79 finished with values: [32.88000000000001, 157.34] and parameters: {'max_order_exposure': 40, 'max_selection_exposure': 140, 'stake': 3.0, 'max_odds_threshold': 12.98075831736601, 'odds_change_deviation_to_trigger_trade': 0.07491370666640622, 'price_lookback_duration_seconds': 28, 'odds_change_deviation_to_trigger_take_prof': 0.09530417241592824}.\n"
     ]
    },
    {
     "name": "stdout",
     "output_type": "stream",
     "text": [
      "pnls:  [0.0, -12.229999999999999, -0.18999999999999995, 0.0, 4.83, 0.07, 0.0, 6.300000000000001, -3.0, 1.32, -9.18, 9.78, 11.769999999999998, -8.14, 0.0, 65.21000000000001, 2.01, 0.0, 0.0, 0.0, 0.0, -32.910000000000004, 0.0, 13.780000000000001, -3.0, 0.0, -3.39, 26.22, 0.0, 10.559999999999999, -9.0, 0.99, 26.580000000000002, -3.0, 9.3, -44.169999999999995, 0.0, 0.0, -3.96, -8.3, 0.0, 0.0, -2.96, 1.5, -13.91] \n",
      "sum: 32.88000000000001 sum losses : - 157.34\n"
     ]
    },
    {
     "name": "stderr",
     "output_type": "stream",
     "text": [
      "[I 2025-09-13 18:46:53,895] Trial 81 finished with values: [-371.49, 841.0600000000001] and parameters: {'max_order_exposure': 60, 'max_selection_exposure': 160, 'stake': 8.0, 'max_odds_threshold': 14.349904548506677, 'odds_change_deviation_to_trigger_trade': 0.010923099790850372, 'price_lookback_duration_seconds': 10, 'odds_change_deviation_to_trigger_take_prof': 0.759176601133651}.\n"
     ]
    },
    {
     "name": "stdout",
     "output_type": "stream",
     "text": [
      "pnls:  [28.8, 0.8499999999999999, 0.0, 0.08000000000000007, -67.61000000000001, -99.60000000000001, 0.0, 0.0, -52.35000000000001, 0.0, 322.11, 0.0, 0.0, -44.82000000000001, 0.0, 0.0, 6.8, -19.329999999999988, 0.0, 10.229999999999997, 0.0, 0.0, 1.5, -35.790000000000006, -43.07000000000001, 26.7, 34.599999999999994, -1.53, 0.0, -21.999999999999996, -0.2699999999999996, -2.660000000000002, -32.78, -52.36, 0.0, 25.0, -17.609999999999992, -30.669999999999995, -104.34, -86.52000000000001, -14.330000000000004, 12.899999999999999, -12.95, -42.36, -58.11] \n",
      "sum: -371.49 sum losses : - 841.0600000000001\n"
     ]
    },
    {
     "name": "stderr",
     "output_type": "stream",
     "text": [
      "[I 2025-09-13 18:47:18,325] Trial 82 finished with values: [-7.38, 16.03] and parameters: {'max_order_exposure': 5, 'max_selection_exposure': 170, 'stake': 1.0, 'max_odds_threshold': 14.349904548506677, 'odds_change_deviation_to_trigger_trade': 0.14970606608673215, 'price_lookback_duration_seconds': 6, 'odds_change_deviation_to_trigger_take_prof': 0.021049271900721287}.\n"
     ]
    },
    {
     "name": "stdout",
     "output_type": "stream",
     "text": [
      "pnls:  [0.0, 0.0, 0.0, 0.0, -1.5, -2.5300000000000002, 0.0, 0.0, 0.0, 0.0, 0.0, 0.0, 0.0, 0.0, 0.0, 0.0, 0.0, 0.0, 0.0, 7.21, 0.0, 0.0, 1.24, 0.0, 0.0, -3.57, 0.0, 0.0, 0.2, 0.0, 0.0, 0.0, 0.0, 0.0, 0.0, -1.0, 0.0, 0.0, -2.0, -3.02, 0.0, -1.0, 0.0, 0.0, -1.4100000000000001] \n",
      "sum: -7.38 sum losses : - 16.03\n"
     ]
    },
    {
     "name": "stderr",
     "output_type": "stream",
     "text": [
      "[I 2025-09-13 18:50:03,702] Trial 84 finished with values: [-25.659999999999997, 192.59] and parameters: {'max_order_exposure': 30, 'max_selection_exposure': 30, 'stake': 3.0, 'max_odds_threshold': 5.127954060470222, 'odds_change_deviation_to_trigger_trade': 0.007178856520514159, 'price_lookback_duration_seconds': 16, 'odds_change_deviation_to_trigger_take_prof': 0.05182137524073478}.\n"
     ]
    },
    {
     "name": "stdout",
     "output_type": "stream",
     "text": [
      "pnls:  [4.680000000000001, -25.39, -3.0, -0.8699999999999992, 0.0, 0.0, -4.77, -3.7500000000000004, 0.0, -23.169999999999998, 7.760000000000001, 6.0699999999999985, -9.0, 0.24, -13.06, -16.419999999999998, -15.6, -3.1900000000000004, -14.79, 0.0, 7.1499999999999995, 11.659999999999998, 6.91, -2.7499999999999973, 10.610000000000001, 25.83, -6.79, -1.4299999999999997, 20.240000000000002, 0.0, 11.35, 0.0, -8.030000000000001, -6.740000000000002, 11.269999999999998, 0.18, 7.08, -11.909999999999998, -0.9600000000000026, 0.0, 7.1000000000000005, -5.790000000000001, 28.800000000000004, -6.650000000000001, -8.53] \n",
      "sum: -25.659999999999997 sum losses : - 192.59\n"
     ]
    },
    {
     "name": "stderr",
     "output_type": "stream",
     "text": [
      "[I 2025-09-13 18:50:07,915] Trial 83 finished with values: [4.760000000000002, 14.66] and parameters: {'max_order_exposure': 40, 'max_selection_exposure': 120, 'stake': 1.0, 'max_odds_threshold': 7.784837787504579, 'odds_change_deviation_to_trigger_trade': 0.1878235070359515, 'price_lookback_duration_seconds': 28, 'odds_change_deviation_to_trigger_take_prof': 0.25841963641203636}.\n"
     ]
    },
    {
     "name": "stdout",
     "output_type": "stream",
     "text": [
      "pnls:  [0.0, 0.0, -0.07, 0.0, 0.0, 0.0, 0.0, 0.0, 0.0, 0.0, -0.33, 0.0, -4.0, 4.120000000000001, 0.0, 0.0, -3.0, 0.0, 0.0, 0.0, 0.0, 0.0, 0.0, -1.0, 0.0, 3.4, 0.0, 0.0, 0.0, 0.0, 0.0, 0.0, 11.9, 0.0, 0.0, 0.0, -2.0, 0.0, -0.74, 0.0, -1.0, 0.0, -2.52, 0.0, 0.0] \n",
      "sum: 4.760000000000002 sum losses : - 14.66\n"
     ]
    },
    {
     "name": "stderr",
     "output_type": "stream",
     "text": [
      "[I 2025-09-13 18:53:15,732] Trial 86 finished with values: [579.76, 563.88] and parameters: {'max_order_exposure': 60, 'max_selection_exposure': 150, 'stake': 8.0, 'max_odds_threshold': 14.349904548506677, 'odds_change_deviation_to_trigger_trade': 0.014379304808363682, 'price_lookback_duration_seconds': 15, 'odds_change_deviation_to_trigger_take_prof': 0.33187002352262035}.\n"
     ]
    },
    {
     "name": "stdout",
     "output_type": "stream",
     "text": [
      "pnls:  [-16.27, 22.169999999999995, 14.94, -80.20999999999997, 0.0, 21.429999999999996, 17.88, 112.39999999999996, -6.96, 18.519999999999996, 74.53, 0.0, 0.0, -22.159999999999997, 0.0, -94.81000000000002, 0.0, -90.62, 0.0, 2.0500000000000003, 36.97000000000001, -57.39, 207.58000000000004, -59.96000000000002, 0.0, 0.99, 37.01000000000002, -41.54, 22.270000000000007, -3.9500000000000073, 76.43, 0.0, 0.0, -27.85999999999999, 12.33, -37.76, 0.0, 0.0, 2.63, 0.0, 456.15999999999997, 0.0, -18.880000000000003, 7.35, -5.51] \n",
      "sum: 579.76 sum losses : - 563.88\n"
     ]
    },
    {
     "name": "stderr",
     "output_type": "stream",
     "text": [
      "[I 2025-09-13 18:53:19,430] Trial 85 finished with values: [-35.12, 59.03] and parameters: {'max_order_exposure': 145, 'max_selection_exposure': 120, 'stake': 1.0, 'max_odds_threshold': 17.7846063661835, 'odds_change_deviation_to_trigger_trade': 0.1878235070359515, 'price_lookback_duration_seconds': 28, 'odds_change_deviation_to_trigger_take_prof': 0.25841963641203636}.\n"
     ]
    },
    {
     "name": "stdout",
     "output_type": "stream",
     "text": [
      "pnls:  [-1.0, -1.0, 0.0, 0.0, -2.8099999999999996, 0.0, 0.0, 1.3, 0.0, 0.0, 0.0, 0.0, 0.0, -1.0, 0.0, 0.0, -2.0, 0.0, 0.0, -5.390000000000001, -4.15, 7.8, 0.0, -7.71, 0.0, -3.62, 0.0, -12.99, 0.0, -5.0, 0.0, 0.0, 0.0, 0.73, 13.110000000000001, 0.0, 0.0, 0.0, 0.0, -4.36, 0.0, 0.97, -8.0, 0.0, 0.0] \n",
      "sum: -35.12 sum losses : - 59.03\n"
     ]
    },
    {
     "name": "stderr",
     "output_type": "stream",
     "text": [
      "[I 2025-09-13 18:56:15,513] Trial 88 finished with values: [255.36999999999998, 110.99] and parameters: {'max_order_exposure': 145, 'max_selection_exposure': 120, 'stake': 1.0, 'max_odds_threshold': 1.610733343905984, 'odds_change_deviation_to_trigger_trade': 0.005645061908267353, 'price_lookback_duration_seconds': 13, 'odds_change_deviation_to_trigger_take_prof': 0.09530417241592824}.\n"
     ]
    },
    {
     "name": "stdout",
     "output_type": "stream",
     "text": [
      "pnls:  [0.0, 0.93, 15.959999999999999, -16.41, 13.45, -0.3, -7.179999999999999, -3.12, 45.27999999999998, 28.1, 0.08, 0.0, 14.3, 42.789999999999985, 44.02000000000002, -14.0, 5.840000000000001, 32.07999999999999, 1.97, -2.01, 20.399999999999988, 4.7, 0.56, 0.0, 3.6500000000000004, 0.0, 4.3900000000000015, -21.07, 0.0, 0.0, 0.0, 25.569999999999997, 0.0, 0.0, 34.470000000000006, 0.41000000000000003, -4.09, 0.0, 1.76, -15.82, -26.990000000000002, 0.0, 1.22, 23.58, 0.85] \n",
      "sum: 255.36999999999998 sum losses : - 110.99\n"
     ]
    },
    {
     "name": "stderr",
     "output_type": "stream",
     "text": [
      "[I 2025-09-13 18:56:18,590] Trial 87 finished with values: [0.0, 0.0] and parameters: {'max_order_exposure': 5, 'max_selection_exposure': 100, 'stake': 8.0, 'max_odds_threshold': 17.707136865516315, 'odds_change_deviation_to_trigger_trade': 0.1878235070359515, 'price_lookback_duration_seconds': 2, 'odds_change_deviation_to_trigger_take_prof': 0.26786529123408104}.\n"
     ]
    },
    {
     "name": "stdout",
     "output_type": "stream",
     "text": [
      "pnls:  [0.0, 0.0, 0.0, 0.0, 0.0, 0.0, 0.0, 0.0, 0.0, 0.0, 0.0, 0.0, 0.0, 0.0, 0.0, 0.0, 0.0, 0.0, 0.0, 0.0, 0.0, 0.0, 0.0, 0.0, 0.0, 0.0, 0.0, 0.0, 0.0, 0.0, 0.0, 0.0, 0.0, 0.0, 0.0, 0.0, 0.0, 0.0, 0.0, 0.0, 0.0, 0.0, 0.0, 0.0, 0.0] \n",
      "sum: 0.0 sum losses : - 0.0\n"
     ]
    },
    {
     "name": "stderr",
     "output_type": "stream",
     "text": [
      "[I 2025-09-13 18:59:25,599] Trial 89 finished with values: [11.40000000000001, 198.63] and parameters: {'max_order_exposure': 165, 'max_selection_exposure': 30, 'stake': 7.0, 'max_odds_threshold': 18.668867392095798, 'odds_change_deviation_to_trigger_trade': 0.007178856520514159, 'price_lookback_duration_seconds': 16, 'odds_change_deviation_to_trigger_take_prof': 0.26786529123408104}.\n"
     ]
    },
    {
     "name": "stdout",
     "output_type": "stream",
     "text": [
      "pnls:  [-7.549999999999998, 7.010000000000002, 3.63, 95.5, -16.85, 0.0, 19.67, 7.65, 0.0, 3.289999999999999, -25.279999999999998, 16.64, 2.12, -7.0, 3.4699999999999998, -8.419999999999998, 0.0, -10.96, -10.600000000000001, -5.049999999999999, -18.43, 0.0, 15.89, 0.0, 7.48, -18.75, -9.399999999999997, -6.350000000000003, -0.08000000000000007, -7.920000000000001, -7.300000000000001, 10.3, 4.1899999999999995, -0.6999999999999993, 1.2800000000000011, -2.41, 0.0, -4.039999999999999, -17.3, 1.5399999999999991, -1.6699999999999988, 10.370000000000001, -5.469999999999999, -7.100000000000001, 0.0] \n",
      "sum: 11.40000000000001 sum losses : - 198.63\n"
     ]
    },
    {
     "name": "stderr",
     "output_type": "stream",
     "text": [
      "[I 2025-09-13 19:00:03,555] Trial 90 finished with values: [-48.910000000000004, 93.63] and parameters: {'max_order_exposure': 170, 'max_selection_exposure': 100, 'stake': 7.0, 'max_odds_threshold': 4.060208149180482, 'odds_change_deviation_to_trigger_trade': 0.1490443838354045, 'price_lookback_duration_seconds': 16, 'odds_change_deviation_to_trigger_take_prof': 0.09530417241592824}.\n"
     ]
    },
    {
     "name": "stdout",
     "output_type": "stream",
     "text": [
      "pnls:  [-7.0, 0.0, 0.0, -0.23, -2.77, 0.0, 0.0, 0.0, 0.0, 0.0, 0.0, 0.0, 0.0, 0.0, -0.35, -10.41, -21.5, 0.0, 0.0, 11.76, -7.0, -3.3, -7.0, 0.0, -2.33, 0.0, 0.0, 0.0, 0.0, -7.0, 0.0, -7.0, 0.0, -6.23, 0.0, 0.0, 0.0, 21.45, 0.0, 0.0, 0.0, -4.51, 11.51, -7.0, 0.0] \n",
      "sum: -48.910000000000004 sum losses : - 93.63\n"
     ]
    },
    {
     "name": "stderr",
     "output_type": "stream",
     "text": [
      "[I 2025-09-13 19:02:50,256] Trial 91 finished with values: [21.740000000000002, 211.43] and parameters: {'max_order_exposure': 105, 'max_selection_exposure': 170, 'stake': 1.0, 'max_odds_threshold': 18.668867392095798, 'odds_change_deviation_to_trigger_trade': 0.005645061908267353, 'price_lookback_duration_seconds': 16, 'odds_change_deviation_to_trigger_take_prof': 0.05182137524073478}.\n"
     ]
    },
    {
     "name": "stdout",
     "output_type": "stream",
     "text": [
      "pnls:  [-0.039999999999999994, -9.149999999999999, -9.439999999999998, 0.0, 0.0, 18.22, -62.760000000000005, 1.8800000000000003, 0.0, -34.91, 7.91, -2.0, -46.1, 0.8200000000000001, 0.57, 0.02, -0.2499999999999999, 19.26, 1.8099999999999998, -0.9100000000000007, 7.489999999999998, -9.48, 0.0, 6.330000000000001, -15.160000000000002, 0.0, 16.8, 1.65, -5.09, -3.0, 0.0, 0.0, 66.45, 4.550000000000001, 3.79, 43.4, 1.1099999999999999, 2.7800000000000002, -1.2999999999999998, 2.3899999999999997, 2.63, 0.97, 22.34, 0.0, -11.839999999999998] \n",
      "sum: 21.740000000000002 sum losses : - 211.43\n"
     ]
    },
    {
     "name": "stderr",
     "output_type": "stream",
     "text": [
      "[I 2025-09-13 19:03:05,576] Trial 92 finished with values: [0.0, 0.0] and parameters: {'max_order_exposure': 5, 'max_selection_exposure': 30, 'stake': 8.0, 'max_odds_threshold': 3.668586882091449, 'odds_change_deviation_to_trigger_trade': 0.07491370666640622, 'price_lookback_duration_seconds': 16, 'odds_change_deviation_to_trigger_take_prof': 0.26786529123408104}.\n"
     ]
    },
    {
     "name": "stdout",
     "output_type": "stream",
     "text": [
      "pnls:  [0.0, 0.0, 0.0, 0.0, 0.0, 0.0, 0.0, 0.0, 0.0, 0.0, 0.0, 0.0, 0.0, 0.0, 0.0, 0.0, 0.0, 0.0, 0.0, 0.0, 0.0, 0.0, 0.0, 0.0, 0.0, 0.0, 0.0, 0.0, 0.0, 0.0, 0.0, 0.0, 0.0, 0.0, 0.0, 0.0, 0.0, 0.0, 0.0, 0.0, 0.0, 0.0, 0.0, 0.0, 0.0] \n",
      "sum: 0.0 sum losses : - 0.0\n"
     ]
    },
    {
     "name": "stderr",
     "output_type": "stream",
     "text": [
      "[I 2025-09-13 19:05:58,182] Trial 93 finished with values: [60.02000000000003, 506.73] and parameters: {'max_order_exposure': 55, 'max_selection_exposure': 90, 'stake': 8.0, 'max_odds_threshold': 14.349904548506677, 'odds_change_deviation_to_trigger_trade': 0.007755970778600403, 'price_lookback_duration_seconds': 16, 'odds_change_deviation_to_trigger_take_prof': 0.05182137524073478}.\n"
     ]
    },
    {
     "name": "stdout",
     "output_type": "stream",
     "text": [
      "pnls:  [-17.40999999999999, -13.6, -9.580000000000007, -24.939999999999998, 1.56, -47.519999999999996, 0.0, 1.1600000000000001, -7.600000000000001, 18.32, -17.85, 29.769999999999996, 36.019999999999996, 64.01, 4.94, 4.24, 0.0, 4.3500000000000005, 2.5100000000000007, 28.250000000000004, 31.029999999999998, 28.120000000000005, -24.0, 0.0, 0.0, -17.61, 21.14, -41.91, -32.90000000000002, -8.0, -12.16, -58.16, -23.23, -55.919999999999995, -41.470000000000006, -7.36, 24.85, -22.640000000000004, -9.31, 12.769999999999998, -13.530000000000014, 243.10000000000005, 10.61, 0.0, -0.03] \n",
      "sum: 60.02000000000003 sum losses : - 506.73\n"
     ]
    },
    {
     "name": "stderr",
     "output_type": "stream",
     "text": [
      "[I 2025-09-13 19:06:38,439] Trial 94 finished with values: [-3.07, 16.44] and parameters: {'max_order_exposure': 5, 'max_selection_exposure': 170, 'stake': 1.0, 'max_odds_threshold': 14.349904548506677, 'odds_change_deviation_to_trigger_trade': 0.14395836662170972, 'price_lookback_duration_seconds': 6, 'odds_change_deviation_to_trigger_take_prof': 0.03892193073672046}.\n"
     ]
    },
    {
     "name": "stdout",
     "output_type": "stream",
     "text": [
      "pnls:  [0.0, -1.0, -1.0, -0.38, -2.0, -0.33, 0.0, 1.24, 0.0, 0.0, 1.8, 0.0, 0.0, 0.0, 0.0, 0.0, 0.0, -3.0, 0.0, 2.5, 0.0, -4.5, 0.0, 0.0, -0.04000000000000001, 0.0, 0.0, 0.0, 0.0, 0.0, -2.0, -2.0, 0.0, 0.0, 0.0, 6.15, 0.0, 1.68, 0.0, 0.0, -0.13, -0.06, 0.0, 0.0, 0.0] \n",
      "sum: -3.07 sum losses : - 16.44\n"
     ]
    },
    {
     "name": "stderr",
     "output_type": "stream",
     "text": [
      "[I 2025-09-13 19:08:21,052] Trial 95 finished with values: [0.0, 0.0] and parameters: {'max_order_exposure': 5, 'max_selection_exposure': 40, 'stake': 7.0, 'max_odds_threshold': 17.707136865516315, 'odds_change_deviation_to_trigger_trade': 0.07201325122660222, 'price_lookback_duration_seconds': 1, 'odds_change_deviation_to_trigger_take_prof': 0.2393193965290897}.\n"
     ]
    },
    {
     "name": "stdout",
     "output_type": "stream",
     "text": [
      "pnls:  [0.0, 0.0, 0.0, 0.0, 0.0, 0.0, 0.0, 0.0, 0.0, 0.0, 0.0, 0.0, 0.0, 0.0, 0.0, 0.0, 0.0, 0.0, 0.0, 0.0, 0.0, 0.0, 0.0, 0.0, 0.0, 0.0, 0.0, 0.0, 0.0, 0.0, 0.0, 0.0, 0.0, 0.0, 0.0, 0.0, 0.0, 0.0, 0.0, 0.0, 0.0, 0.0, 0.0, 0.0, 0.0] \n",
      "sum: 0.0 sum losses : - 0.0\n"
     ]
    },
    {
     "name": "stderr",
     "output_type": "stream",
     "text": [
      "[I 2025-09-13 19:09:22,652] Trial 96 finished with values: [-2.6899999999999995, 13.85] and parameters: {'max_order_exposure': 180, 'max_selection_exposure': 170, 'stake': 1.0, 'max_odds_threshold': 17.39530858707301, 'odds_change_deviation_to_trigger_trade': 0.1878235070359515, 'price_lookback_duration_seconds': 6, 'odds_change_deviation_to_trigger_take_prof': 0.09530417241592824}.\n"
     ]
    },
    {
     "name": "stdout",
     "output_type": "stream",
     "text": [
      "pnls:  [-2.0, -0.38, 0.0, 0.0, 0.0, -4.0, 0.0, 0.0, 0.0, -1.0, 0.73, 0.0, 0.0, 0.0, 1.06, -1.47, 0.0, 0.0, 0.0, 0.0, 0.0, 0.0, 0.0, -1.0, 0.0, 0.0, 0.0, 0.0, 5.9, -1.0, 0.0, 0.0, 0.0, -2.0, 0.0, 0.0, 1.68, 0.0, -1.0, 0.0, 0.0, 0.0, 0.0, 0.0, 1.79] \n",
      "sum: -2.6899999999999995 sum losses : - 13.85\n"
     ]
    },
    {
     "name": "stderr",
     "output_type": "stream",
     "text": [
      "[I 2025-09-13 19:11:16,375] Trial 97 finished with values: [7.54, 13.1] and parameters: {'max_order_exposure': 180, 'max_selection_exposure': 150, 'stake': 1.0, 'max_odds_threshold': 6.863540109802222, 'odds_change_deviation_to_trigger_trade': 0.1878235070359515, 'price_lookback_duration_seconds': 28, 'odds_change_deviation_to_trigger_take_prof': 0.09530417241592824}.\n"
     ]
    },
    {
     "name": "stdout",
     "output_type": "stream",
     "text": [
      "pnls:  [0.0, -0.33, 0.0, 0.0, 0.0, 0.0, 0.0, 0.0, 0.0, 11.9, 0.0, 0.0, -4.0, 0.0, 0.0, 0.0, 0.94, 0.0, 7.8, 0.0, 0.0, 0.0, -1.0, 0.0, -1.0, 0.0, 0.0, 0.0, 0.0, 0.0, 0.0, -2.15, -2.54, 0.0, 0.0, 0.0, -2.08, 0.0, 0.0, 0.0, 0.0, 0.0, 0.0, 0.0, 0.0] \n",
      "sum: 7.54 sum losses : - 13.1\n"
     ]
    },
    {
     "name": "stderr",
     "output_type": "stream",
     "text": [
      "[I 2025-09-13 19:11:58,384] Trial 98 finished with values: [0.0, 0.0] and parameters: {'max_order_exposure': 5, 'max_selection_exposure': 80, 'stake': 8.0, 'max_odds_threshold': 6.863540109802222, 'odds_change_deviation_to_trigger_trade': 0.005717088616835215, 'price_lookback_duration_seconds': 16, 'odds_change_deviation_to_trigger_take_prof': 0.6316145864767951}.\n"
     ]
    },
    {
     "name": "stdout",
     "output_type": "stream",
     "text": [
      "pnls:  [0.0, 0.0, 0.0, 0.0, 0.0, 0.0, 0.0, 0.0, 0.0, 0.0, 0.0, 0.0, 0.0, 0.0, 0.0, 0.0, 0.0, 0.0, 0.0, 0.0, 0.0, 0.0, 0.0, 0.0, 0.0, 0.0, 0.0, 0.0, 0.0, 0.0, 0.0, 0.0, 0.0, 0.0, 0.0, 0.0, 0.0, 0.0, 0.0, 0.0, 0.0, 0.0, 0.0, 0.0, 0.0] \n",
      "sum: 0.0 sum losses : - 0.0\n"
     ]
    },
    {
     "name": "stderr",
     "output_type": "stream",
     "text": [
      "[I 2025-09-13 19:14:08,532] Trial 99 finished with values: [-78.05, 109.06] and parameters: {'max_order_exposure': 25, 'max_selection_exposure': 60, 'stake': 8.0, 'max_odds_threshold': 3.1519349660486715, 'odds_change_deviation_to_trigger_trade': 0.14395836662170972, 'price_lookback_duration_seconds': 10, 'odds_change_deviation_to_trigger_take_prof': 0.03892193073672046}.\n"
     ]
    },
    {
     "name": "stdout",
     "output_type": "stream",
     "text": [
      "pnls:  [0.0, 0.0, 0.0, 0.0, 0.0, 0.0, 0.0, 0.0, 0.0, -2.08, 0.0, -6.42, -22.16, 0.0, 0.0, 0.0, -8.0, 0.0, 0.0, 0.0, 0.0, 0.0, 0.0, 0.0, 17.57, 0.0, 0.0, 0.0, 0.0, 0.0, 0.0, 0.0, 0.0, -48.0, -8.0, 0.0, 0.0, 0.0, -14.399999999999999, 0.0, 13.44, 0.0, 0.0, 0.0, 0.0] \n",
      "sum: -78.05 sum losses : - 109.06\n"
     ]
    },
    {
     "name": "stderr",
     "output_type": "stream",
     "text": [
      "[I 2025-09-13 19:14:56,461] Trial 100 finished with values: [17.76, 13.599999999999998] and parameters: {'max_order_exposure': 105, 'max_selection_exposure': 150, 'stake': 2.0, 'max_odds_threshold': 3.5851295467485693, 'odds_change_deviation_to_trigger_trade': 0.14395836662170972, 'price_lookback_duration_seconds': 15, 'odds_change_deviation_to_trigger_take_prof': 0.03892193073672046}.\n"
     ]
    },
    {
     "name": "stdout",
     "output_type": "stream",
     "text": [
      "pnls:  [0.0, 0.0, 0.0, 0.0, -0.8999999999999986, 0.0, 0.0, 0.0, 0.0, 0.0, 0.0, 0.0, 0.0, 4.14, 0.0, 0.0, 0.0, -4.5, 14.36, 0.0, 0.0, 0.0, 3.36, -2.0, 9.5, 0.0, 0.0, 0.0, 0.0, 0.0, 0.0, -0.2, 0.0, 0.0, 0.0, 0.0, 0.0, 0.0, 0.0, -2.0, 0.0, 0.0, 0.0, -4.0, 0.0] \n",
      "sum: 17.76 sum losses : - 13.599999999999998\n"
     ]
    },
    {
     "name": "stderr",
     "output_type": "stream",
     "text": [
      "[I 2025-09-13 19:16:56,934] Trial 101 finished with values: [-13.04, 31.02] and parameters: {'max_order_exposure': 5, 'max_selection_exposure': 30, 'stake': 1.0, 'max_odds_threshold': 12.957118391949374, 'odds_change_deviation_to_trigger_trade': 0.14970606608673215, 'price_lookback_duration_seconds': 16, 'odds_change_deviation_to_trigger_take_prof': 0.05024689618954185}.\n"
     ]
    },
    {
     "name": "stdout",
     "output_type": "stream",
     "text": [
      "pnls:  [0.0, 0.0, 0.0, -1.9699999999999998, -1.0, -1.5, -0.04, 0.0, -4.0, 0.0, -0.24, 0.55, 0.0, 0.0, -5.0, 0.0, 0.0, -1.02, 0.0, 0.0, -2.26, 0.0, 11.2, 0.0, -1.0, 2.9000000000000004, -1.0, 0.0, 0.0, -4.47, 0.0, 0.0, 0.0, 0.0, -1.0, 0.0, 0.0, -4.52, 0.0, 0.0, -2.0, 0.0, 0.0, 2.5, 0.83] \n",
      "sum: -13.04 sum losses : - 31.02\n"
     ]
    },
    {
     "name": "stderr",
     "output_type": "stream",
     "text": [
      "[I 2025-09-13 19:17:44,508] Trial 102 finished with values: [-97.61, 121.76] and parameters: {'max_order_exposure': 150, 'max_selection_exposure': 160, 'stake': 8.0, 'max_odds_threshold': 5.127954060470222, 'odds_change_deviation_to_trigger_trade': 0.14970606608673215, 'price_lookback_duration_seconds': 27, 'odds_change_deviation_to_trigger_take_prof': 0.33187002352262035}.\n"
     ]
    },
    {
     "name": "stdout",
     "output_type": "stream",
     "text": [
      "pnls:  [0.0, -16.0, 0.0, 0.0, -16.0, 24.0, 0.0, -8.0, 0.0, 0.0, 0.0, -8.0, 0.0, 0.0, -8.0, -0.14, -8.92, 0.0, -3.12, 0.0, 0.0, 0.0, 0.14999999999999858, 0.0, 0.0, -8.0, -24.0, 0.0, -2.9299999999999997, -8.0, 0.0, 0.0, 0.0, 0.0, -8.46, 0.0, 0.0, 0.0, 0.0, 0.0, 0.0, 0.0, -1.45, -0.74, 0.0] \n",
      "sum: -97.61 sum losses : - 121.76\n"
     ]
    },
    {
     "name": "stderr",
     "output_type": "stream",
     "text": [
      "[I 2025-09-13 19:19:51,195] Trial 103 finished with values: [1.6600000000000001, 10.0] and parameters: {'max_order_exposure': 30, 'max_selection_exposure': 120, 'stake': 1.0, 'max_odds_threshold': 5.127954060470222, 'odds_change_deviation_to_trigger_trade': 0.1878235070359515, 'price_lookback_duration_seconds': 16, 'odds_change_deviation_to_trigger_take_prof': 0.25841963641203636}.\n"
     ]
    },
    {
     "name": "stdout",
     "output_type": "stream",
     "text": [
      "pnls:  [0.0, 0.0, 0.0, 0.0, 0.0, 1.06, -1.0, -1.0, 0.0, 0.0, 0.0, 0.0, -1.0, 0.0, 0.0, 0.0, 0.0, 0.0, 2.25, 0.0, -1.0, 5.0, 0.0, 0.0, 0.0, 0.0, -3.0, 0.0, 0.0, 0.0, 1.12, -2.0, 0.0, 0.0, -1.0, 0.0, 0.0, 0.0, 0.73, 1.5, 0.0, 0.0, 0.0, 0.0, 0.0] \n",
      "sum: 1.6600000000000001 sum losses : - 10.0\n"
     ]
    },
    {
     "name": "stderr",
     "output_type": "stream",
     "text": [
      "[I 2025-09-13 19:20:19,763] Trial 104 finished with values: [-23.090000000000003, 40.34] and parameters: {'max_order_exposure': 105, 'max_selection_exposure': 30, 'stake': 7.0, 'max_odds_threshold': 2.4191430973498846, 'odds_change_deviation_to_trigger_trade': 0.07314090421113367, 'price_lookback_duration_seconds': 2, 'odds_change_deviation_to_trigger_take_prof': 0.9850706208723358}.\n"
     ]
    },
    {
     "name": "stdout",
     "output_type": "stream",
     "text": [
      "pnls:  [6.09, 0.0, 0.0, 0.0, 0.0, 0.0, 0.0, 0.0, 0.0, -1.1400000000000001, 0.0, 0.0, 0.0, 3.15, 0.0, -7.0, 0.0, 0.0, 2.87, -2.0300000000000002, 0.0, 0.0, 0.0, 0.0, 0.0, 0.0, 0.0, -7.350000000000001, -12.74, 0.0, 0.0, 0.0, 0.0, -10.08, 0.0, 0.18, 0.0, 0.0, 0.0, 0.0, 0.0, 0.0, 0.0, 4.96, 0.0] \n",
      "sum: -23.090000000000003 sum losses : - 40.34\n"
     ]
    },
    {
     "name": "stderr",
     "output_type": "stream",
     "text": [
      "[I 2025-09-13 19:22:26,695] Trial 105 finished with values: [-28.76, 44.86] and parameters: {'max_order_exposure': 115, 'max_selection_exposure': 150, 'stake': 2.0, 'max_odds_threshold': 6.863540109802222, 'odds_change_deviation_to_trigger_trade': 0.14395836662170972, 'price_lookback_duration_seconds': 6, 'odds_change_deviation_to_trigger_take_prof': 0.8614467799406271}.\n"
     ]
    },
    {
     "name": "stdout",
     "output_type": "stream",
     "text": [
      "pnls:  [0.0, 0.0, 0.0, 0.0, -0.38, 0.0, 0.0, -1.45, -5.62, -3.2, 0.0, 0.0, -2.0, 0.0, 1.72, -2.0, 0.0, -4.0, 0.0, -6.0, 4.5, 0.0, 0.0, 2.34, 0.0, 0.0, 0.0, 0.0, -8.0, 0.0, 7.539999999999999, 0.0, 0.0, -3.0300000000000002, 0.0, 0.0, 0.0, -1.12, -2.0, -2.0, 0.0, -1.65, -1.21, -1.2, 0.0] \n",
      "sum: -28.76 sum losses : - 44.86\n"
     ]
    },
    {
     "name": "stderr",
     "output_type": "stream",
     "text": [
      "[I 2025-09-13 19:23:23,664] Trial 106 finished with values: [-17.79, 124.08] and parameters: {'max_order_exposure': 150, 'max_selection_exposure': 200, 'stake': 5.0, 'max_odds_threshold': 12.98075831736601, 'odds_change_deviation_to_trigger_trade': 0.1878235070359515, 'price_lookback_duration_seconds': 28, 'odds_change_deviation_to_trigger_take_prof': 0.05182137524073478}.\n"
     ]
    },
    {
     "name": "stdout",
     "output_type": "stream",
     "text": [
      "pnls:  [0.0, 0.0, -16.08, 0.0, 0.0, 0.0, 0.0, 6.92, 0.0, -5.0, 0.0, 0.0, -0.74, -6.83, -10.0, 0.0, 0.0, -17.77, -10.0, -35.0, 3.89, 0.0, 0.0, 0.0, 0.0, 0.0, 16.9, 0.0, 0.0, 0.0, 0.0, 0.0, -5.0, 0.0, 0.0, 0.0, 49.58, -0.33, -15.92, 29.0, 0.0, 0.0, 0.0, -1.41, 0.0] \n",
      "sum: -17.79 sum losses : - 124.08\n"
     ]
    },
    {
     "name": "stderr",
     "output_type": "stream",
     "text": [
      "[I 2025-09-13 19:25:35,337] Trial 107 finished with values: [0.0, 0.0] and parameters: {'max_order_exposure': 5, 'max_selection_exposure': 30, 'stake': 6.0, 'max_odds_threshold': 17.707136865516315, 'odds_change_deviation_to_trigger_trade': 0.14970606608673215, 'price_lookback_duration_seconds': 16, 'odds_change_deviation_to_trigger_take_prof': 0.26786529123408104}.\n"
     ]
    },
    {
     "name": "stdout",
     "output_type": "stream",
     "text": [
      "pnls:  [0.0, 0.0, 0.0, 0.0, 0.0, 0.0, 0.0, 0.0, 0.0, 0.0, 0.0, 0.0, 0.0, 0.0, 0.0, 0.0, 0.0, 0.0, 0.0, 0.0, 0.0, 0.0, 0.0, 0.0, 0.0, 0.0, 0.0, 0.0, 0.0, 0.0, 0.0, 0.0, 0.0, 0.0, 0.0, 0.0, 0.0, 0.0, 0.0, 0.0, 0.0, 0.0, 0.0, 0.0, 0.0] \n",
      "sum: 0.0 sum losses : - 0.0\n"
     ]
    },
    {
     "name": "stderr",
     "output_type": "stream",
     "text": [
      "[I 2025-09-13 19:26:44,845] Trial 108 finished with values: [-15.930000000000012, 264.57] and parameters: {'max_order_exposure': 90, 'max_selection_exposure': 30, 'stake': 7.0, 'max_odds_threshold': 19.900569002618745, 'odds_change_deviation_to_trigger_trade': 0.0109262661618359, 'price_lookback_duration_seconds': 16, 'odds_change_deviation_to_trigger_take_prof': 0.08089153052493536}.\n"
     ]
    },
    {
     "name": "stdout",
     "output_type": "stream",
     "text": [
      "pnls:  [0.0, -3.9700000000000024, 17.78, -18.43, 8.709999999999999, 12.849999999999998, 0.7, -19.32, -14.0, -0.7499999999999998, -16.95, 16.56, -25.48, -7.290000000000002, 2.88, 10.469999999999999, 16.52, -0.019999999999999962, 0.0, -11.710000000000003, -14.790000000000001, -5.839999999999998, -1.69, 0.8999999999999986, 0.0, -11.45, 102.5, -3.5900000000000007, -5.93, -16.71, 15.94, -0.5599999999999998, -8.399999999999999, 0.0, 0.0, -11.86, -6.41, -4.130000000000002, 29.270000000000003, -6.040000000000003, 8.73, -14.0, -14.0, -21.25, 4.83] \n",
      "sum: -15.930000000000012 sum losses : - 264.57\n"
     ]
    },
    {
     "name": "stderr",
     "output_type": "stream",
     "text": [
      "[I 2025-09-13 19:29:47,774] Trial 109 finished with values: [-92.54999999999998, 606.9] and parameters: {'max_order_exposure': 90, 'max_selection_exposure': 150, 'stake': 7.0, 'max_odds_threshold': 3.1519349660486715, 'odds_change_deviation_to_trigger_trade': 0.008381995097394757, 'price_lookback_duration_seconds': 25, 'odds_change_deviation_to_trigger_take_prof': 0.08089153052493536}.\n"
     ]
    },
    {
     "name": "stdout",
     "output_type": "stream",
     "text": [
      "pnls:  [1.8899999999999997, 0.0, 35.06, -114.88, 65.19, -27.56, 0.0, 23.330000000000005, 0.0, -38.07999999999997, 30.08, 0.0, 1.1800000000000002, 39.82, 42.580000000000005, 5.329999999999991, 45.3, -0.3999999999999986, 0.0, 24.859999999999996, -7.0, 39.76, 100.63000000000001, 33.620000000000005, -10.600000000000001, -61.010000000000005, -15.22, 0.0, -8.860000000000014, -36.61, -55.39000000000001, -50.2, 3.7199999999999998, -35.99, 0.0, 20.03, -9.51, -46.629999999999995, 1.9700000000000002, -49.940000000000005, 0.0, -3.6, -18.11, -7.349999999999985, -9.960000000000008] \n",
      "sum: -92.54999999999998 sum losses : - 606.9\n"
     ]
    },
    {
     "name": "stderr",
     "output_type": "stream",
     "text": [
      "[I 2025-09-13 19:29:54,626] Trial 110 finished with values: [-29.22, 40.0] and parameters: {'max_order_exposure': 40, 'max_selection_exposure': 160, 'stake': 8.0, 'max_odds_threshold': 1.610733343905984, 'odds_change_deviation_to_trigger_trade': 0.07491370666640622, 'price_lookback_duration_seconds': 6, 'odds_change_deviation_to_trigger_take_prof': 0.05182137524073478}.\n"
     ]
    },
    {
     "name": "stdout",
     "output_type": "stream",
     "text": [
      "pnls:  [0.0, 0.0, 0.0, 0.0, -8.0, 0.0, 0.0, 0.0, 0.0, 0.0, 1.1, 0.0, 0.0, 0.0, 4.24, 0.0, 0.0, 0.0, -8.0, 0.0, 0.0, 0.0, 0.0, 0.0, -8.0, 0.0, 0.0, 0.0, 3.76, 0.0, 0.0, 0.0, -16.0, 0.0, 1.68, 0.0, 0.0, 0.0, 0.0, 0.0, 0.0, 0.0, 0.0, 0.0, 0.0] \n",
      "sum: -29.22 sum losses : - 40.0\n"
     ]
    },
    {
     "name": "stderr",
     "output_type": "stream",
     "text": [
      "[I 2025-09-13 19:32:50,302] Trial 111 finished with values: [-87.99000000000001, 204.64000000000001] and parameters: {'max_order_exposure': 105, 'max_selection_exposure': 30, 'stake': 7.0, 'max_odds_threshold': 6.863540109802222, 'odds_change_deviation_to_trigger_trade': 0.007178856520514159, 'price_lookback_duration_seconds': 6, 'odds_change_deviation_to_trigger_take_prof': 0.26786529123408104}.\n"
     ]
    },
    {
     "name": "stdout",
     "output_type": "stream",
     "text": [
      "pnls:  [-2.38, 4.219999999999999, -1.0100000000000033, 6.23, -12.379999999999999, 8.340000000000002, 7.33, -26.49, -9.38, 1.32, 0.0, -17.11, 2.54, -14.0, -11.740000000000002, 3.3400000000000007, 6.29, -6.539999999999998, 11.15, 3.4000000000000004, -18.42, -10.949999999999998, -5.1899999999999995, -3.7000000000000024, 2.7499999999999987, -0.5600000000000023, 0.0, -2.3800000000000026, 0.0, 0.7199999999999989, 0.0, 0.94, -2.1900000000000004, 0.0, 11.81, 14.0, -5.210000000000001, 15.790000000000003, 0.0, -1.4, 16.479999999999997, -14.0, -19.95, -11.2, -8.46] \n",
      "sum: -87.99000000000001 sum losses : - 204.64000000000001\n"
     ]
    },
    {
     "name": "stderr",
     "output_type": "stream",
     "text": [
      "[I 2025-09-13 19:33:17,324] Trial 112 finished with values: [44.50000000000008, 445.1499999999999] and parameters: {'max_order_exposure': 105, 'max_selection_exposure': 120, 'stake': 7.0, 'max_odds_threshold': 7.784837787504579, 'odds_change_deviation_to_trigger_trade': 0.03200311741329477, 'price_lookback_duration_seconds': 16, 'odds_change_deviation_to_trigger_take_prof': 0.25841963641203636}.\n"
     ]
    },
    {
     "name": "stdout",
     "output_type": "stream",
     "text": [
      "pnls:  [-76.42999999999999, -0.24, 4.940000000000001, 0.0, 26.810000000000002, -1.6500000000000001, 0.0, 0.0, -4.98, 8.01, 12.719999999999999, 46.610000000000014, 3.01, -5.09, -1.91, -10.290000000000001, -27.3, 19.96, -14.85, -8.85, 73.72000000000001, -6.95, 4.03, 0.0, 0.24, -69.72999999999999, 20.259999999999998, 2.17, 8.120000000000003, 42.539999999999985, -43.39999999999999, -11.76, -86.55, 16.42, -3.36, 2.679999999999999, 15.43, 0.0, -47.50999999999997, 0.0, -3.6, 0.72, -20.699999999999996, 125.77000000000001, 55.48999999999999] \n",
      "sum: 44.50000000000008 sum losses : - 445.1499999999999\n"
     ]
    },
    {
     "name": "stderr",
     "output_type": "stream",
     "text": [
      "[I 2025-09-13 19:35:13,779] Trial 113 finished with values: [0.0, 0.0] and parameters: {'max_order_exposure': 5, 'max_selection_exposure': 150, 'stake': 8.0, 'max_odds_threshold': 14.349904548506677, 'odds_change_deviation_to_trigger_trade': 0.0109262661618359, 'price_lookback_duration_seconds': 23, 'odds_change_deviation_to_trigger_take_prof': 0.08089153052493536}.\n"
     ]
    },
    {
     "name": "stdout",
     "output_type": "stream",
     "text": [
      "pnls:  [0.0, 0.0, 0.0, 0.0, 0.0, 0.0, 0.0, 0.0, 0.0, 0.0, 0.0, 0.0, 0.0, 0.0, 0.0, 0.0, 0.0, 0.0, 0.0, 0.0, 0.0, 0.0, 0.0, 0.0, 0.0, 0.0, 0.0, 0.0, 0.0, 0.0, 0.0, 0.0, 0.0, 0.0, 0.0, 0.0, 0.0, 0.0, 0.0, 0.0, 0.0, 0.0, 0.0, 0.0, 0.0] \n",
      "sum: 0.0 sum losses : - 0.0\n"
     ]
    },
    {
     "name": "stderr",
     "output_type": "stream",
     "text": [
      "[I 2025-09-13 19:36:01,182] Trial 114 finished with values: [0.0, 0.0] and parameters: {'max_order_exposure': 5, 'max_selection_exposure': 150, 'stake': 7.0, 'max_odds_threshold': 16.275134896544845, 'odds_change_deviation_to_trigger_trade': 0.08120813134995034, 'price_lookback_duration_seconds': 1, 'odds_change_deviation_to_trigger_take_prof': 0.759176601133651}.\n"
     ]
    },
    {
     "name": "stdout",
     "output_type": "stream",
     "text": [
      "pnls:  [0.0, 0.0, 0.0, 0.0, 0.0, 0.0, 0.0, 0.0, 0.0, 0.0, 0.0, 0.0, 0.0, 0.0, 0.0, 0.0, 0.0, 0.0, 0.0, 0.0, 0.0, 0.0, 0.0, 0.0, 0.0, 0.0, 0.0, 0.0, 0.0, 0.0, 0.0, 0.0, 0.0, 0.0, 0.0, 0.0, 0.0, 0.0, 0.0, 0.0, 0.0, 0.0, 0.0, 0.0, 0.0] \n",
      "sum: 0.0 sum losses : - 0.0\n"
     ]
    },
    {
     "name": "stderr",
     "output_type": "stream",
     "text": [
      "[I 2025-09-13 19:38:00,353] Trial 115 finished with values: [0.0, 0.0] and parameters: {'max_order_exposure': 5, 'max_selection_exposure': 20, 'stake': 8.0, 'max_odds_threshold': 14.349904548506677, 'odds_change_deviation_to_trigger_trade': 0.13261891370897053, 'price_lookback_duration_seconds': 28, 'odds_change_deviation_to_trigger_take_prof': 0.33187002352262035}.\n"
     ]
    },
    {
     "name": "stdout",
     "output_type": "stream",
     "text": [
      "pnls:  [0.0, 0.0, 0.0, 0.0, 0.0, 0.0, 0.0, 0.0, 0.0, 0.0, 0.0, 0.0, 0.0, 0.0, 0.0, 0.0, 0.0, 0.0, 0.0, 0.0, 0.0, 0.0, 0.0, 0.0, 0.0, 0.0, 0.0, 0.0, 0.0, 0.0, 0.0, 0.0, 0.0, 0.0, 0.0, 0.0, 0.0, 0.0, 0.0, 0.0, 0.0, 0.0, 0.0, 0.0, 0.0] \n",
      "sum: 0.0 sum losses : - 0.0\n"
     ]
    },
    {
     "name": "stderr",
     "output_type": "stream",
     "text": [
      "[I 2025-09-13 19:38:22,826] Trial 116 finished with values: [0.0, 0.0] and parameters: {'max_order_exposure': 5, 'max_selection_exposure': 150, 'stake': 8.0, 'max_odds_threshold': 14.349904548506677, 'odds_change_deviation_to_trigger_trade': 0.14970606608673215, 'price_lookback_duration_seconds': 1, 'odds_change_deviation_to_trigger_take_prof': 0.759176601133651}.\n"
     ]
    },
    {
     "name": "stdout",
     "output_type": "stream",
     "text": [
      "pnls:  [0.0, 0.0, 0.0, 0.0, 0.0, 0.0, 0.0, 0.0, 0.0, 0.0, 0.0, 0.0, 0.0, 0.0, 0.0, 0.0, 0.0, 0.0, 0.0, 0.0, 0.0, 0.0, 0.0, 0.0, 0.0, 0.0, 0.0, 0.0, 0.0, 0.0, 0.0, 0.0, 0.0, 0.0, 0.0, 0.0, 0.0, 0.0, 0.0, 0.0, 0.0, 0.0, 0.0, 0.0, 0.0] \n",
      "sum: 0.0 sum losses : - 0.0\n"
     ]
    },
    {
     "name": "stderr",
     "output_type": "stream",
     "text": [
      "[I 2025-09-13 19:40:37,343] Trial 117 finished with values: [0.0, 0.0] and parameters: {'max_order_exposure': 5, 'max_selection_exposure': 30, 'stake': 6.0, 'max_odds_threshold': 17.707136865516315, 'odds_change_deviation_to_trigger_trade': 0.07860793078159736, 'price_lookback_duration_seconds': 16, 'odds_change_deviation_to_trigger_take_prof': 0.26786529123408104}.\n"
     ]
    },
    {
     "name": "stdout",
     "output_type": "stream",
     "text": [
      "pnls:  [0.0, 0.0, 0.0, 0.0, 0.0, 0.0, 0.0, 0.0, 0.0, 0.0, 0.0, 0.0, 0.0, 0.0, 0.0, 0.0, 0.0, 0.0, 0.0, 0.0, 0.0, 0.0, 0.0, 0.0, 0.0, 0.0, 0.0, 0.0, 0.0, 0.0, 0.0, 0.0, 0.0, 0.0, 0.0, 0.0, 0.0, 0.0, 0.0, 0.0, 0.0, 0.0, 0.0, 0.0, 0.0] \n",
      "sum: 0.0 sum losses : - 0.0\n"
     ]
    },
    {
     "name": "stderr",
     "output_type": "stream",
     "text": [
      "[I 2025-09-13 19:41:38,649] Trial 118 finished with values: [23.82, 40.4] and parameters: {'max_order_exposure': 5, 'max_selection_exposure': 150, 'stake': 2.0, 'max_odds_threshold': 16.275134896544845, 'odds_change_deviation_to_trigger_trade': 0.08120813134995034, 'price_lookback_duration_seconds': 1, 'odds_change_deviation_to_trigger_take_prof': 0.759176601133651}.\n"
     ]
    },
    {
     "name": "stdout",
     "output_type": "stream",
     "text": [
      "pnls:  [19.32, 4.0, 0.0, 0.0, 0.0, 0.0, -6.35, -0.87, 0.0, -0.5, 0.0, 1.56, -4.0, 0.0, 5.0, 0.0, 0.0, -2.0, 0.0, 0.0, -8.0, -1.3499999999999996, -2.0, 5.0, 0.0, 0.0, 0.0, -0.09, -4.0, 0.0, 0.0, 0.0, 0.0, -0.25, -0.26, -4.3100000000000005, -6.0, -0.4200000000000001, 0.0, 0.0, 0.0, 0.66, 0.0, 28.68, 0.0] \n",
      "sum: 23.82 sum losses : - 40.4\n"
     ]
    },
    {
     "name": "stderr",
     "output_type": "stream",
     "text": [
      "[I 2025-09-13 19:43:17,800] Trial 119 finished with values: [-10.920000000000012, 130.33] and parameters: {'max_order_exposure': 105, 'max_selection_exposure': 20, 'stake': 8.0, 'max_odds_threshold': 8.897269975147799, 'odds_change_deviation_to_trigger_trade': 0.005645061908267353, 'price_lookback_duration_seconds': 16, 'odds_change_deviation_to_trigger_take_prof': 0.05182137524073478}.\n"
     ]
    },
    {
     "name": "stdout",
     "output_type": "stream",
     "text": [
      "pnls:  [0.0, 13.530000000000001, 0.0, 13.17, 9.28, 6.199999999999999, -1.850000000000001, -3.700000000000001, 11.3, -0.6400000000000006, -8.51, -3.6, 0.0, -16.0, -8.53, 0.0, 2.21, 1.9099999999999993, -3.9700000000000006, 0.0, 4.52, -3.2, -13.290000000000003, 9.52, 1.3, 0.23999999999999932, -5.030000000000001, 7.16, -2.7200000000000006, 0.0, 1.83, 2.66, 13.079999999999998, 2.79, 7.77, -6.279999999999999, -16.0, 0.0, 4.17, 0.0, -5.010000000000002, -16.0, -16.0, 1.2799999999999994, 5.489999999999999] \n",
      "sum: -10.920000000000012 sum losses : - 130.33\n"
     ]
    },
    {
     "name": "stderr",
     "output_type": "stream",
     "text": [
      "[I 2025-09-13 19:44:11,678] Trial 120 finished with values: [4.08, 0.0] and parameters: {'max_order_exposure': 40, 'max_selection_exposure': 20, 'stake': 8.0, 'max_odds_threshold': 1.610733343905984, 'odds_change_deviation_to_trigger_trade': 0.14970606608673215, 'price_lookback_duration_seconds': 15, 'odds_change_deviation_to_trigger_take_prof': 0.33187002352262035}.\n"
     ]
    },
    {
     "name": "stdout",
     "output_type": "stream",
     "text": [
      "pnls:  [0.0, 0.0, 0.0, 0.0, 0.0, 0.0, 0.0, 4.08, 0.0, 0.0, 0.0, 0.0, 0.0, 0.0, 0.0, 0.0, 0.0, 0.0, 0.0, 0.0, 0.0, 0.0, 0.0, 0.0, 0.0, 0.0, 0.0, 0.0, 0.0, 0.0, 0.0, 0.0, 0.0, 0.0, 0.0, 0.0, 0.0, 0.0, 0.0, 0.0, 0.0, 0.0, 0.0, 0.0, 0.0] \n",
      "sum: 4.08 sum losses : - 0.0\n"
     ]
    },
    {
     "name": "stderr",
     "output_type": "stream",
     "text": [
      "[I 2025-09-13 19:46:18,536] Trial 121 finished with values: [-47.769999999999996, 155.74] and parameters: {'max_order_exposure': 200, 'max_selection_exposure': 170, 'stake': 8.0, 'max_odds_threshold': 19.486893068871737, 'odds_change_deviation_to_trigger_trade': 0.1878235070359515, 'price_lookback_duration_seconds': 16, 'odds_change_deviation_to_trigger_take_prof': 0.26786529123408104}.\n"
     ]
    },
    {
     "name": "stdout",
     "output_type": "stream",
     "text": [
      "pnls:  [0.0, 0.0, 0.0, 0.0, 0.0, 0.0, -16.06, 0.0, -15.780000000000001, -27.82, 46.4, 0.0, 0.0, 0.0, -24.73, 3.89, 0.0, 0.0, 3.5700000000000003, 0.0, -31.54, 0.0, 0.0, 0.0, 0.0, 35.38, 18.0, 0.0, 0.0, 0.0, -9.27, 0.0, 0.0, 0.0, 0.0, -7.96, 0.73, 0.0, 0.0, 0.0, 0.0, -14.16, 0.0, 0.0, -8.42] \n",
      "sum: -47.769999999999996 sum losses : - 155.74\n"
     ]
    },
    {
     "name": "stderr",
     "output_type": "stream",
     "text": [
      "[I 2025-09-13 19:47:26,118] Trial 122 finished with values: [3.7600000000000002, 164.75] and parameters: {'max_order_exposure': 105, 'max_selection_exposure': 90, 'stake': 1.0, 'max_odds_threshold': 18.668867392095798, 'odds_change_deviation_to_trigger_trade': 0.028613273525063383, 'price_lookback_duration_seconds': 16, 'odds_change_deviation_to_trigger_take_prof': 0.05182137524073478}.\n"
     ]
    },
    {
     "name": "stdout",
     "output_type": "stream",
     "text": [
      "pnls:  [0.0, 0.0, -41.27, 0.0, -0.8799999999999999, -1.5899999999999999, -21.180000000000003, 8.93, 39.95, 0.7799999999999999, -1.0, 0.0, 3.359999999999999, -3.0, -0.07999999999999996, 0.2, 0.0, -1.06, 1.73, -0.88, -7.909999999999999, 3.6, 3.84, 0.0, 2.7299999999999995, 2.9099999999999997, -4.84, -7.34, -0.07000000000000006, 13.040000000000001, -2.37, -0.32, 1.0299999999999998, 2.1, 0.45, 66.35, -32.46999999999999, 17.509999999999994, -36.81999999999999, -0.29000000000000004, 0.0, 0.0, 0.0, -0.69, -0.69] \n",
      "sum: 3.7600000000000002 sum losses : - 164.75\n"
     ]
    },
    {
     "name": "stderr",
     "output_type": "stream",
     "text": [
      "[I 2025-09-13 19:48:54,442] Trial 123 finished with values: [0.0, 0.0] and parameters: {'max_order_exposure': 5, 'max_selection_exposure': 90, 'stake': 7.0, 'max_odds_threshold': 18.668867392095798, 'odds_change_deviation_to_trigger_trade': 0.005645061908267353, 'price_lookback_duration_seconds': 16, 'odds_change_deviation_to_trigger_take_prof': 0.2393193965290897}.\n"
     ]
    },
    {
     "name": "stdout",
     "output_type": "stream",
     "text": [
      "pnls:  [0.0, 0.0, 0.0, 0.0, 0.0, 0.0, 0.0, 0.0, 0.0, 0.0, 0.0, 0.0, 0.0, 0.0, 0.0, 0.0, 0.0, 0.0, 0.0, 0.0, 0.0, 0.0, 0.0, 0.0, 0.0, 0.0, 0.0, 0.0, 0.0, 0.0, 0.0, 0.0, 0.0, 0.0, 0.0, 0.0, 0.0, 0.0, 0.0, 0.0, 0.0, 0.0, 0.0, 0.0, 0.0] \n",
      "sum: 0.0 sum losses : - 0.0\n"
     ]
    },
    {
     "name": "stderr",
     "output_type": "stream",
     "text": [
      "[I 2025-09-13 19:50:36,121] Trial 124 finished with values: [0.0, 0.0] and parameters: {'max_order_exposure': 5, 'max_selection_exposure': 100, 'stake': 8.0, 'max_odds_threshold': 17.707136865516315, 'odds_change_deviation_to_trigger_trade': 0.1878235070359515, 'price_lookback_duration_seconds': 2, 'odds_change_deviation_to_trigger_take_prof': 0.26786529123408104}.\n"
     ]
    },
    {
     "name": "stdout",
     "output_type": "stream",
     "text": [
      "pnls:  [0.0, 0.0, 0.0, 0.0, 0.0, 0.0, 0.0, 0.0, 0.0, 0.0, 0.0, 0.0, 0.0, 0.0, 0.0, 0.0, 0.0, 0.0, 0.0, 0.0, 0.0, 0.0, 0.0, 0.0, 0.0, 0.0, 0.0, 0.0, 0.0, 0.0, 0.0, 0.0, 0.0, 0.0, 0.0, 0.0, 0.0, 0.0, 0.0, 0.0, 0.0, 0.0, 0.0, 0.0, 0.0] \n",
      "sum: 0.0 sum losses : - 0.0\n"
     ]
    },
    {
     "name": "stderr",
     "output_type": "stream",
     "text": [
      "[I 2025-09-13 19:51:35,513] Trial 125 finished with values: [-102.76, 127.99] and parameters: {'max_order_exposure': 5, 'max_selection_exposure': 30, 'stake': 1.0, 'max_odds_threshold': 6.863540109802222, 'odds_change_deviation_to_trigger_trade': 0.04914067309163208, 'price_lookback_duration_seconds': 28, 'odds_change_deviation_to_trigger_take_prof': 0.09530417241592824}.\n"
     ]
    },
    {
     "name": "stdout",
     "output_type": "stream",
     "text": [
      "pnls:  [0.0, -13.72, -3.34, -2.37, -2.14, 3.1100000000000003, -2.0, -1.6200000000000006, 0.0, -3.7499999999999996, -0.64, -0.04, 6.52, 0.0, -2.32, -1.0, 0.0, -20.79, -9.7, 0.28, 0.0, -13.14, -0.97, 0.0, -5.63, -3.0, 0.0, -6.15, -1.0, -1.15, 1.31, -21.52, 0.67, 0.0, -0.48, 13.34, -1.0, -5.16, -1.230000000000001, -1.0, -2.0, 0.0, 0.0, 0.0, -1.13] \n",
      "sum: -102.76 sum losses : - 127.99\n"
     ]
    },
    {
     "name": "stderr",
     "output_type": "stream",
     "text": [
      "[I 2025-09-13 19:53:24,982] Trial 126 finished with values: [119.69, 158.19] and parameters: {'max_order_exposure': 40, 'max_selection_exposure': 120, 'stake': 1.0, 'max_odds_threshold': 1.610733343905984, 'odds_change_deviation_to_trigger_trade': 0.005645061908267353, 'price_lookback_duration_seconds': 13, 'odds_change_deviation_to_trigger_take_prof': 0.09530417241592824}.\n"
     ]
    },
    {
     "name": "stdout",
     "output_type": "stream",
     "text": [
      "pnls:  [0.0, 12.670000000000003, -21.07, 5.18, 1.5800000000000003, 0.0, -32.96, 9.06, 0.0, 0.0, -1.0, 1.22, -49.019999999999996, 42.18000000000001, 0.0, 42.48999999999998, 0.16, 0.84, 0.0, 8.890000000000002, -8.96, 1.1, 0.0, 21.08, 0.0, 0.0, 5.119999999999999, 0.0, 1.1800000000000002, -19.0, 0.0, 36.92999999999999, 11.720000000000006, 1.97, -25.0, 0.0, 1.4199999999999997, 9.929999999999998, 0.6699999999999999, 8.399999999999997, 44.63000000000002, 5.81, 0.0, -1.1800000000000022, 3.6500000000000004] \n",
      "sum: 119.69 sum losses : - 158.19\n"
     ]
    },
    {
     "name": "stderr",
     "output_type": "stream",
     "text": [
      "[I 2025-09-13 19:54:18,110] Trial 127 finished with values: [0.0, 0.0] and parameters: {'max_order_exposure': 10, 'max_selection_exposure': 160, 'stake': 1.0, 'max_odds_threshold': 1.610733343905984, 'odds_change_deviation_to_trigger_trade': 0.1878235070359515, 'price_lookback_duration_seconds': 28, 'odds_change_deviation_to_trigger_take_prof': 0.09530417241592824}.\n"
     ]
    },
    {
     "name": "stdout",
     "output_type": "stream",
     "text": [
      "pnls:  [0.0, 0.0, 0.0, 0.0, 0.0, 0.0, 0.0, 0.0, 0.0, 0.0, 0.0, 0.0, 0.0, 0.0, 0.0, 0.0, 0.0, 0.0, 0.0, 0.0, 0.0, 0.0, 0.0, 0.0, 0.0, 0.0, 0.0, 0.0, 0.0, 0.0, 0.0, 0.0, 0.0, 0.0, 0.0, 0.0, 0.0, 0.0, 0.0, 0.0, 0.0, 0.0, 0.0, 0.0, 0.0] \n",
      "sum: 0.0 sum losses : - 0.0\n"
     ]
    },
    {
     "name": "stderr",
     "output_type": "stream",
     "text": [
      "[I 2025-09-13 19:55:53,034] Trial 128 finished with values: [0.0, 0.0] and parameters: {'max_order_exposure': 5, 'max_selection_exposure': 120, 'stake': 8.0, 'max_odds_threshold': 14.349904548506677, 'odds_change_deviation_to_trigger_trade': 0.1878235070359515, 'price_lookback_duration_seconds': 23, 'odds_change_deviation_to_trigger_take_prof': 0.09530417241592824}.\n"
     ]
    },
    {
     "name": "stdout",
     "output_type": "stream",
     "text": [
      "pnls:  [0.0, 0.0, 0.0, 0.0, 0.0, 0.0, 0.0, 0.0, 0.0, 0.0, 0.0, 0.0, 0.0, 0.0, 0.0, 0.0, 0.0, 0.0, 0.0, 0.0, 0.0, 0.0, 0.0, 0.0, 0.0, 0.0, 0.0, 0.0, 0.0, 0.0, 0.0, 0.0, 0.0, 0.0, 0.0, 0.0, 0.0, 0.0, 0.0, 0.0, 0.0, 0.0, 0.0, 0.0, 0.0] \n",
      "sum: 0.0 sum losses : - 0.0\n"
     ]
    },
    {
     "name": "stderr",
     "output_type": "stream",
     "text": [
      "[I 2025-09-13 19:57:23,833] Trial 129 finished with values: [-2.299999999999999, 22.11] and parameters: {'max_order_exposure': 180, 'max_selection_exposure': 170, 'stake': 1.0, 'max_odds_threshold': 6.863540109802222, 'odds_change_deviation_to_trigger_trade': 0.1878235070359515, 'price_lookback_duration_seconds': 28, 'odds_change_deviation_to_trigger_take_prof': 0.12238149135402755}.\n"
     ]
    },
    {
     "name": "stdout",
     "output_type": "stream",
     "text": [
      "pnls:  [0.0, -1.56, 0.0, 0.0, 0.0, 0.0, -1.0, -2.0, -0.06, 0.0, 13.110000000000001, 0.0, -1.0, -1.95, -1.0, 0.0, 0.0, -5.0, 0.0, -1.0, 0.0, 0.0, 0.0, -2.54, 2.5, 0.0, -1.0, 0.0, 0.0, 1.06, 0.0, 0.0, -1.0, 0.0, 0.0, 3.1399999999999997, 0.0, 0.0, 0.0, 0.0, 0.0, 0.0, 0.0, -3.0, 0.0] \n",
      "sum: -2.299999999999999 sum losses : - 22.11\n"
     ]
    },
    {
     "name": "stderr",
     "output_type": "stream",
     "text": [
      "[I 2025-09-13 19:58:36,543] Trial 130 finished with values: [0.0, 0.0] and parameters: {'max_order_exposure': 5, 'max_selection_exposure': 100, 'stake': 8.0, 'max_odds_threshold': 14.349904548506677, 'odds_change_deviation_to_trigger_trade': 0.06481249938051628, 'price_lookback_duration_seconds': 16, 'odds_change_deviation_to_trigger_take_prof': 0.03060977944697237}.\n"
     ]
    },
    {
     "name": "stdout",
     "output_type": "stream",
     "text": [
      "pnls:  [0.0, 0.0, 0.0, 0.0, 0.0, 0.0, 0.0, 0.0, 0.0, 0.0, 0.0, 0.0, 0.0, 0.0, 0.0, 0.0, 0.0, 0.0, 0.0, 0.0, 0.0, 0.0, 0.0, 0.0, 0.0, 0.0, 0.0, 0.0, 0.0, 0.0, 0.0, 0.0, 0.0, 0.0, 0.0, 0.0, 0.0, 0.0, 0.0, 0.0, 0.0, 0.0, 0.0, 0.0, 0.0] \n",
      "sum: 0.0 sum losses : - 0.0\n"
     ]
    },
    {
     "name": "stderr",
     "output_type": "stream",
     "text": [
      "[I 2025-09-13 20:00:13,263] Trial 131 finished with values: [-91.17, 173.02] and parameters: {'max_order_exposure': 185, 'max_selection_exposure': 20, 'stake': 7.0, 'max_odds_threshold': 16.275134896544845, 'odds_change_deviation_to_trigger_trade': 0.08120813134995034, 'price_lookback_duration_seconds': 1, 'odds_change_deviation_to_trigger_take_prof': 0.33187002352262035}.\n"
     ]
    },
    {
     "name": "stdout",
     "output_type": "stream",
     "text": [
      "pnls:  [3.87, -6.27, 14.07, 2.31, 3.92, 0.0, -7.0, 0.0, -15.52, 0.0, -18.1, -12.259999999999998, 0.0, -14.2, -0.12, 0.0, -16.67, 0.0, 0.8000000000000003, 0.0, 0.0, 56.0, -14.0, 0.0, -0.09, 0.0, 0.0, 0.0, 0.0, 0.0, -10.08, -7.380000000000001, -15.2, -14.0, -0.01, 0.0, -0.87, -0.04, 0.0, -7.0, -13.07, 0.0, 0.0, -1.1400000000000001, 0.88] \n",
      "sum: -91.17 sum losses : - 173.02\n"
     ]
    },
    {
     "name": "stderr",
     "output_type": "stream",
     "text": [
      "[I 2025-09-13 20:01:55,475] Trial 132 finished with values: [24.999999999999996, 231.89999999999998] and parameters: {'max_order_exposure': 110, 'max_selection_exposure': 100, 'stake': 2.0, 'max_odds_threshold': 17.707136865516315, 'odds_change_deviation_to_trigger_trade': 0.016563262557074025, 'price_lookback_duration_seconds': 16, 'odds_change_deviation_to_trigger_take_prof': 0.26786529123408104}.\n"
     ]
    },
    {
     "name": "stdout",
     "output_type": "stream",
     "text": [
      "pnls:  [0.0, 0.6800000000000002, 0.7400000000000002, 1.48, 169.38, 1.8200000000000003, 1.2800000000000002, 0.0, -28.429999999999996, -3.880000000000001, -55.540000000000006, 0.7599999999999998, 0.0, -7.729999999999997, -12.77, -0.6700000000000019, -4.46, 0.0, -4.34, -0.08, -0.8200000000000001, 0.0, 0.22, -19.979999999999986, 9.029999999999994, -9.31, -4.899999999999999, -8.680000000000001, -46.61, -5.869999999999999, -2.67, 8.239999999999995, 0.0, 0.0, 1.74, 12.72, -0.07999999999999985, 20.190000000000005, 3.15, 0.36000000000000026, 25.109999999999992, -0.09, -1.6000000000000005, -11.020000000000001, -2.3699999999999997] \n",
      "sum: 24.999999999999996 sum losses : - 231.89999999999998\n"
     ]
    },
    {
     "name": "stderr",
     "output_type": "stream",
     "text": [
      "[I 2025-09-13 20:03:47,797] Trial 133 finished with values: [-49.40999999999999, 153.76999999999998] and parameters: {'max_order_exposure': 200, 'max_selection_exposure': 120, 'stake': 1.0, 'max_odds_threshold': 6.863540109802222, 'odds_change_deviation_to_trigger_trade': 0.038773853363908886, 'price_lookback_duration_seconds': 13, 'odds_change_deviation_to_trigger_take_prof': 0.09530417241592824}.\n"
     ]
    },
    {
     "name": "stdout",
     "output_type": "stream",
     "text": [
      "pnls:  [0.0, -3.13, -38.17, -20.0, 0.84, 0.0, -1.0, -0.11, -12.45, 1.59, 0.0, -1.1700000000000002, -0.8799999999999999, 3.6, 0.0, 1.69, 1.1, -20.91, 0.0, 0.0, 3.84, -2.1199999999999997, -1.85, 1.5, 0.0, 6.390000000000001, 0.0, 8.0, -20.509999999999998, -2.2, 0.69, 3.26, -15.179999999999996, 0.8600000000000001, -1.1, 1.9699999999999998, -0.01, 3.8099999999999996, -2.4699999999999998, 1.2199999999999995, -10.509999999999998, 0.0, 6.87, 0.0, 57.13] \n",
      "sum: -49.40999999999999 sum losses : - 153.76999999999998\n"
     ]
    },
    {
     "name": "stderr",
     "output_type": "stream",
     "text": [
      "[I 2025-09-13 20:05:38,679] Trial 134 finished with values: [109.78000000000002, 392.59999999999997] and parameters: {'max_order_exposure': 170, 'max_selection_exposure': 80, 'stake': 3.0, 'max_odds_threshold': 6.863540109802222, 'odds_change_deviation_to_trigger_trade': 0.005717088616835215, 'price_lookback_duration_seconds': 6, 'odds_change_deviation_to_trigger_take_prof': 0.5004104290530703}.\n"
     ]
    },
    {
     "name": "stdout",
     "output_type": "stream",
     "text": [
      "pnls:  [8.67, 16.529999999999998, -75.0, -33.34, 3.4099999999999997, 10.569999999999999, 11.030000000000001, 27.74, -29.630000000000003, -8.60999999999999, 2.73, 3.040000000000001, 0.0, 0.0, 36.230000000000004, 40.32000000000001, -52.6, 0.0, 22.849999999999998, 0.0, 24.6, 99.96000000000001, 0.0, 29.449999999999996, 1.3299999999999996, 76.94, 0.0, 0.8, -40.11, -20.849999999999998, -0.2900000000000003, -10.2, 6.98, 0.0, -27.700000000000003, 22.9, -42.42, -4.18, -9.760000000000002, 20.309999999999995, 3.72, 15.11, -35.75999999999999, 17.16, -2.15] \n",
      "sum: 109.78000000000002 sum losses : - 392.59999999999997\n"
     ]
    },
    {
     "name": "stderr",
     "output_type": "stream",
     "text": [
      "[I 2025-09-13 20:06:37,268] Trial 135 finished with values: [0.0, 0.0] and parameters: {'max_order_exposure': 5, 'max_selection_exposure': 80, 'stake': 8.0, 'max_odds_threshold': 17.707136865516315, 'odds_change_deviation_to_trigger_trade': 0.009180077907405383, 'price_lookback_duration_seconds': 16, 'odds_change_deviation_to_trigger_take_prof': 0.02583691395484647}.\n"
     ]
    },
    {
     "name": "stdout",
     "output_type": "stream",
     "text": [
      "pnls:  [0.0, 0.0, 0.0, 0.0, 0.0, 0.0, 0.0, 0.0, 0.0, 0.0, 0.0, 0.0, 0.0, 0.0, 0.0, 0.0, 0.0, 0.0, 0.0, 0.0, 0.0, 0.0, 0.0, 0.0, 0.0, 0.0, 0.0, 0.0, 0.0, 0.0, 0.0, 0.0, 0.0, 0.0, 0.0, 0.0, 0.0, 0.0, 0.0, 0.0, 0.0, 0.0, 0.0, 0.0, 0.0] \n",
      "sum: 0.0 sum losses : - 0.0\n"
     ]
    },
    {
     "name": "stderr",
     "output_type": "stream",
     "text": [
      "[I 2025-09-13 20:08:38,378] Trial 136 finished with values: [0.0, 0.0] and parameters: {'max_order_exposure': 5, 'max_selection_exposure': 120, 'stake': 8.0, 'max_odds_threshold': 7.784837787504579, 'odds_change_deviation_to_trigger_trade': 0.1878235070359515, 'price_lookback_duration_seconds': 4, 'odds_change_deviation_to_trigger_take_prof': 0.6316145864767951}.\n"
     ]
    },
    {
     "name": "stdout",
     "output_type": "stream",
     "text": [
      "pnls:  [0.0, 0.0, 0.0, 0.0, 0.0, 0.0, 0.0, 0.0, 0.0, 0.0, 0.0, 0.0, 0.0, 0.0, 0.0, 0.0, 0.0, 0.0, 0.0, 0.0, 0.0, 0.0, 0.0, 0.0, 0.0, 0.0, 0.0, 0.0, 0.0, 0.0, 0.0, 0.0, 0.0, 0.0, 0.0, 0.0, 0.0, 0.0, 0.0, 0.0, 0.0, 0.0, 0.0, 0.0, 0.0] \n",
      "sum: 0.0 sum losses : - 0.0\n"
     ]
    },
    {
     "name": "stderr",
     "output_type": "stream",
     "text": [
      "[I 2025-09-13 20:09:21,895] Trial 137 finished with values: [0.0, 0.0] and parameters: {'max_order_exposure': 5, 'max_selection_exposure': 50, 'stake': 8.0, 'max_odds_threshold': 14.349904548506677, 'odds_change_deviation_to_trigger_trade': 0.014379304808363682, 'price_lookback_duration_seconds': 15, 'odds_change_deviation_to_trigger_take_prof': 0.26786529123408104}.\n"
     ]
    },
    {
     "name": "stdout",
     "output_type": "stream",
     "text": [
      "pnls:  [0.0, 0.0, 0.0, 0.0, 0.0, 0.0, 0.0, 0.0, 0.0, 0.0, 0.0, 0.0, 0.0, 0.0, 0.0, 0.0, 0.0, 0.0, 0.0, 0.0, 0.0, 0.0, 0.0, 0.0, 0.0, 0.0, 0.0, 0.0, 0.0, 0.0, 0.0, 0.0, 0.0, 0.0, 0.0, 0.0, 0.0, 0.0, 0.0, 0.0, 0.0, 0.0, 0.0, 0.0, 0.0] \n",
      "sum: 0.0 sum losses : - 0.0\n"
     ]
    },
    {
     "name": "stderr",
     "output_type": "stream",
     "text": [
      "[I 2025-09-13 20:11:25,967] Trial 138 finished with values: [0.0, 0.0] and parameters: {'max_order_exposure': 5, 'max_selection_exposure': 100, 'stake': 8.0, 'max_odds_threshold': 17.707136865516315, 'odds_change_deviation_to_trigger_trade': 0.006101272533313021, 'price_lookback_duration_seconds': 16, 'odds_change_deviation_to_trigger_take_prof': 0.26786529123408104}.\n"
     ]
    },
    {
     "name": "stdout",
     "output_type": "stream",
     "text": [
      "pnls:  [0.0, 0.0, 0.0, 0.0, 0.0, 0.0, 0.0, 0.0, 0.0, 0.0, 0.0, 0.0, 0.0, 0.0, 0.0, 0.0, 0.0, 0.0, 0.0, 0.0, 0.0, 0.0, 0.0, 0.0, 0.0, 0.0, 0.0, 0.0, 0.0, 0.0, 0.0, 0.0, 0.0, 0.0, 0.0, 0.0, 0.0, 0.0, 0.0, 0.0, 0.0, 0.0, 0.0, 0.0, 0.0] \n",
      "sum: 0.0 sum losses : - 0.0\n"
     ]
    },
    {
     "name": "stderr",
     "output_type": "stream",
     "text": [
      "[I 2025-09-13 20:12:51,667] Trial 139 finished with values: [-44.47, 72.47] and parameters: {'max_order_exposure': 85, 'max_selection_exposure': 30, 'stake': 2.0, 'max_odds_threshold': 17.707136865516315, 'odds_change_deviation_to_trigger_trade': 0.14970606608673215, 'price_lookback_duration_seconds': 10, 'odds_change_deviation_to_trigger_take_prof': 0.759176601133651}.\n"
     ]
    },
    {
     "name": "stdout",
     "output_type": "stream",
     "text": [
      "pnls:  [0.0, -10.0, -2.2, 0.0, 0.0, 0.0, 0.0, 0.0, -1.45, -0.57, 0.2, -2.0, 0.0, 0.0, -8.41, 0.0, 0.0, 0.0, -2.04, 2.12, -2.0, -0.69, -2.0, -4.0, -2.0, -2.0, -2.0, -7.180000000000001, 0.0, -3.1799999999999997, 0.0, -4.0, 0.0, 0.0, -0.38, 18.0, 2.68, 0.0, -0.33, -3.5200000000000005, -2.0, 0.0, 0.0, -10.52, 5.0] \n",
      "sum: -44.47 sum losses : - 72.47\n"
     ]
    },
    {
     "name": "stderr",
     "output_type": "stream",
     "text": [
      "[I 2025-09-13 20:15:01,078] Trial 140 finished with values: [0.0799999999999543, 307.23] and parameters: {'max_order_exposure': 105, 'max_selection_exposure': 90, 'stake': 7.0, 'max_odds_threshold': 18.668867392095798, 'odds_change_deviation_to_trigger_trade': 0.005645061908267353, 'price_lookback_duration_seconds': 2, 'odds_change_deviation_to_trigger_take_prof': 0.9850706208723358}.\n"
     ]
    },
    {
     "name": "stdout",
     "output_type": "stream",
     "text": [
      "pnls:  [-19.110000000000003, -31.74, 13.23, -3.9799999999999955, 0.3400000000000003, 24.33, 50.69999999999999, -15.730000000000008, -18.009999999999998, 29.939999999999998, -6.730000000000008, 0.0, 1.7699999999999996, 0.0, 11.479999999999997, -2.4199999999999937, -1.1099999999999999, -50.01, -36.58, 0.0, -0.4099999999999999, -1.0800000000000125, -22.50999999999999, 0.0, 21.77, 17.45, -10.749999999999993, 7.73, 65.13999999999999, -35.98, -0.040000000000000924, 0.0, 23.45, -15.22, -0.3600000000000003, 20.359999999999996, 6.73, -25.41000000000001, -8.450000000000001, 0.0, 7.799999999999997, -1.5999999999999979, 5.06, 0.0, 0.03] \n",
      "sum: 0.0799999999999543 sum losses : - 307.23\n"
     ]
    },
    {
     "name": "stderr",
     "output_type": "stream",
     "text": [
      "[I 2025-09-13 20:16:00,125] Trial 141 finished with values: [0.0, 0.0] and parameters: {'max_order_exposure': 5, 'max_selection_exposure': 80, 'stake': 8.0, 'max_odds_threshold': 6.863540109802222, 'odds_change_deviation_to_trigger_trade': 0.005717088616835215, 'price_lookback_duration_seconds': 8, 'odds_change_deviation_to_trigger_take_prof': 0.6316145864767951}.\n"
     ]
    },
    {
     "name": "stdout",
     "output_type": "stream",
     "text": [
      "pnls:  [0.0, 0.0, 0.0, 0.0, 0.0, 0.0, 0.0, 0.0, 0.0, 0.0, 0.0, 0.0, 0.0, 0.0, 0.0, 0.0, 0.0, 0.0, 0.0, 0.0, 0.0, 0.0, 0.0, 0.0, 0.0, 0.0, 0.0, 0.0, 0.0, 0.0, 0.0, 0.0, 0.0, 0.0, 0.0, 0.0, 0.0, 0.0, 0.0, 0.0, 0.0, 0.0, 0.0, 0.0, 0.0] \n",
      "sum: 0.0 sum losses : - 0.0\n"
     ]
    },
    {
     "name": "stderr",
     "output_type": "stream",
     "text": [
      "[I 2025-09-13 20:18:29,362] Trial 142 finished with values: [52.160000000000004, 31.97] and parameters: {'max_order_exposure': 85, 'max_selection_exposure': 150, 'stake': 7.0, 'max_odds_threshold': 11.485809196209683, 'odds_change_deviation_to_trigger_trade': 0.14395836662170972, 'price_lookback_duration_seconds': 1, 'odds_change_deviation_to_trigger_take_prof': 0.759176601133651}.\n"
     ]
    },
    {
     "name": "stdout",
     "output_type": "stream",
     "text": [
      "pnls:  [0.0, 0.42, 0.0, -7.0, 11.76, 0.0, 0.0, 15.05, 0.0, 0.0, 0.0, 0.0, 0.0, 0.0, 7.42, 0.0, 0.0, 2.34, 0.0, -8.65, 0.0, 0.0, 3.63, 0.0, 0.0, 0.0, 0.0, -14.26, 0.0, -2.06, 0.0, 0.0, 40.6, 1.22, 0.0, 0.0, 0.0, 0.0, 1.69, 0.0, 0.0, 0.0, 0.0, 0.0, 0.0] \n",
      "sum: 52.160000000000004 sum losses : - 31.97\n"
     ]
    },
    {
     "name": "stderr",
     "output_type": "stream",
     "text": [
      "[I 2025-09-13 20:18:51,467] Trial 143 finished with values: [46.95999999999999, 220.04] and parameters: {'max_order_exposure': 15, 'max_selection_exposure': 50, 'stake': 8.0, 'max_odds_threshold': 14.349904548506677, 'odds_change_deviation_to_trigger_trade': 0.014379304808363682, 'price_lookback_duration_seconds': 2, 'odds_change_deviation_to_trigger_take_prof': 0.33187002352262035}.\n"
     ]
    },
    {
     "name": "stdout",
     "output_type": "stream",
     "text": [
      "pnls:  [-5.4600000000000035, 0.0, 10.630000000000006, 0.0, 3.870000000000001, 6.34, -10.97, -23.49, 8.72, 9.67, -14.280000000000001, 36.17000000000001, 8.72, -12.150000000000002, -9.01, 1.64, -8.519999999999998, 0.0, 0.0, 22.799999999999997, 6.539999999999999, -5.129999999999999, 0.0, -22.07, -8.74, -32.96, -4.77, 8.449999999999996, 19.55, -11.129999999999997, 45.77999999999999, 5.129999999999999, 6.360000000000001, 19.529999999999994, -6.380000000000001, 0.0, 0.6000000000000001, 11.129999999999999, -5.56, 20.8, 0.0, 14.57, -1.540000000000001, -28.66, -9.22] \n",
      "sum: 46.95999999999999 sum losses : - 220.04\n"
     ]
    },
    {
     "name": "stderr",
     "output_type": "stream",
     "text": [
      "[I 2025-09-13 20:21:23,192] Trial 144 finished with values: [0.0, 0.0] and parameters: {'max_order_exposure': 5, 'max_selection_exposure': 150, 'stake': 7.0, 'max_odds_threshold': 18.668867392095798, 'odds_change_deviation_to_trigger_trade': 0.005645061908267353, 'price_lookback_duration_seconds': 1, 'odds_change_deviation_to_trigger_take_prof': 0.05182137524073478}.\n"
     ]
    },
    {
     "name": "stdout",
     "output_type": "stream",
     "text": [
      "pnls:  [0.0, 0.0, 0.0, 0.0, 0.0, 0.0, 0.0, 0.0, 0.0, 0.0, 0.0, 0.0, 0.0, 0.0, 0.0, 0.0, 0.0, 0.0, 0.0, 0.0, 0.0, 0.0, 0.0, 0.0, 0.0, 0.0, 0.0, 0.0, 0.0, 0.0, 0.0, 0.0, 0.0, 0.0, 0.0, 0.0, 0.0, 0.0, 0.0, 0.0, 0.0, 0.0, 0.0, 0.0, 0.0] \n",
      "sum: 0.0 sum losses : - 0.0\n"
     ]
    },
    {
     "name": "stderr",
     "output_type": "stream",
     "text": [
      "[I 2025-09-13 20:21:55,932] Trial 145 finished with values: [0.0, 0.0] and parameters: {'max_order_exposure': 145, 'max_selection_exposure': 120, 'stake': 8.0, 'max_odds_threshold': 1.610733343905984, 'odds_change_deviation_to_trigger_trade': 0.1878235070359515, 'price_lookback_duration_seconds': 13, 'odds_change_deviation_to_trigger_take_prof': 0.09530417241592824}.\n"
     ]
    },
    {
     "name": "stdout",
     "output_type": "stream",
     "text": [
      "pnls:  [0.0, 0.0, 0.0, 0.0, 0.0, 0.0, 0.0, 0.0, 0.0, 0.0, 0.0, 0.0, 0.0, 0.0, 0.0, 0.0, 0.0, 0.0, 0.0, 0.0, 0.0, 0.0, 0.0, 0.0, 0.0, 0.0, 0.0, 0.0, 0.0, 0.0, 0.0, 0.0, 0.0, 0.0, 0.0, 0.0, 0.0, 0.0, 0.0, 0.0, 0.0, 0.0, 0.0, 0.0, 0.0] \n",
      "sum: 0.0 sum losses : - 0.0\n"
     ]
    },
    {
     "name": "stderr",
     "output_type": "stream",
     "text": [
      "[I 2025-09-13 20:24:09,640] Trial 146 finished with values: [-6.739999999999993, 121.64] and parameters: {'max_order_exposure': 40, 'max_selection_exposure': 150, 'stake': 8.0, 'max_odds_threshold': 14.349904548506677, 'odds_change_deviation_to_trigger_trade': 0.14970606608673215, 'price_lookback_duration_seconds': 9, 'odds_change_deviation_to_trigger_take_prof': 0.759176601133651}.\n"
     ]
    },
    {
     "name": "stdout",
     "output_type": "stream",
     "text": [
      "pnls:  [-3.76, 0.0, 0.0, 10.24, 0.0, 0.0, 0.0, 0.0, -0.4, 0.0, -7.7, 0.0, -24.0, -0.5, -16.92, 0.0, -19.5, 0.0, 0.0, 0.0, 9.5, 0.0, 0.0, 0.0, 0.0, 0.0, -0.57, -6.199999999999999, -16.0, 0.0, 0.0, 0.0, 88.24000000000001, 0.0, 0.0, -8.0, -1.83, -16.26, 5.7, 1.22, 0.0, 0.0, 0.0, 0.0, 0.0] \n",
      "sum: -6.739999999999993 sum losses : - 121.64\n"
     ]
    },
    {
     "name": "stderr",
     "output_type": "stream",
     "text": [
      "[I 2025-09-13 20:24:28,484] Trial 147 finished with values: [-33.75, 70.39] and parameters: {'max_order_exposure': 85, 'max_selection_exposure': 150, 'stake': 8.0, 'max_odds_threshold': 11.485809196209683, 'odds_change_deviation_to_trigger_trade': 0.1878235070359515, 'price_lookback_duration_seconds': 10, 'odds_change_deviation_to_trigger_take_prof': 0.26786529123408104}.\n"
     ]
    },
    {
     "name": "stdout",
     "output_type": "stream",
     "text": [
      "pnls:  [-8.0, 0.0, 0.0, 0.0, 0.0, 0.0, 0.0, 0.0, 0.0, 0.0, 0.0, 0.0, 0.0, 0.0, 0.0, 13.6, 0.0, 0.0, -11.49, 0.0, 0.0, 8.48, 0.0, -9.71, -6.63, 0.0, 0.0, 0.0, 0.0, -16.0, 0.0, 0.0, 0.0, -10.56, 0.0, 0.0, 0.0, 0.0, 0.0, 14.14, 0.0, 0.0, -8.0, 0.42, 0.0] \n",
      "sum: -33.75 sum losses : - 70.39\n"
     ]
    },
    {
     "name": "stderr",
     "output_type": "stream",
     "text": [
      "[I 2025-09-13 20:26:51,756] Trial 148 finished with values: [0.0, 0.0] and parameters: {'max_order_exposure': 5, 'max_selection_exposure': 80, 'stake': 8.0, 'max_odds_threshold': 17.707136865516315, 'odds_change_deviation_to_trigger_trade': 0.006101272533313021, 'price_lookback_duration_seconds': 23, 'odds_change_deviation_to_trigger_take_prof': 0.26786529123408104}.\n"
     ]
    },
    {
     "name": "stdout",
     "output_type": "stream",
     "text": [
      "pnls:  [0.0, 0.0, 0.0, 0.0, 0.0, 0.0, 0.0, 0.0, 0.0, 0.0, 0.0, 0.0, 0.0, 0.0, 0.0, 0.0, 0.0, 0.0, 0.0, 0.0, 0.0, 0.0, 0.0, 0.0, 0.0, 0.0, 0.0, 0.0, 0.0, 0.0, 0.0, 0.0, 0.0, 0.0, 0.0, 0.0, 0.0, 0.0, 0.0, 0.0, 0.0, 0.0, 0.0, 0.0, 0.0] \n",
      "sum: 0.0 sum losses : - 0.0\n"
     ]
    },
    {
     "name": "stderr",
     "output_type": "stream",
     "text": [
      "[I 2025-09-13 20:27:34,857] Trial 149 finished with values: [0.0, 0.0] and parameters: {'max_order_exposure': 5, 'max_selection_exposure': 150, 'stake': 8.0, 'max_odds_threshold': 14.349904548506677, 'odds_change_deviation_to_trigger_trade': 0.1878235070359515, 'price_lookback_duration_seconds': 9, 'odds_change_deviation_to_trigger_take_prof': 0.09530417241592824}.\n"
     ]
    },
    {
     "name": "stdout",
     "output_type": "stream",
     "text": [
      "pnls:  [0.0, 0.0, 0.0, 0.0, 0.0, 0.0, 0.0, 0.0, 0.0, 0.0, 0.0, 0.0, 0.0, 0.0, 0.0, 0.0, 0.0, 0.0, 0.0, 0.0, 0.0, 0.0, 0.0, 0.0, 0.0, 0.0, 0.0, 0.0, 0.0, 0.0, 0.0, 0.0, 0.0, 0.0, 0.0, 0.0, 0.0, 0.0, 0.0, 0.0, 0.0, 0.0, 0.0, 0.0, 0.0] \n",
      "sum: 0.0 sum losses : - 0.0\n"
     ]
    },
    {
     "name": "stderr",
     "output_type": "stream",
     "text": [
      "[I 2025-09-13 20:29:20,548] Trial 150 finished with values: [23.189999999999998, 118.25] and parameters: {'max_order_exposure': 40, 'max_selection_exposure': 150, 'stake': 8.0, 'max_odds_threshold': 6.863540109802222, 'odds_change_deviation_to_trigger_trade': 0.1878235070359515, 'price_lookback_duration_seconds': 28, 'odds_change_deviation_to_trigger_take_prof': 0.09530417241592824}.\n"
     ]
    },
    {
     "name": "stdout",
     "output_type": "stream",
     "text": [
      "pnls:  [46.27, 0.0, -16.02, 0.0, 0.0, 0.0, -8.0, -3.11, 0.0, 0.0, 0.0, -0.07, 0.0, -11.34, 11.16, 0.0, 0.0, 34.98, 0.0, -8.0, 0.0, -14.4, -8.0, 0.0, 0.0, 0.0, 0.0, 0.0, 45.14, 0.0, 0.0, 3.89, 0.0, 0.0, 0.0, 0.0, 0.0, 0.0, -33.31, 0.0, 0.0, 0.0, -16.0, 0.0, 0.0] \n",
      "sum: 23.189999999999998 sum losses : - 118.25\n"
     ]
    },
    {
     "name": "stderr",
     "output_type": "stream",
     "text": [
      "[I 2025-09-13 20:30:17,982] Trial 151 finished with values: [-43.69, 91.35] and parameters: {'max_order_exposure': 5, 'max_selection_exposure': 150, 'stake': 4.0, 'max_odds_threshold': 18.706900311638375, 'odds_change_deviation_to_trigger_trade': 0.14970606608673215, 'price_lookback_duration_seconds': 6, 'odds_change_deviation_to_trigger_take_prof': 0.26786529123408104}.\n"
     ]
    },
    {
     "name": "stdout",
     "output_type": "stream",
     "text": [
      "pnls:  [0.0, 9.0, -1.95, 0.0, -4.0, 0.0, -4.0, -12.52, 0.0, 0.0, 0.0, -0.24, 0.0, 0.0, 0.0, -0.05, -0.38, 0.0, 0.0, -18.42, -8.0, 0.0, 0.0, 0.0, 6.92, 0.0, 3.44, 0.0, -13.29, 0.0, 0.0, -4.0, 0.0, 5.1000000000000005, 0.0, -16.5, 0.0, 0.0, 0.0, -8.0, 0.0, 23.2, 0.0, 0.0, 0.0] \n",
      "sum: -43.69 sum losses : - 91.35\n"
     ]
    },
    {
     "name": "stderr",
     "output_type": "stream",
     "text": [
      "[I 2025-09-13 20:31:48,947] Trial 152 finished with values: [0.0, 0.0] and parameters: {'max_order_exposure': 5, 'max_selection_exposure': 80, 'stake': 8.0, 'max_odds_threshold': 2.6943332939883775, 'odds_change_deviation_to_trigger_trade': 0.014379304808363682, 'price_lookback_duration_seconds': 16, 'odds_change_deviation_to_trigger_take_prof': 0.6316145864767951}.\n"
     ]
    },
    {
     "name": "stdout",
     "output_type": "stream",
     "text": [
      "pnls:  [0.0, 0.0, 0.0, 0.0, 0.0, 0.0, 0.0, 0.0, 0.0, 0.0, 0.0, 0.0, 0.0, 0.0, 0.0, 0.0, 0.0, 0.0, 0.0, 0.0, 0.0, 0.0, 0.0, 0.0, 0.0, 0.0, 0.0, 0.0, 0.0, 0.0, 0.0, 0.0, 0.0, 0.0, 0.0, 0.0, 0.0, 0.0, 0.0, 0.0, 0.0, 0.0, 0.0, 0.0, 0.0] \n",
      "sum: 0.0 sum losses : - 0.0\n"
     ]
    },
    {
     "name": "stderr",
     "output_type": "stream",
     "text": [
      "[I 2025-09-13 20:33:10,694] Trial 153 finished with values: [-24.29, 37.65] and parameters: {'max_order_exposure': 105, 'max_selection_exposure': 150, 'stake': 4.0, 'max_odds_threshold': 3.1519349660486715, 'odds_change_deviation_to_trigger_trade': 0.14395836662170972, 'price_lookback_duration_seconds': 10, 'odds_change_deviation_to_trigger_take_prof': 0.03892193073672046}.\n"
     ]
    },
    {
     "name": "stdout",
     "output_type": "stream",
     "text": [
      "pnls:  [0.0, 0.0, 0.0, 0.0, 0.0, 0.0, 0.0, 4.24, -4.0, 0.0, 0.0, 0.0, 0.0, 0.0, 0.0, 0.0, -4.0, -4.0, 0.0, 0.0, 0.0, 0.0, 0.0, 0.0, 0.0, 0.0, 0.0, -4.0, 0.0, 0.0, 0.0, 0.0, 0.0, 9.120000000000001, -16.0, 0.0, 0.0, 0.0, 0.0, 0.0, -4.0, 0.0, -1.65, 0.0, 0.0] \n",
      "sum: -24.29 sum losses : - 37.65\n"
     ]
    },
    {
     "name": "stderr",
     "output_type": "stream",
     "text": [
      "[I 2025-09-13 20:34:30,938] Trial 154 finished with values: [9.08, 83.88] and parameters: {'max_order_exposure': 145, 'max_selection_exposure': 40, 'stake': 8.0, 'max_odds_threshold': 14.349904548506677, 'odds_change_deviation_to_trigger_trade': 0.1878235070359515, 'price_lookback_duration_seconds': 9, 'odds_change_deviation_to_trigger_take_prof': 0.09530417241592824}.\n"
     ]
    },
    {
     "name": "stdout",
     "output_type": "stream",
     "text": [
      "pnls:  [0.0, -0.65, -8.0, -8.0, 46.4, 28.0, 0.0, -8.0, 0.0, 10.08, 0.0, 0.0, 0.0, 0.0, 0.0, 0.0, 0.0, 0.0, 0.0, 0.0, 0.0, 8.48, 0.0, 0.0, 0.0, -0.33, 0.0, 0.0, 0.0, -8.0, 0.0, 0.0, 0.0, -34.9, -8.0, 0.0, -8.0, 0.0, 0.0, 0.0, 0.0, 0.0, 0.0, 0.0, 0.0] \n",
      "sum: 9.08 sum losses : - 83.88\n"
     ]
    },
    {
     "name": "stderr",
     "output_type": "stream",
     "text": [
      "[I 2025-09-13 20:35:42,750] Trial 155 finished with values: [0.0, 0.0] and parameters: {'max_order_exposure': 5, 'max_selection_exposure': 40, 'stake': 7.0, 'max_odds_threshold': 9.9620017485874, 'odds_change_deviation_to_trigger_trade': 0.08120813134995034, 'price_lookback_duration_seconds': 6, 'odds_change_deviation_to_trigger_take_prof': 0.09530417241592824}.\n"
     ]
    },
    {
     "name": "stdout",
     "output_type": "stream",
     "text": [
      "pnls:  [0.0, 0.0, 0.0, 0.0, 0.0, 0.0, 0.0, 0.0, 0.0, 0.0, 0.0, 0.0, 0.0, 0.0, 0.0, 0.0, 0.0, 0.0, 0.0, 0.0, 0.0, 0.0, 0.0, 0.0, 0.0, 0.0, 0.0, 0.0, 0.0, 0.0, 0.0, 0.0, 0.0, 0.0, 0.0, 0.0, 0.0, 0.0, 0.0, 0.0, 0.0, 0.0, 0.0, 0.0, 0.0] \n",
      "sum: 0.0 sum losses : - 0.0\n"
     ]
    },
    {
     "name": "stderr",
     "output_type": "stream",
     "text": [
      "[I 2025-09-13 20:36:41,510] Trial 156 finished with values: [0.0, 0.0] and parameters: {'max_order_exposure': 5, 'max_selection_exposure': 80, 'stake': 8.0, 'max_odds_threshold': 6.863540109802222, 'odds_change_deviation_to_trigger_trade': 0.1878235070359515, 'price_lookback_duration_seconds': 16, 'odds_change_deviation_to_trigger_take_prof': 0.09530417241592824}.\n"
     ]
    },
    {
     "name": "stdout",
     "output_type": "stream",
     "text": [
      "pnls:  [0.0, 0.0, 0.0, 0.0, 0.0, 0.0, 0.0, 0.0, 0.0, 0.0, 0.0, 0.0, 0.0, 0.0, 0.0, 0.0, 0.0, 0.0, 0.0, 0.0, 0.0, 0.0, 0.0, 0.0, 0.0, 0.0, 0.0, 0.0, 0.0, 0.0, 0.0, 0.0, 0.0, 0.0, 0.0, 0.0, 0.0, 0.0, 0.0, 0.0, 0.0, 0.0, 0.0, 0.0, 0.0] \n",
      "sum: 0.0 sum losses : - 0.0\n"
     ]
    },
    {
     "name": "stderr",
     "output_type": "stream",
     "text": [
      "[I 2025-09-13 20:38:13,985] Trial 157 finished with values: [-21.84, 25.759999999999998] and parameters: {'max_order_exposure': 145, 'max_selection_exposure': 120, 'stake': 8.0, 'max_odds_threshold': 2.0961778015698753, 'odds_change_deviation_to_trigger_trade': 0.14970606608673215, 'price_lookback_duration_seconds': 13, 'odds_change_deviation_to_trigger_take_prof': 0.26786529123408104}.\n"
     ]
    },
    {
     "name": "stdout",
     "output_type": "stream",
     "text": [
      "pnls:  [0.0, 0.0, 0.0, 0.0, 0.0, -16.0, 3.92, 0.0, 0.0, 0.0, 0.0, 0.0, 0.0, 0.0, 0.0, 0.0, 0.0, 0.0, 0.0, 0.0, 0.0, 0.0, 0.0, 0.0, 0.0, 0.0, 0.0, 0.0, 0.0, 0.0, 0.0, 0.0, 0.0, 0.0, 0.0, 0.0, 0.0, -8.0, 0.0, 0.0, 0.0, 0.0, 0.0, -1.7599999999999998, 0.0] \n",
      "sum: -21.84 sum losses : - 25.759999999999998\n"
     ]
    },
    {
     "name": "stderr",
     "output_type": "stream",
     "text": [
      "[I 2025-09-13 20:39:29,215] Trial 158 finished with values: [0.0, 0.0] and parameters: {'max_order_exposure': 60, 'max_selection_exposure': 150, 'stake': 1.0, 'max_odds_threshold': 1.610733343905984, 'odds_change_deviation_to_trigger_trade': 0.186928695209579, 'price_lookback_duration_seconds': 13, 'odds_change_deviation_to_trigger_take_prof': 0.09530417241592824}.\n"
     ]
    },
    {
     "name": "stdout",
     "output_type": "stream",
     "text": [
      "pnls:  [0.0, 0.0, 0.0, 0.0, 0.0, 0.0, 0.0, 0.0, 0.0, 0.0, 0.0, 0.0, 0.0, 0.0, 0.0, 0.0, 0.0, 0.0, 0.0, 0.0, 0.0, 0.0, 0.0, 0.0, 0.0, 0.0, 0.0, 0.0, 0.0, 0.0, 0.0, 0.0, 0.0, 0.0, 0.0, 0.0, 0.0, 0.0, 0.0, 0.0, 0.0, 0.0, 0.0, 0.0, 0.0] \n",
      "sum: 0.0 sum losses : - 0.0\n"
     ]
    },
    {
     "name": "stderr",
     "output_type": "stream",
     "text": [
      "[I 2025-09-13 20:40:59,385] Trial 159 finished with values: [0.0, 0.0] and parameters: {'max_order_exposure': 5, 'max_selection_exposure': 120, 'stake': 7.0, 'max_odds_threshold': 17.707136865516315, 'odds_change_deviation_to_trigger_trade': 0.1878235070359515, 'price_lookback_duration_seconds': 3, 'odds_change_deviation_to_trigger_take_prof': 0.11693598821624407}.\n"
     ]
    },
    {
     "name": "stdout",
     "output_type": "stream",
     "text": [
      "pnls:  [0.0, 0.0, 0.0, 0.0, 0.0, 0.0, 0.0, 0.0, 0.0, 0.0, 0.0, 0.0, 0.0, 0.0, 0.0, 0.0, 0.0, 0.0, 0.0, 0.0, 0.0, 0.0, 0.0, 0.0, 0.0, 0.0, 0.0, 0.0, 0.0, 0.0, 0.0, 0.0, 0.0, 0.0, 0.0, 0.0, 0.0, 0.0, 0.0, 0.0, 0.0, 0.0, 0.0, 0.0, 0.0] \n",
      "sum: 0.0 sum losses : - 0.0\n"
     ]
    },
    {
     "name": "stderr",
     "output_type": "stream",
     "text": [
      "[I 2025-09-13 20:42:07,596] Trial 160 finished with values: [92.63, 79.68] and parameters: {'max_order_exposure': 30, 'max_selection_exposure': 170, 'stake': 8.0, 'max_odds_threshold': 5.127954060470222, 'odds_change_deviation_to_trigger_trade': 0.1463724945457933, 'price_lookback_duration_seconds': 10, 'odds_change_deviation_to_trigger_take_prof': 0.09530417241592824}.\n"
     ]
    },
    {
     "name": "stdout",
     "output_type": "stream",
     "text": [
      "pnls:  [-16.0, 0.0, 0.0, 0.0, -3.2800000000000002, -12.84, 0.0, -8.0, 9.6, 0.0, 0.0, 0.0, 0.0, 0.0, 0.0, -9.81, 0.0, 0.0, -1.45, 0.0, 0.0, 0.0, 0.0, 0.0, 0.0, 110.47, 0.0, -0.69, 38.8, 0.0, -8.0, 0.0, 0.0, 0.0, 0.0, -8.2, 13.44, 0.0, 0.0, 0.0, 0.0, 0.0, 0.0, 0.0, -11.41] \n",
      "sum: 92.63 sum losses : - 79.68\n"
     ]
    },
    {
     "name": "stderr",
     "output_type": "stream",
     "text": [
      "[I 2025-09-13 20:43:45,058] Trial 161 finished with values: [-8.27, 17.16] and parameters: {'max_order_exposure': 85, 'max_selection_exposure': 120, 'stake': 1.0, 'max_odds_threshold': 12.98075831736601, 'odds_change_deviation_to_trigger_trade': 0.1878235070359515, 'price_lookback_duration_seconds': 3, 'odds_change_deviation_to_trigger_take_prof': 0.11693598821624407}.\n"
     ]
    },
    {
     "name": "stdout",
     "output_type": "stream",
     "text": [
      "pnls:  [0.0, 0.0, 0.0, 0.0, 0.0, 0.0, -2.0, 0.0, -1.33, 0.0, 0.0, 7.21, -3.0, 0.0, 0.0, 0.0, 1.68, -1.0, 0.0, -2.0, 0.0, 0.0, -1.71, 0.0, 0.0, 0.0, 0.0, 0.0, 0.0, 0.0, 0.0, 0.0, 0.0, 0.0, 0.0, 0.0, -1.0, 0.0, 0.0, 0.0, -1.0, 0.0, -4.0, -0.12, 0.0] \n",
      "sum: -8.27 sum losses : - 17.16\n"
     ]
    },
    {
     "name": "stderr",
     "output_type": "stream",
     "text": [
      "[I 2025-09-13 20:44:51,091] Trial 162 finished with values: [-68.13, 143.38] and parameters: {'max_order_exposure': 60, 'max_selection_exposure': 150, 'stake': 6.0, 'max_odds_threshold': 15.76251647196351, 'odds_change_deviation_to_trigger_trade': 0.1178678614145398, 'price_lookback_duration_seconds': 16, 'odds_change_deviation_to_trigger_take_prof': 0.6057749847877153}.\n"
     ]
    },
    {
     "name": "stdout",
     "output_type": "stream",
     "text": [
      "pnls:  [0.0, 0.0, 0.0, -2.83, -6.0, 0.73, -24.12, 0.0, 1.3200000000000003, 0.0, -12.969999999999999, 1.8, 0.0, 0.55, -9.83, 0.0, 0.2, -6.0, -16.88, 0.0, 64.37, 0.0, 0.0, 0.0, -7.95, -12.0, 0.0, 0.0, 0.0, 0.0, 0.0, -19.41, -9.78, 0.0, -0.4800000000000004, -1.4, -3.1399999999999997, 0.0, 0.0, 0.0, 0.0, 6.28, 0.0, -10.59, 0.0] \n",
      "sum: -68.13 sum losses : - 143.38\n"
     ]
    },
    {
     "name": "stderr",
     "output_type": "stream",
     "text": [
      "[I 2025-09-13 20:46:37,383] Trial 163 finished with values: [-14.639999999999993, 83.97] and parameters: {'max_order_exposure': 85, 'max_selection_exposure': 150, 'stake': 7.0, 'max_odds_threshold': 11.485809196209683, 'odds_change_deviation_to_trigger_trade': 0.14395836662170972, 'price_lookback_duration_seconds': 1, 'odds_change_deviation_to_trigger_take_prof': 0.759176601133651}.\n"
     ]
    },
    {
     "name": "stdout",
     "output_type": "stream",
     "text": [
      "pnls:  [48.510000000000005, 0.0, 0.0, 11.76, 1.22, 0.0, 0.0, -12.809999999999999, 0.0, 0.0, 0.0, 0.42, 0.0, -7.0, -3.02, 0.0, 0.0, 0.0, -7.0, 0.0, -0.24, 0.0, -14.26, 0.0, -1.45, -14.0, 0.0, 0.0, 0.0, -14.0, 0.0, 0.0, -3.19, 0.0, 0.0, 0.0, 0.0, -7.0, 0.0, 0.0, 0.0, 0.0, 7.42, 0.0, 0.0] \n",
      "sum: -14.639999999999993 sum losses : - 83.97\n"
     ]
    },
    {
     "name": "stderr",
     "output_type": "stream",
     "text": [
      "[I 2025-09-13 20:47:45,973] Trial 164 finished with values: [0.0, 0.0] and parameters: {'max_order_exposure': 5, 'max_selection_exposure': 150, 'stake': 8.0, 'max_odds_threshold': 14.349904548506677, 'odds_change_deviation_to_trigger_trade': 0.14970606608673215, 'price_lookback_duration_seconds': 9, 'odds_change_deviation_to_trigger_take_prof': 0.759176601133651}.\n"
     ]
    },
    {
     "name": "stdout",
     "output_type": "stream",
     "text": [
      "pnls:  [0.0, 0.0, 0.0, 0.0, 0.0, 0.0, 0.0, 0.0, 0.0, 0.0, 0.0, 0.0, 0.0, 0.0, 0.0, 0.0, 0.0, 0.0, 0.0, 0.0, 0.0, 0.0, 0.0, 0.0, 0.0, 0.0, 0.0, 0.0, 0.0, 0.0, 0.0, 0.0, 0.0, 0.0, 0.0, 0.0, 0.0, 0.0, 0.0, 0.0, 0.0, 0.0, 0.0, 0.0, 0.0] \n",
      "sum: 0.0 sum losses : - 0.0\n"
     ]
    },
    {
     "name": "stderr",
     "output_type": "stream",
     "text": [
      "[I 2025-09-13 20:50:09,711] Trial 165 finished with values: [-84.41000000000001, 474.93] and parameters: {'max_order_exposure': 60, 'max_selection_exposure': 80, 'stake': 8.0, 'max_odds_threshold': 6.863540109802222, 'odds_change_deviation_to_trigger_trade': 0.005717088616835215, 'price_lookback_duration_seconds': 16, 'odds_change_deviation_to_trigger_take_prof': 0.6316145864767951}.\n"
     ]
    },
    {
     "name": "stdout",
     "output_type": "stream",
     "text": [
      "pnls:  [-12.459999999999994, 0.0, -38.2, 0.0, 9.020000000000008, 29.02999999999999, -30.780000000000005, 2.74, -32.0, -32.480000000000004, -13.08, 0.0, -16.07, -2.8800000000000003, 2.08, 16.260000000000005, 0.0, 117.83, 0.0, -23.119999999999997, 2.9299999999999997, -9.769999999999996, -62.29, -1.4100000000000108, -12.690000000000015, 0.0, 4.210000000000001, -13.94, -6.800000000000001, 0.0, 85.30000000000001, -32.040000000000006, 0.5, 30.72, 0.29, -13.659999999999995, 8.94, 18.839999999999996, 18.530000000000005, 12.56, 17.11, -25.040000000000006, -35.35, 13.629999999999999, -60.86999999999999] \n",
      "sum: -84.41000000000001 sum losses : - 474.93\n"
     ]
    },
    {
     "name": "stderr",
     "output_type": "stream",
     "text": [
      "[I 2025-09-13 20:51:24,258] Trial 166 finished with values: [155.52000000000004, 660.68] and parameters: {'max_order_exposure': 145, 'max_selection_exposure': 120, 'stake': 8.0, 'max_odds_threshold': 17.170655085858364, 'odds_change_deviation_to_trigger_trade': 0.008392476736488564, 'price_lookback_duration_seconds': 16, 'odds_change_deviation_to_trigger_take_prof': 0.6316145864767951}.\n"
     ]
    },
    {
     "name": "stdout",
     "output_type": "stream",
     "text": [
      "pnls:  [-63.74000000000001, -43.97, -47.519999999999996, 10.61, -40.239999999999995, 0.0, 210.93000000000004, 56.66999999999999, 34.349999999999994, -13.530000000000014, -46.09, -10.719999999999999, 47.63, 10.610000000000001, -3.04, 26.03, 26.320000000000014, 0.0, -47.05999999999999, -100.04, 125.84, 26.129999999999995, 0.24, -26.009999999999998, 0.0, 17.889999999999993, -33.38999999999999, 20.32, 6.93, 115.82000000000001, 1.56, -1.8599999999999999, 28.339999999999996, 7.1199999999999966, 2.35, -42.13999999999999, 23.48, 14.86, -49.0, -55.269999999999996, -34.22, 0.0, 0.0, -2.8400000000000007, 2.1700000000000017] \n",
      "sum: 155.52000000000004 sum losses : - 660.68\n"
     ]
    },
    {
     "name": "stderr",
     "output_type": "stream",
     "text": [
      "[I 2025-09-13 20:53:09,434] Trial 167 finished with values: [0.0, 0.0] and parameters: {'max_order_exposure': 5, 'max_selection_exposure': 30, 'stake': 8.0, 'max_odds_threshold': 17.707136865516315, 'odds_change_deviation_to_trigger_trade': 0.036806399408241305, 'price_lookback_duration_seconds': 16, 'odds_change_deviation_to_trigger_take_prof': 0.09530417241592824}.\n"
     ]
    },
    {
     "name": "stdout",
     "output_type": "stream",
     "text": [
      "pnls:  [0.0, 0.0, 0.0, 0.0, 0.0, 0.0, 0.0, 0.0, 0.0, 0.0, 0.0, 0.0, 0.0, 0.0, 0.0, 0.0, 0.0, 0.0, 0.0, 0.0, 0.0, 0.0, 0.0, 0.0, 0.0, 0.0, 0.0, 0.0, 0.0, 0.0, 0.0, 0.0, 0.0, 0.0, 0.0, 0.0, 0.0, 0.0, 0.0, 0.0, 0.0, 0.0, 0.0, 0.0, 0.0] \n",
      "sum: 0.0 sum losses : - 0.0\n"
     ]
    },
    {
     "name": "stderr",
     "output_type": "stream",
     "text": [
      "[I 2025-09-13 20:54:24,494] Trial 168 finished with values: [3.06, 0.0] and parameters: {'max_order_exposure': 40, 'max_selection_exposure': 150, 'stake': 2.0, 'max_odds_threshold': 1.610733343905984, 'odds_change_deviation_to_trigger_trade': 0.14395836662170972, 'price_lookback_duration_seconds': 10, 'odds_change_deviation_to_trigger_take_prof': 0.03892193073672046}.\n"
     ]
    },
    {
     "name": "stdout",
     "output_type": "stream",
     "text": [
      "pnls:  [0.0, 0.0, 2.02, 0.0, 0.0, 0.0, 0.0, 0.0, 0.0, 0.0, 0.0, 0.0, 0.0, 0.0, 0.0, 0.0, 0.0, 0.0, 0.0, 0.0, 0.0, 0.0, 0.0, 0.0, 0.0, 0.0, 0.0, 0.0, 0.0, 0.0, 0.0, 0.0, 0.0, 0.0, 0.0, 0.0, 1.04, 0.0, 0.0, 0.0, 0.0, 0.0, 0.0, 0.0, 0.0] \n",
      "sum: 3.06 sum losses : - 0.0\n"
     ]
    },
    {
     "name": "stderr",
     "output_type": "stream",
     "text": [
      "[I 2025-09-13 20:55:41,770] Trial 169 finished with values: [0.0, 0.0] and parameters: {'max_order_exposure': 5, 'max_selection_exposure': 150, 'stake': 8.0, 'max_odds_threshold': 11.485809196209683, 'odds_change_deviation_to_trigger_trade': 0.14970606608673215, 'price_lookback_duration_seconds': 10, 'odds_change_deviation_to_trigger_take_prof': 0.759176601133651}.\n"
     ]
    },
    {
     "name": "stdout",
     "output_type": "stream",
     "text": [
      "pnls:  [0.0, 0.0, 0.0, 0.0, 0.0, 0.0, 0.0, 0.0, 0.0, 0.0, 0.0, 0.0, 0.0, 0.0, 0.0, 0.0, 0.0, 0.0, 0.0, 0.0, 0.0, 0.0, 0.0, 0.0, 0.0, 0.0, 0.0, 0.0, 0.0, 0.0, 0.0, 0.0, 0.0, 0.0, 0.0, 0.0, 0.0, 0.0, 0.0, 0.0, 0.0, 0.0, 0.0, 0.0, 0.0] \n",
      "sum: 0.0 sum losses : - 0.0\n"
     ]
    },
    {
     "name": "stderr",
     "output_type": "stream",
     "text": [
      "[I 2025-09-13 20:56:58,816] Trial 170 finished with values: [0.0, 0.0] and parameters: {'max_order_exposure': 5, 'max_selection_exposure': 30, 'stake': 8.0, 'max_odds_threshold': 6.863540109802222, 'odds_change_deviation_to_trigger_trade': 0.005717088616835215, 'price_lookback_duration_seconds': 16, 'odds_change_deviation_to_trigger_take_prof': 0.26786529123408104}.\n"
     ]
    },
    {
     "name": "stdout",
     "output_type": "stream",
     "text": [
      "pnls:  [0.0, 0.0, 0.0, 0.0, 0.0, 0.0, 0.0, 0.0, 0.0, 0.0, 0.0, 0.0, 0.0, 0.0, 0.0, 0.0, 0.0, 0.0, 0.0, 0.0, 0.0, 0.0, 0.0, 0.0, 0.0, 0.0, 0.0, 0.0, 0.0, 0.0, 0.0, 0.0, 0.0, 0.0, 0.0, 0.0, 0.0, 0.0, 0.0, 0.0, 0.0, 0.0, 0.0, 0.0, 0.0] \n",
      "sum: 0.0 sum losses : - 0.0\n"
     ]
    },
    {
     "name": "stderr",
     "output_type": "stream",
     "text": [
      "[I 2025-09-13 20:58:49,617] Trial 171 finished with values: [-8.0, 8.0] and parameters: {'max_order_exposure': 145, 'max_selection_exposure': 140, 'stake': 8.0, 'max_odds_threshold': 1.610733343905984, 'odds_change_deviation_to_trigger_trade': 0.14970606608673215, 'price_lookback_duration_seconds': 13, 'odds_change_deviation_to_trigger_take_prof': 0.09530417241592824}.\n"
     ]
    },
    {
     "name": "stdout",
     "output_type": "stream",
     "text": [
      "pnls:  [0.0, 0.0, 0.0, 0.0, 0.0, 0.0, 0.0, 0.0, 0.0, 0.0, 0.0, 0.0, 0.0, 0.0, 0.0, 0.0, 0.0, -8.0, 0.0, 0.0, 0.0, 0.0, 0.0, 0.0, 0.0, 0.0, 0.0, 0.0, 0.0, 0.0, 0.0, 0.0, 0.0, 0.0, 0.0, 0.0, 0.0, 0.0, 0.0, 0.0, 0.0, 0.0, 0.0, 0.0, 0.0] \n",
      "sum: -8.0 sum losses : - 8.0\n"
     ]
    },
    {
     "name": "stderr",
     "output_type": "stream",
     "text": [
      "[I 2025-09-13 21:00:01,460] Trial 172 finished with values: [-7.1800000000000015, 47.71] and parameters: {'max_order_exposure': 105, 'max_selection_exposure': 100, 'stake': 3.0, 'max_odds_threshold': 14.349904548506677, 'odds_change_deviation_to_trigger_trade': 0.14395836662170972, 'price_lookback_duration_seconds': 15, 'odds_change_deviation_to_trigger_take_prof': 0.33187002352262035}.\n"
     ]
    },
    {
     "name": "stdout",
     "output_type": "stream",
     "text": [
      "pnls:  [0.0, 0.0, 9.699999999999998, 2.34, 0.0, 0.0, 0.0, 0.0, 0.0, -1.8, -1.81, -1.2, 0.0, 0.0, 0.0, 0.0, 3.5599999999999996, 6.43, 0.0, 0.0, 7.5, 0.0, 0.0, 0.0, -11.7, 0.0, 0.29, -1.2, 0.0, 0.0, 0.0, -3.0, 0.0, 0.0, -3.0, 0.0, 0.0, 0.0, 9.3, 1.4100000000000001, -24.0, 0.0, 0.0, 0.0, 0.0] \n",
      "sum: -7.1800000000000015 sum losses : - 47.71\n"
     ]
    },
    {
     "name": "stderr",
     "output_type": "stream",
     "text": [
      "[I 2025-09-13 21:01:35,384] Trial 173 finished with values: [3.6400000000000015, 33.42] and parameters: {'max_order_exposure': 105, 'max_selection_exposure': 30, 'stake': 7.0, 'max_odds_threshold': 3.1519349660486715, 'odds_change_deviation_to_trigger_trade': 0.14395836662170972, 'price_lookback_duration_seconds': 11, 'odds_change_deviation_to_trigger_take_prof': 0.26786529123408104}.\n"
     ]
    },
    {
     "name": "stdout",
     "output_type": "stream",
     "text": [
      "pnls:  [0.0, 0.0, 13.86, 0.0, 0.0, 0.0, 0.0, 12.600000000000001, 0.0, -7.0, 0.0, 0.0, 0.0, 0.0, 0.0, -7.0, 0.0, 0.0, 0.0, 0.0, 0.0, 0.0, 0.0, 0.0, 0.0, 0.0, 0.0, 2.2, 0.0, -0.5, 0.0, 0.0, -5.720000000000001, 0.0, -6.199999999999999, 0.0, 0.0, 0.0, -7.0, 0.0, 0.0, 0.0, 8.4, 0.0, 0.0] \n",
      "sum: 3.6400000000000015 sum losses : - 33.42\n"
     ]
    },
    {
     "name": "stderr",
     "output_type": "stream",
     "text": [
      "[I 2025-09-13 21:03:21,208] Trial 174 finished with values: [49.12, 46.46] and parameters: {'max_order_exposure': 185, 'max_selection_exposure': 180, 'stake': 2.0, 'max_odds_threshold': 11.485809196209683, 'odds_change_deviation_to_trigger_trade': 0.14395836662170972, 'price_lookback_duration_seconds': 23, 'odds_change_deviation_to_trigger_take_prof': 0.759176601133651}.\n"
     ]
    },
    {
     "name": "stdout",
     "output_type": "stream",
     "text": [
      "pnls:  [0.0, 0.0, 26.42, 0.0, 0.0, 0.0, 0.0, 0.0, 0.0, 0.0, 0.0, 0.0, 0.0, -4.23, -9.09, 0.0, 0.0, 9.54, 0.0, -2.0, -8.0, 0.0, 6.8, 13.1, -0.24, 0.0, 0.0, 7.0, 0.0, -12.5, -6.06, 0.0, 0.0, 0.0, 1.040000000000001, 29.08, 0.0, 0.0, 0.0, 2.6, 0.0, 0.0, 0.0, 0.0, -4.34] \n",
      "sum: 49.12 sum losses : - 46.46\n"
     ]
    },
    {
     "name": "stderr",
     "output_type": "stream",
     "text": [
      "[I 2025-09-13 21:05:33,166] Trial 175 finished with values: [-347.2199999999999, 896.2399999999999] and parameters: {'max_order_exposure': 145, 'max_selection_exposure': 160, 'stake': 8.0, 'max_odds_threshold': 17.170655085858364, 'odds_change_deviation_to_trigger_trade': 0.008392476736488564, 'price_lookback_duration_seconds': 6, 'odds_change_deviation_to_trigger_take_prof': 0.09530417241592824}.\n"
     ]
    },
    {
     "name": "stdout",
     "output_type": "stream",
     "text": [
      "pnls:  [37.27, -66.05999999999999, 38.59, 20.51, -58.08, -14.200000000000003, -13.94, 49.27999999999999, -91.22999999999999, 7.35, -9.520000000000001, 25.97, 0.0, 85.14, -101.35999999999999, 12.15, 7.109999999999999, -9.879999999999999, 24.879999999999995, 0.0, 0.0, 163.14000000000004, -113.53, 0.83, -48.28000000000001, -49.300000000000004, 4.519999999999995, 0.0, -8.96, -34.78999999999999, -4.010000000000023, -60.699999999999974, -1.4699999999999847, -26.85000000000001, -3.6, -5.529999999999999, 33.67999999999999, -26.339999999999986, 4.85, 14.419999999999998, -98.72999999999999, 0.41, -16.17, 18.92, -33.70999999999999] \n",
      "sum: -347.2199999999999 sum losses : - 896.2399999999999\n"
     ]
    },
    {
     "name": "stderr",
     "output_type": "stream",
     "text": [
      "[I 2025-09-13 21:07:00,226] Trial 176 finished with values: [-65.75, 127.37] and parameters: {'max_order_exposure': 200, 'max_selection_exposure': 80, 'stake': 8.0, 'max_odds_threshold': 12.98075831736601, 'odds_change_deviation_to_trigger_trade': 0.1878235070359515, 'price_lookback_duration_seconds': 16, 'odds_change_deviation_to_trigger_take_prof': 0.6316145864767951}.\n"
     ]
    },
    {
     "name": "stdout",
     "output_type": "stream",
     "text": [
      "pnls:  [0.0, 0.0, -3.78, 0.0, -3.19, 7.76, 0.0, 0.0, -12.82, -6.5, -8.0, 0.0, -2.08, -8.0, 0.0, 0.0, 0.0, 0.0, 0.0, 0.0, 0.0, 12.58, 18.0, -8.0, -8.0, 0.0, 2.8000000000000007, 0.0, -17.13, 0.0, 12.0, 0.0, -32.0, 8.48, 0.0, -1.87, 0.0, 0.0, 0.0, 0.0, -8.0, 0.0, -8.0, 0.0, 0.0] \n",
      "sum: -65.75 sum losses : - 127.37\n"
     ]
    },
    {
     "name": "stderr",
     "output_type": "stream",
     "text": [
      "[I 2025-09-13 21:08:37,792] Trial 177 finished with values: [-1.5099999999999982, 16.92] and parameters: {'max_order_exposure': 105, 'max_selection_exposure': 150, 'stake': 2.0, 'max_odds_threshold': 3.5851295467485693, 'odds_change_deviation_to_trigger_trade': 0.14395836662170972, 'price_lookback_duration_seconds': 15, 'odds_change_deviation_to_trigger_take_prof': 0.03892193073672046}.\n"
     ]
    },
    {
     "name": "stdout",
     "output_type": "stream",
     "text": [
      "pnls:  [0.0, -2.92, 0.0, 0.0, 0.0, 0.0, 0.0, -2.0, 0.0, 0.0, 0.4800000000000004, -2.0, 0.0, 0.0, 1.74, 0.0, 5.140000000000001, -2.0, 0.0, -2.0, -2.0, 0.0, -2.0, 0.0, 0.0, 0.0, 0.0, 0.0, 0.0, 0.0, 0.0, 0.0, 0.0, 0.0, 0.0, 2.3, 0.0, 0.0, 5.750000000000001, 0.0, 0.0, 0.0, 0.0, -2.0, 0.0] \n",
      "sum: -1.5099999999999982 sum losses : - 16.92\n"
     ]
    },
    {
     "name": "stderr",
     "output_type": "stream",
     "text": [
      "[I 2025-09-13 21:09:57,619] Trial 178 finished with values: [116.45, 125.06] and parameters: {'max_order_exposure': 70, 'max_selection_exposure': 150, 'stake': 7.0, 'max_odds_threshold': 6.863540109802222, 'odds_change_deviation_to_trigger_trade': 0.09088751669340961, 'price_lookback_duration_seconds': 6, 'odds_change_deviation_to_trigger_take_prof': 0.8614467799406271}.\n"
     ]
    },
    {
     "name": "stdout",
     "output_type": "stream",
     "text": [
      "pnls:  [0.0, 0.0, -0.33, 0.3500000000000001, 0.0, -15.59, 0.0, 52.00999999999999, -3.29, 0.0, -2.37, 22.259999999999998, 0.0, 0.0, 15.57, 0.0, 0.0, -9.209999999999999, -7.0, -14.0, -28.0, 0.0, 96.50000000000001, 0.0, 0.0, -0.25, 9.309999999999999, 0.0, -2.73, 0.0, -13.690000000000001, 0.0, 0.0, 0.0, 10.5, 0.0, 0.0, 6.92, 0.0, 4.29, 0.0, 23.8, 0.0, 0.0, -28.599999999999998] \n",
      "sum: 116.45 sum losses : - 125.06\n"
     ]
    },
    {
     "name": "stderr",
     "output_type": "stream",
     "text": [
      "[I 2025-09-13 21:11:46,792] Trial 179 finished with values: [96.08, 102.78] and parameters: {'max_order_exposure': 105, 'max_selection_exposure': 170, 'stake': 8.0, 'max_odds_threshold': 9.611222104364673, 'odds_change_deviation_to_trigger_trade': 0.1463724945457933, 'price_lookback_duration_seconds': 15, 'odds_change_deviation_to_trigger_take_prof': 0.03892193073672046}.\n"
     ]
    },
    {
     "name": "stdout",
     "output_type": "stream",
     "text": [
      "pnls:  [0.0, -8.0, 0.0, -17.3, 0.0, 0.0, 0.0, 0.0, 0.0, -8.2, -18.83, 0.0, -8.0, 7.52, 0.0, -0.23, 0.0, 0.0, 0.0, 0.0, 0.0, -2.77, -12.53, 0.0, 0.0, 0.0, 0.0, 18.300000000000004, 14.96, 0.0, 0.0, -8.0, 0.0, 0.0, -1.11, 0.0, -1.81, 100.8, 41.28, 0.0, -16.0, 0.0, 16.0, 0.0, 0.0] \n",
      "sum: 96.08 sum losses : - 102.78\n"
     ]
    },
    {
     "name": "stderr",
     "output_type": "stream",
     "text": [
      "[I 2025-09-13 21:12:51,396] Trial 180 finished with values: [5.190000000000002, 45.78] and parameters: {'max_order_exposure': 200, 'max_selection_exposure': 90, 'stake': 1.0, 'max_odds_threshold': 16.275134896544845, 'odds_change_deviation_to_trigger_trade': 0.08120813134995034, 'price_lookback_duration_seconds': 1, 'odds_change_deviation_to_trigger_take_prof': 0.759176601133651}.\n"
     ]
    },
    {
     "name": "stdout",
     "output_type": "stream",
     "text": [
      "pnls:  [18.43, -4.75, 2.34, 0.0, -6.0, 0.0, -1.0, -1.0, -2.34, 2.0, -2.0, -4.76, 1.5, 0.0, 0.0, -1.0, 0.27, 0.0, -1.0, 0.0, 0.0, 0.0, 0.0, 0.75, 22.200000000000003, 0.0, 0.0, -3.06, 0.98, 0.0, -1.2, -4.75, 0.0, 0.0, 0.0, -0.06, -1.0, -8.56, -2.01, 2.5, 0.0, 0.0, 0.0, -1.29, 0.0] \n",
      "sum: 5.190000000000002 sum losses : - 45.78\n"
     ]
    },
    {
     "name": "stderr",
     "output_type": "stream",
     "text": [
      "[I 2025-09-13 21:15:07,052] Trial 181 finished with values: [0.0, 0.0] and parameters: {'max_order_exposure': 145, 'max_selection_exposure': 200, 'stake': 8.0, 'max_odds_threshold': 1.610733343905984, 'odds_change_deviation_to_trigger_trade': 0.14395836662170972, 'price_lookback_duration_seconds': 1, 'odds_change_deviation_to_trigger_take_prof': 0.759176601133651}.\n"
     ]
    },
    {
     "name": "stdout",
     "output_type": "stream",
     "text": [
      "pnls:  [0.0, 0.0, 0.0, 0.0, 0.0, 0.0, 0.0, 0.0, 0.0, 0.0, 0.0, 0.0, 0.0, 0.0, 0.0, 0.0, 0.0, 0.0, 0.0, 0.0, 0.0, 0.0, 0.0, 0.0, 0.0, 0.0, 0.0, 0.0, 0.0, 0.0, 0.0, 0.0, 0.0, 0.0, 0.0, 0.0, 0.0, 0.0, 0.0, 0.0, 0.0, 0.0, 0.0, 0.0, 0.0] \n",
      "sum: 0.0 sum losses : - 0.0\n"
     ]
    },
    {
     "name": "stderr",
     "output_type": "stream",
     "text": [
      "[I 2025-09-13 21:16:04,299] Trial 182 finished with values: [383.0900000000001, 744.73] and parameters: {'max_order_exposure': 140, 'max_selection_exposure': 170, 'stake': 5.0, 'max_odds_threshold': 5.127954060470222, 'odds_change_deviation_to_trigger_trade': 0.007411459859034675, 'price_lookback_duration_seconds': 16, 'odds_change_deviation_to_trigger_take_prof': 0.6891485147859684}.\n"
     ]
    },
    {
     "name": "stdout",
     "output_type": "stream",
     "text": [
      "pnls:  [0.0, 0.0, 8.440000000000001, 97.63000000000001, -14.74, -82.13, -83.6, -20.0, 0.0, 6.45, -1.25, 18.200000000000003, 0.24, -62.48, 313.28999999999996, -107.52, 111.96000000000004, 1.76, 55.63999999999999, 0.96, 0.0, 5.67, -56.52, 0.23000000000000043, 17.369999999999997, 50.26000000000001, 157.87000000000003, 98.79, -33.739999999999995, 1.0500000000000003, -2.0299999999999976, 20.26, 76.17, -86.54000000000002, -7.770000000000003, -16.18, -18.10000000000002, 3.329999999999999, -36.14, 37.720000000000006, 26.390000000000008, -88.18999999999997, -27.8, 1.0499999999999998, 17.090000000000003] \n",
      "sum: 383.0900000000001 sum losses : - 744.73\n"
     ]
    },
    {
     "ename": "KeyboardInterrupt",
     "evalue": "",
     "output_type": "error",
     "traceback": [
      "\u001b[0;31m---------------------------------------------------------------------------\u001b[0m",
      "\u001b[0;31mKeyboardInterrupt\u001b[0m                         Traceback (most recent call last)",
      "Cell \u001b[0;32mIn[6], line 35\u001b[0m\n\u001b[1;32m     32\u001b[0m     \u001b[38;5;28;01mreturn\u001b[39;00m pnl_sum, sum_loss\n\u001b[1;32m     34\u001b[0m study \u001b[38;5;241m=\u001b[39m optuna\u001b[38;5;241m.\u001b[39mcreate_study(directions\u001b[38;5;241m=\u001b[39m[\u001b[38;5;124m\"\u001b[39m\u001b[38;5;124mmaximize\u001b[39m\u001b[38;5;124m\"\u001b[39m, \u001b[38;5;124m\"\u001b[39m\u001b[38;5;124mminimize\u001b[39m\u001b[38;5;124m\"\u001b[39m],sampler\u001b[38;5;241m=\u001b[39mNSGAIISampler(population_size\u001b[38;5;241m=\u001b[39m\u001b[38;5;241m28\u001b[39m))\n\u001b[0;32m---> 35\u001b[0m study\u001b[38;5;241m.\u001b[39moptimize(objective, n_trials\u001b[38;5;241m=\u001b[39m\u001b[38;5;241m300\u001b[39m, n_jobs\u001b[38;5;241m=\u001b[39m\u001b[38;5;241m2\u001b[39m)\n\u001b[1;32m     37\u001b[0m \u001b[38;5;66;03m# Choose a Pareto-optimal trial (e.g., lowest MDD above a PnL floor)\u001b[39;00m\n\u001b[1;32m     38\u001b[0m best \u001b[38;5;241m=\u001b[39m \u001b[38;5;28mmin\u001b[39m(study\u001b[38;5;241m.\u001b[39mbest_trials, key\u001b[38;5;241m=\u001b[39m\u001b[38;5;28;01mlambda\u001b[39;00m t: (t\u001b[38;5;241m.\u001b[39mvalues[\u001b[38;5;241m1\u001b[39m], \u001b[38;5;241m-\u001b[39mt\u001b[38;5;241m.\u001b[39mvalues[\u001b[38;5;241m0\u001b[39m]))\n",
      "File \u001b[0;32m/opt/anaconda3/envs/betenv/lib/python3.12/site-packages/optuna/study/study.py:490\u001b[0m, in \u001b[0;36mStudy.optimize\u001b[0;34m(self, func, n_trials, timeout, n_jobs, catch, callbacks, gc_after_trial, show_progress_bar)\u001b[0m\n\u001b[1;32m    388\u001b[0m \u001b[38;5;28;01mdef\u001b[39;00m \u001b[38;5;21moptimize\u001b[39m(\n\u001b[1;32m    389\u001b[0m     \u001b[38;5;28mself\u001b[39m,\n\u001b[1;32m    390\u001b[0m     func: ObjectiveFuncType,\n\u001b[0;32m   (...)\u001b[0m\n\u001b[1;32m    397\u001b[0m     show_progress_bar: \u001b[38;5;28mbool\u001b[39m \u001b[38;5;241m=\u001b[39m \u001b[38;5;28;01mFalse\u001b[39;00m,\n\u001b[1;32m    398\u001b[0m ) \u001b[38;5;241m-\u001b[39m\u001b[38;5;241m>\u001b[39m \u001b[38;5;28;01mNone\u001b[39;00m:\n\u001b[1;32m    399\u001b[0m \u001b[38;5;250m    \u001b[39m\u001b[38;5;124;03m\"\"\"Optimize an objective function.\u001b[39;00m\n\u001b[1;32m    400\u001b[0m \n\u001b[1;32m    401\u001b[0m \u001b[38;5;124;03m    Optimization is done by choosing a suitable set of hyperparameter values from a given\u001b[39;00m\n\u001b[0;32m   (...)\u001b[0m\n\u001b[1;32m    488\u001b[0m \u001b[38;5;124;03m            If nested invocation of this method occurs.\u001b[39;00m\n\u001b[1;32m    489\u001b[0m \u001b[38;5;124;03m    \"\"\"\u001b[39;00m\n\u001b[0;32m--> 490\u001b[0m     _optimize(\n\u001b[1;32m    491\u001b[0m         study\u001b[38;5;241m=\u001b[39m\u001b[38;5;28mself\u001b[39m,\n\u001b[1;32m    492\u001b[0m         func\u001b[38;5;241m=\u001b[39mfunc,\n\u001b[1;32m    493\u001b[0m         n_trials\u001b[38;5;241m=\u001b[39mn_trials,\n\u001b[1;32m    494\u001b[0m         timeout\u001b[38;5;241m=\u001b[39mtimeout,\n\u001b[1;32m    495\u001b[0m         n_jobs\u001b[38;5;241m=\u001b[39mn_jobs,\n\u001b[1;32m    496\u001b[0m         catch\u001b[38;5;241m=\u001b[39m\u001b[38;5;28mtuple\u001b[39m(catch) \u001b[38;5;28;01mif\u001b[39;00m \u001b[38;5;28misinstance\u001b[39m(catch, Iterable) \u001b[38;5;28;01melse\u001b[39;00m (catch,),\n\u001b[1;32m    497\u001b[0m         callbacks\u001b[38;5;241m=\u001b[39mcallbacks,\n\u001b[1;32m    498\u001b[0m         gc_after_trial\u001b[38;5;241m=\u001b[39mgc_after_trial,\n\u001b[1;32m    499\u001b[0m         show_progress_bar\u001b[38;5;241m=\u001b[39mshow_progress_bar,\n\u001b[1;32m    500\u001b[0m     )\n",
      "File \u001b[0;32m/opt/anaconda3/envs/betenv/lib/python3.12/site-packages/optuna/study/_optimize.py:97\u001b[0m, in \u001b[0;36m_optimize\u001b[0;34m(study, func, n_trials, timeout, n_jobs, catch, callbacks, gc_after_trial, show_progress_bar)\u001b[0m\n\u001b[1;32m     94\u001b[0m     \u001b[38;5;28;01mbreak\u001b[39;00m\n\u001b[1;32m     96\u001b[0m \u001b[38;5;28;01mif\u001b[39;00m \u001b[38;5;28mlen\u001b[39m(futures) \u001b[38;5;241m>\u001b[39m\u001b[38;5;241m=\u001b[39m n_jobs:\n\u001b[0;32m---> 97\u001b[0m     completed, futures \u001b[38;5;241m=\u001b[39m wait(futures, return_when\u001b[38;5;241m=\u001b[39mFIRST_COMPLETED)\n\u001b[1;32m     98\u001b[0m     \u001b[38;5;66;03m# Raise if exception occurred in executing the completed futures.\u001b[39;00m\n\u001b[1;32m     99\u001b[0m     \u001b[38;5;28;01mfor\u001b[39;00m f \u001b[38;5;129;01min\u001b[39;00m completed:\n",
      "File \u001b[0;32m/opt/anaconda3/envs/betenv/lib/python3.12/concurrent/futures/_base.py:305\u001b[0m, in \u001b[0;36mwait\u001b[0;34m(fs, timeout, return_when)\u001b[0m\n\u001b[1;32m    301\u001b[0m         \u001b[38;5;28;01mreturn\u001b[39;00m DoneAndNotDoneFutures(done, not_done)\n\u001b[1;32m    303\u001b[0m     waiter \u001b[38;5;241m=\u001b[39m _create_and_install_waiters(fs, return_when)\n\u001b[0;32m--> 305\u001b[0m waiter\u001b[38;5;241m.\u001b[39mevent\u001b[38;5;241m.\u001b[39mwait(timeout)\n\u001b[1;32m    306\u001b[0m \u001b[38;5;28;01mfor\u001b[39;00m f \u001b[38;5;129;01min\u001b[39;00m fs:\n\u001b[1;32m    307\u001b[0m     \u001b[38;5;28;01mwith\u001b[39;00m f\u001b[38;5;241m.\u001b[39m_condition:\n",
      "File \u001b[0;32m/opt/anaconda3/envs/betenv/lib/python3.12/threading.py:655\u001b[0m, in \u001b[0;36mEvent.wait\u001b[0;34m(self, timeout)\u001b[0m\n\u001b[1;32m    653\u001b[0m signaled \u001b[38;5;241m=\u001b[39m \u001b[38;5;28mself\u001b[39m\u001b[38;5;241m.\u001b[39m_flag\n\u001b[1;32m    654\u001b[0m \u001b[38;5;28;01mif\u001b[39;00m \u001b[38;5;129;01mnot\u001b[39;00m signaled:\n\u001b[0;32m--> 655\u001b[0m     signaled \u001b[38;5;241m=\u001b[39m \u001b[38;5;28mself\u001b[39m\u001b[38;5;241m.\u001b[39m_cond\u001b[38;5;241m.\u001b[39mwait(timeout)\n\u001b[1;32m    656\u001b[0m \u001b[38;5;28;01mreturn\u001b[39;00m signaled\n",
      "File \u001b[0;32m/opt/anaconda3/envs/betenv/lib/python3.12/threading.py:355\u001b[0m, in \u001b[0;36mCondition.wait\u001b[0;34m(self, timeout)\u001b[0m\n\u001b[1;32m    353\u001b[0m \u001b[38;5;28;01mtry\u001b[39;00m:    \u001b[38;5;66;03m# restore state no matter what (e.g., KeyboardInterrupt)\u001b[39;00m\n\u001b[1;32m    354\u001b[0m     \u001b[38;5;28;01mif\u001b[39;00m timeout \u001b[38;5;129;01mis\u001b[39;00m \u001b[38;5;28;01mNone\u001b[39;00m:\n\u001b[0;32m--> 355\u001b[0m         waiter\u001b[38;5;241m.\u001b[39macquire()\n\u001b[1;32m    356\u001b[0m         gotit \u001b[38;5;241m=\u001b[39m \u001b[38;5;28;01mTrue\u001b[39;00m\n\u001b[1;32m    357\u001b[0m     \u001b[38;5;28;01melse\u001b[39;00m:\n",
      "\u001b[0;31mKeyboardInterrupt\u001b[0m: "
     ]
    }
   ],
   "source": [
    "import optuna\n",
    "from optuna.samplers import NSGAIISampler\n",
    "from optuna.pruners import SuccessiveHalvingPruner\n",
    "\n",
    "def sum_losses(equity):\n",
    "    result = sum(abs(x) for x in equity if x <= 0)\n",
    "    return result\n",
    "\n",
    "def objective(trial):\n",
    "    order_exp = trial.suggest_int(\"max_order_exposure\", 5, 200, step=5)\n",
    "    sel_exp   = trial.suggest_int(\"max_selection_exposure\", 20, 200, step=10)\n",
    "    stake = trial.suggest_float(\"stake\", 1.0, 10.0, step=1)\n",
    "    odds_cap = trial.suggest_float(\"max_odds_threshold\", 1.5, 20.0)\n",
    "    trig_dev = trial.suggest_float(\"odds_change_deviation_to_trigger_trade\", 0.005, 0.20, log=True)\n",
    "    lookback = trial.suggest_int(\"price_lookback_duration_seconds\", 1, 30)\n",
    "    take_prof_price_diff = trial.suggest_float(\"odds_change_deviation_to_trigger_take_prof\", 0.02, 1, log=True)\n",
    "\n",
    "    equity = run_one_trial_drawdown_optim(\n",
    "        max_order_exposure=order_exp,\n",
    "        max_selection_exposure=sel_exp,\n",
    "        stake=stake,\n",
    "        threshold=odds_cap,\n",
    "        dev=trig_dev,\n",
    "        lookback=lookback,\n",
    "        take_prof_price_diff=take_prof_price_diff\n",
    "    )\n",
    "    \n",
    "    pnl_sum = sum(equity)\n",
    "\n",
    "    sum_loss = sum_losses(equity)\n",
    "    print(\"pnls: \", equity, \"\\nsum:\", pnl_sum, \"sum losses : -\", sum_loss)\n",
    "    return pnl_sum, sum_loss\n",
    "\n",
    "study = optuna.create_study(directions=[\"maximize\", \"minimize\"],sampler=NSGAIISampler(population_size=28))\n",
    "study.optimize(objective, n_trials=300, n_jobs=2)\n",
    "\n",
    "# Choose a Pareto-optimal trial (e.g., lowest MDD above a PnL floor)\n",
    "best = min(study.best_trials, key=lambda t: (t.values[1], -t.values[0]))\n",
    "print(\"Best (PnL, MDD):\", best.values)\n",
    "print(\"Params:\", best.params)\n"
   ]
  },
  {
   "cell_type": "code",
   "execution_count": null,
   "id": "f9b1b750-ee69-4a17-ae8e-249e7bc1a3f2",
   "metadata": {},
   "outputs": [],
   "source": []
  }
 ],
 "metadata": {
  "kernelspec": {
   "display_name": "Python [conda env:betenv]",
   "language": "python",
   "name": "conda-env-betenv-py"
  },
  "language_info": {
   "codemirror_mode": {
    "name": "ipython",
    "version": 3
   },
   "file_extension": ".py",
   "mimetype": "text/x-python",
   "name": "python",
   "nbconvert_exporter": "python",
   "pygments_lexer": "ipython3",
   "version": "3.12.2"
  }
 },
 "nbformat": 4,
 "nbformat_minor": 5
}
