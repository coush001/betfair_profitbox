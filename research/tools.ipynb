{
 "cells": [
  {
   "cell_type": "code",
   "execution_count": 1,
   "id": "231cf54f-9b23-4524-9741-78309275f43e",
   "metadata": {},
   "outputs": [
    {
     "ename": "ModuleNotFoundError",
     "evalue": "No module named 'dotenv'",
     "output_type": "error",
     "traceback": [
      "\u001b[0;31m---------------------------------------------------------------------------\u001b[0m",
      "\u001b[0;31mModuleNotFoundError\u001b[0m                       Traceback (most recent call last)",
      "Cell \u001b[0;32mIn[1], line 4\u001b[0m\n\u001b[1;32m      2\u001b[0m \u001b[38;5;28;01mfrom\u001b[39;00m \u001b[38;5;21;01mbetfairlightweight\u001b[39;00m\u001b[38;5;21;01m.\u001b[39;00m\u001b[38;5;21;01mfilters\u001b[39;00m \u001b[38;5;28;01mimport\u001b[39;00m market_filter, time_range\n\u001b[1;32m      3\u001b[0m \u001b[38;5;28;01mimport\u001b[39;00m \u001b[38;5;21;01mos\u001b[39;00m\n\u001b[0;32m----> 4\u001b[0m \u001b[38;5;28;01mfrom\u001b[39;00m \u001b[38;5;21;01mdotenv\u001b[39;00m \u001b[38;5;28;01mimport\u001b[39;00m load_dotenv\n\u001b[1;32m      5\u001b[0m \u001b[38;5;28;01mimport\u001b[39;00m \u001b[38;5;21;01mtime\u001b[39;00m\n\u001b[1;32m      6\u001b[0m \u001b[38;5;28;01mimport\u001b[39;00m \u001b[38;5;21;01mlogging\u001b[39;00m\n",
      "\u001b[0;31mModuleNotFoundError\u001b[0m: No module named 'dotenv'"
     ]
    }
   ],
   "source": [
    "import betfairlightweight as bflw\n",
    "from betfairlightweight.filters import market_filter, time_range\n",
    "import os\n",
    "from dotenv import load_dotenv\n",
    "import time\n",
    "import logging\n",
    "from pythonjsonlogger import jsonlogger\n",
    "import pandas as pd\n",
    "\n",
    "# load .env\n",
    "load_dotenv()\n",
    "\n",
    "USERNAME = os.getenv(\"BETFAIR_USERNAME\")\n",
    "APP_KEY  = os.getenv(\"BETFAIR_APP_KEY\")\n",
    "PASSWORD = os.getenv(\"BETFAIR_PASSWORD\")\n",
    "\n",
    "trading = bflw.APIClient(USERNAME, app_key=APP_KEY, password=PASSWORD, cert_files=(\"certs/client-2048.crt\", \"certs/client-2048.key\"))  # you still need a live session/login\n",
    "trading.login()\n",
    "\n",
    "\n",
    "co = trading.betting.list_current_orders()\n",
    "for o in co.orders:           # ✅ correct\n",
    "    print(o.bet_id, o.market_id, o.selection_id, o.side, o.status)\n",
    "\n"
   ]
  },
  {
   "cell_type": "code",
   "execution_count": null,
   "id": "114c4823-3711-49c2-a70e-e89fa5557bf5",
   "metadata": {},
   "outputs": [],
   "source": []
  },
  {
   "cell_type": "code",
   "execution_count": null,
   "id": "6e7f09ef-573a-41cd-ac37-0a2a45d08066",
   "metadata": {},
   "outputs": [],
   "source": []
  },
  {
   "cell_type": "code",
   "execution_count": 4,
   "id": "93db7d29-f7fc-4b83-b06f-be34393f4ba5",
   "metadata": {},
   "outputs": [
    {
     "data": {
      "text/plain": [
       "<ClearedOrders>"
      ]
     },
     "execution_count": 4,
     "metadata": {},
     "output_type": "execute_result"
    }
   ],
   "source": [
    "cleared"
   ]
  },
  {
   "cell_type": "code",
   "execution_count": null,
   "id": "f00e1543-6362-49ab-8bd8-102792fa3dbe",
   "metadata": {},
   "outputs": [],
   "source": []
  }
 ],
 "metadata": {
  "kernelspec": {
   "display_name": "firstEnv",
   "language": "python",
   "name": "firstenv"
  },
  "language_info": {
   "codemirror_mode": {
    "name": "ipython",
    "version": 3
   },
   "file_extension": ".py",
   "mimetype": "text/x-python",
   "name": "python",
   "nbconvert_exporter": "python",
   "pygments_lexer": "ipython3",
   "version": "3.8.20"
  }
 },
 "nbformat": 4,
 "nbformat_minor": 5
}
