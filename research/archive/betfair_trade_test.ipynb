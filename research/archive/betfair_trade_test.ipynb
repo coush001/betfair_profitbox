{
 "cells": [
  {
   "cell_type": "code",
   "execution_count": 5,
   "id": "fdc486a3",
   "metadata": {},
   "outputs": [
    {
     "name": "stdout",
     "output_type": "stream",
     "text": [
      "False\n"
     ]
    }
   ],
   "source": [
    "import betfairlightweight\n",
    "from dotenv import load_dotenv\n",
    "import os\n",
    "from betfairlightweight import filters\n",
    "import pandas as pd\n",
    "from datetime import datetime, timedelta\n",
    "\n",
    "# Load environment variables from the .env file\n",
    "a = load_dotenv(\"./\")\n",
    "\n",
    "\n",
    "\n",
    "trading = betfairlightweight.APIClient(username=USERNAME, password=PASSWORD, app_key=APP_KEY, certs=\"certs\")"
   ]
  },
  {
   "cell_type": "code",
   "execution_count": 2,
   "id": "6a52969f",
   "metadata": {},
   "outputs": [],
   "source": []
  },
  {
   "cell_type": "code",
   "execution_count": 3,
   "id": "874fb6c6-7f6c-4664-aef9-98f47588f6da",
   "metadata": {},
   "outputs": [
    {
     "name": "stdout",
     "output_type": "stream",
     "text": [
      "Login successful, session token acquired.\n"
     ]
    }
   ],
   "source": [
    "# Attempt to login\n",
    "try:\n",
    "    # Login to the API client\n",
    "    trading.login()\n",
    "    # Check if login was successful by verifying the session token\n",
    "    if trading.session_token:\n",
    "        print(\"Login successful, session token acquired.\")\n",
    "    else:\n",
    "        print(\"Login failed: No session token available.\")\n",
    "\n",
    "except betfairlightweight.exceptions.BetfairAPIError as e:\n",
    "    print(f\"API Error: {e}\")\n",
    "except Exception as e:\n",
    "    print(f\"Unexpected Error: {e}\")"
   ]
  },
  {
   "cell_type": "code",
   "execution_count": 29,
   "id": "8cdc5c4e-e4e1-44fd-b93d-be0fb35935d7",
   "metadata": {},
   "outputs": [
    {
     "data": {
      "text/html": [
       "<div>\n",
       "<style scoped>\n",
       "    .dataframe tbody tr th:only-of-type {\n",
       "        vertical-align: middle;\n",
       "    }\n",
       "\n",
       "    .dataframe tbody tr th {\n",
       "        vertical-align: top;\n",
       "    }\n",
       "\n",
       "    .dataframe thead th {\n",
       "        text-align: right;\n",
       "    }\n",
       "</style>\n",
       "<table border=\"1\" class=\"dataframe\">\n",
       "  <thead>\n",
       "    <tr style=\"text-align: right;\">\n",
       "      <th></th>\n",
       "      <th>id</th>\n",
       "      <th>starttime</th>\n",
       "      <th>comp</th>\n",
       "      <th>matched</th>\n",
       "      <th>eventid</th>\n",
       "      <th>eventname</th>\n",
       "    </tr>\n",
       "  </thead>\n",
       "  <tbody>\n",
       "    <tr>\n",
       "      <th>0</th>\n",
       "      <td>1.239028616</td>\n",
       "      <td>13:0</td>\n",
       "      <td>WTA Abu Dhabi 2025</td>\n",
       "      <td>43991.36</td>\n",
       "      <td>33995511</td>\n",
       "      <td>Garcia v Lulu Sun</td>\n",
       "    </tr>\n",
       "    <tr>\n",
       "      <th>4</th>\n",
       "      <td>1.239083170</td>\n",
       "      <td>13:30</td>\n",
       "      <td>WTA Cluj-Napoca 2025</td>\n",
       "      <td>8573.64</td>\n",
       "      <td>33998902</td>\n",
       "      <td>Snigur v Dolehide</td>\n",
       "    </tr>\n",
       "    <tr>\n",
       "      <th>5</th>\n",
       "      <td>1.239087437</td>\n",
       "      <td>13:30</td>\n",
       "      <td>ATP Rotterdam 2025</td>\n",
       "      <td>36578.02</td>\n",
       "      <td>33998975</td>\n",
       "      <td>Tsitsipas v Mayot</td>\n",
       "    </tr>\n",
       "    <tr>\n",
       "      <th>8</th>\n",
       "      <td>1.239052107</td>\n",
       "      <td>14:0</td>\n",
       "      <td>Tenerife Challenger 2025</td>\n",
       "      <td>2917.99</td>\n",
       "      <td>33996986</td>\n",
       "      <td>In Montes-de la Torre v Emil Ruusuvuori</td>\n",
       "    </tr>\n",
       "  </tbody>\n",
       "</table>\n",
       "</div>"
      ],
      "text/plain": [
       "            id starttime                      comp   matched   eventid  \\\n",
       "0  1.239028616      13:0        WTA Abu Dhabi 2025  43991.36  33995511   \n",
       "4  1.239083170     13:30      WTA Cluj-Napoca 2025   8573.64  33998902   \n",
       "5  1.239087437     13:30        ATP Rotterdam 2025  36578.02  33998975   \n",
       "8  1.239052107      14:0  Tenerife Challenger 2025   2917.99  33996986   \n",
       "\n",
       "                                 eventname  \n",
       "0                        Garcia v Lulu Sun  \n",
       "4                        Snigur v Dolehide  \n",
       "5                        Tsitsipas v Mayot  \n",
       "8  In Montes-de la Torre v Emil Ruusuvuori  "
      ]
     },
     "execution_count": 29,
     "metadata": {},
     "output_type": "execute_result"
    }
   ],
   "source": [
    "time = filters.time_range(datetime.now(), datetime.now() + timedelta(hours=3))\n",
    "main_filter = filters.market_filter(text_query=\"tennis\", market_type_codes=[\"MATCH_ODDS\"], market_start_time=time)\n",
    "\n",
    "cat = trading.betting.list_market_catalogue(filter=main_filter,\n",
    "        market_projection=[\n",
    "            \"RUNNER_DESCRIPTION\", \n",
    "            \"RUNNER_METADATA\", \n",
    "            \"COMPETITION\", \n",
    "            \"EVENT\", \n",
    "            \"EVENT_TYPE\", \n",
    "            \"MARKET_DESCRIPTION\", \n",
    "            \"MARKET_START_TIME\",\n",
    "        ],\n",
    "        max_results=100, \n",
    "        )\n",
    "events = []\n",
    "for i in cat:\n",
    "    events.append([\n",
    "                i.market_id,\n",
    "                str(i.market_start_time.hour)+':'+str(i.market_start_time.minute), \n",
    "                i.competition.name,\n",
    "                i.total_matched,\n",
    "                i.event.id,\n",
    "                i.event.name\n",
    "    ]\n",
    "        )\n",
    "\n",
    "df = pd.DataFrame(events, columns=['id','starttime','comp','matched','eventid','eventname'])\n",
    "df[df.matched > 1000]"
   ]
  },
  {
   "cell_type": "code",
   "execution_count": 32,
   "id": "abf76114-91bb-4579-907c-1835761ff995",
   "metadata": {},
   "outputs": [
    {
     "name": "stdout",
     "output_type": "stream",
     "text": [
      "1.239028616 False OPEN \n",
      "cross matching:  True \n",
      " total avail:  241093.29 44141.37 \n",
      "\n",
      "\n",
      "ACTIVE Last traded @: 1.57 id: 5248977 \n",
      "Total matched :  37081.68 \n",
      "\n",
      "1.61  of: 924.82\n",
      "1.6  of: 1017.73\n",
      "1.59  of: 509.95\n",
      "1.58  of: 120.92\n",
      "Lay ^, and back : <<<<<<<<<<<<<<<\n",
      "1.57  of: 1163.61\n",
      "1.56  of: 1174.65\n",
      "1.55  of: 1215.93\n",
      "1.54  of: 332.84\n",
      "\n",
      "\n",
      "\n",
      "ACTIVE Last traded @: 2.72 id: 17311444 \n",
      "Total matched :  7059.69 \n",
      "\n",
      "2.82  of: 666.44\n",
      "2.8  of: 666.5\n",
      "2.76  of: 353.12\n",
      "2.74  of: 315.07\n",
      "Lay ^, and back : <<<<<<<<<<<<<<<\n",
      "2.72  of: 70.24\n",
      "2.7  of: 238.88\n",
      "2.68  of: 159.66\n",
      "2.66  of: 513.65\n",
      "\n",
      "\n",
      "\n"
     ]
    }
   ],
   "source": [
    "market_books = trading.betting.list_market_book(\n",
    "        market_ids=[\"1.239028616\"],\n",
    "        price_projection=filters.price_projection(price_data=filters.price_data(ex_all_offers=True, ex_traded=True) ),\n",
    "        order_projection=\"ALL\")\n",
    "\n",
    "\n",
    "for market_book in market_books:\n",
    "        print(  # prints market\n",
    "            market_book.market_id,\n",
    "            market_book.inplay,\n",
    "            market_book.status,\n",
    "            '\\ncross matching: ', market_book.cross_matching,\n",
    "            '\\n total avail: ', market_book.total_available,\n",
    "            market_book.total_matched, '\\n\\n')\n",
    "    \n",
    "        for runner in market_book.runners:  \n",
    "            print ( runner.status, 'Last traded @:', runner.last_price_traded, 'id:', runner.selection_id,\n",
    "                '\\nTotal matched : ', runner.total_matched,\n",
    "                 '\\n')\n",
    "            for i in reversed(runner.ex.available_to_lay[0:4]):\n",
    "                print(i.price, ' of:', i.size)\n",
    "            print('Lay ^, and back : <<<<<<<<<<<<<<<' )\n",
    "            for i in runner.ex.available_to_back[0:4]:\n",
    "                print(i.price, ' of:', i.size)\n",
    "            print('\\n\\n')"
   ]
  },
  {
   "cell_type": "code",
   "execution_count": 167,
   "id": "b2642bff-0202-4c69-a27e-56fa085d94b6",
   "metadata": {},
   "outputs": [
    {
     "ename": "SyntaxError",
     "evalue": "incomplete input (3340136916.py, line 1)",
     "output_type": "error",
     "traceback": [
      "\u001b[0;36m  Cell \u001b[0;32mIn[167], line 1\u001b[0;36m\u001b[0m\n\u001b[0;31m    def run_positions():\u001b[0m\n\u001b[0m                        ^\u001b[0m\n\u001b[0;31mSyntaxError\u001b[0m\u001b[0;31m:\u001b[0m incomplete input\n"
     ]
    }
   ],
   "source": [
    "def run_positions():"
   ]
  },
  {
   "cell_type": "code",
   "execution_count": null,
   "id": "020c931d-247d-4c37-868d-a75862810805",
   "metadata": {},
   "outputs": [],
   "source": []
  }
 ],
 "metadata": {
  "kernelspec": {
   "display_name": "Python 3 (ipykernel)",
   "language": "python",
   "name": "python3"
  },
  "language_info": {
   "codemirror_mode": {
    "name": "ipython",
    "version": 3
   },
   "file_extension": ".py",
   "mimetype": "text/x-python",
   "name": "python",
   "nbconvert_exporter": "python",
   "pygments_lexer": "ipython3",
   "version": "3.12.8"
  },
  "varInspector": {
   "cols": {
    "lenName": 16,
    "lenType": 16,
    "lenVar": 40
   },
   "kernels_config": {
    "python": {
     "delete_cmd_postfix": "",
     "delete_cmd_prefix": "del ",
     "library": "var_list.py",
     "varRefreshCmd": "print(var_dic_list())"
    },
    "r": {
     "delete_cmd_postfix": ") ",
     "delete_cmd_prefix": "rm(",
     "library": "var_list.r",
     "varRefreshCmd": "cat(var_dic_list()) "
    }
   },
   "types_to_exclude": [
    "module",
    "function",
    "builtin_function_or_method",
    "instance",
    "_Feature"
   ],
   "window_display": false
  }
 },
 "nbformat": 4,
 "nbformat_minor": 5
}
