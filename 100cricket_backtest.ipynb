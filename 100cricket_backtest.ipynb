{
 "cells": [
  {
   "cell_type": "code",
   "execution_count": 3,
   "id": "5e1ea5de-15d4-4f28-8e57-823e5278c06d",
   "metadata": {},
   "outputs": [
    {
     "name": "stdout",
     "output_type": "stream",
     "text": [
      "2024AugCricketEvents.csv \u001b[34mBASIC\u001b[m\u001b[m\n"
     ]
    }
   ],
   "source": [
    "!ls DATA/"
   ]
  },
  {
   "cell_type": "code",
   "execution_count": 4,
   "id": "3943b1c4-7ae1-47da-ab6d-0acba07c96a0",
   "metadata": {},
   "outputs": [],
   "source": [
    "import pandas as pd"
   ]
  },
  {
   "cell_type": "code",
   "execution_count": null,
   "id": "0418c062-174f-4713-aa77-9f03b16db3cb",
   "metadata": {},
   "outputs": [],
   "source": []
  }
 ],
 "metadata": {
  "kernelspec": {
   "display_name": "Python 3 (ipykernel)",
   "language": "python",
   "name": "python3"
  },
  "language_info": {
   "codemirror_mode": {
    "name": "ipython",
    "version": 3
   },
   "file_extension": ".py",
   "mimetype": "text/x-python",
   "name": "python",
   "nbconvert_exporter": "python",
   "pygments_lexer": "ipython3",
   "version": "3.12.8"
  }
 },
 "nbformat": 4,
 "nbformat_minor": 5
}
