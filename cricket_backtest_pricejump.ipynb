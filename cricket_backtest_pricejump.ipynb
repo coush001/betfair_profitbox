{
 "cells": [
  {
   "cell_type": "code",
   "execution_count": 1,
   "id": "50a4e8e9-4a95-4984-8c31-99ded1b26d91",
   "metadata": {},
   "outputs": [],
   "source": [
    "# To do:\n",
    "\n",
    "# Define is the team still in it?\n",
    "# - define the behaviour when in risk, and whether to double down, how long to hold, when to cut loss\n"
   ]
  },
  {
   "cell_type": "code",
   "execution_count": 2,
   "id": "d4d948fd-1d3b-4476-89df-0fd8ace5b16a",
   "metadata": {},
   "outputs": [],
   "source": [
    "import pandas as pd\n",
    "import time\n",
    "import logging\n",
    "from pythonjsonlogger import jsonlogger\n",
    "from flumine import FlumineSimulation, clients"
   ]
  },
  {
   "cell_type": "code",
   "execution_count": 3,
   "id": "27fac993-3745-47be-8504-eba0f1be5010",
   "metadata": {},
   "outputs": [],
   "source": [
    "from collections import OrderedDict, deque, defaultdict\n",
    "from flumine import BaseStrategy\n",
    "from flumine.order.trade import Trade\n",
    "from flumine.order.order import OrderStatus\n",
    "from flumine.order.ordertype import LimitOrder\n",
    "from flumine.utils import get_price\n",
    "from logging_setup import build_logger\n",
    "import random\n",
    "\n",
    "import time\n",
    "from datetime import timedelta\n",
    "\n",
    "class HugoStrat(BaseStrategy):\n",
    "    \"\"\"\n",
    "    Example strateg\n",
    "    \"\"\"\n",
    "    def __init__(self, threshold, dev, lookback, take_prof_price_diff, log_root, log_level, *a, **k):\n",
    "        self.log = build_logger(log_root,log_level)  # logs/trades.log, rotated nightly\n",
    "        super().__init__(*a, **k)\n",
    "        self.hist = defaultdict(lambda: deque(maxlen=400))  # per runner\n",
    "        self.threshold = threshold\n",
    "        self.dev = dev\n",
    "        self.lookback = lookback\n",
    "        self.take_prof_price_diff = take_prof_price_diff\n",
    "        self.startdt = None\n",
    "        self._last = {}    # order_id -> last size_matched\n",
    "        self.rows = []     # collected fills: [market_id, selection_id, time, size, price, side, order_id]\n",
    "        self.pnl = 0.0     \n",
    "\n",
    "\n",
    "    def add_market(self, market):\n",
    "        self.log.info(\"ADD\", market.market_id, market.event_name, market.event_type_id)\n",
    "    \n",
    "    def check_market_book(self, market, market_book):\n",
    "        if market_book.status == \"OPEN\" and market_book.inplay:\n",
    "            return True\n",
    "    \n",
    "    def _price_now(self, r):\n",
    "        return r.last_price_traded\n",
    "    \n",
    "    def _price_n_secs_ago(self, key, now_dt, n=5):\n",
    "        cutoff = now_dt - timedelta(seconds=n)\n",
    "        dq = self.hist.get(key)\n",
    "        if not dq: return None\n",
    "        # find the latest sample at/before cutoff\n",
    "        for t,p in reversed(dq):\n",
    "            if t <= cutoff:\n",
    "                return p\n",
    "        return None\n",
    "\n",
    "    def avg_back_odds(self, market, selection_id):\n",
    "        total_stake, weighted = 0, 0\n",
    "        for order in market.blotter:\n",
    "            if order.selection_id == selection_id and order.side == \"BACK\":\n",
    "                matched = order.size_matched\n",
    "                if matched > 0:\n",
    "                    total_stake += matched\n",
    "                    weighted += matched * order.average_price_matched\n",
    "        return weighted / total_stake if total_stake else None\n",
    "    \n",
    "    def process_market_book(self, market, market_book):\n",
    "        if not self.startdt: self.startdt = market_book.publish_time\n",
    "        elapsed = market_book.publish_time.timestamp() - self.startdt.timestamp()\n",
    "        \n",
    "        self.log.debug(f\"process_market_book: {market.event_name}, time elapse {elapsed},  publishtime:{market_book.publish_time}\")\n",
    "\n",
    "# wait until 1 hour done then hedge out\n",
    "        if elapsed > 7200:\n",
    "            self.log.debug(f\"elapsed time {elapsed} > 7200, hedging bets and return\")\n",
    "            for r in market_book.runners:\n",
    "                self.hedge_selection(r)\n",
    "                return\n",
    "                \n",
    "        now_dt = market_book.publish_time  # simulation “now”\n",
    "        \n",
    "        for r in market_book.runners:\n",
    "            key = (market.market_id, r.selection_id)\n",
    "            p = self._price_now(r)\n",
    "            if p and p < self.threshold:\n",
    "                self.hist[key].append((now_dt, p))\n",
    "                p_5s = self._price_n_secs_ago(key, now_dt, self.lookback)\n",
    "                if p_5s:\n",
    "                    delta = (p-p_5s)\n",
    "                    self.log.debug(f\"Price update: Market, selection-id:{key} price now:{p}, odds delta:{delta}, change %: {delta / p}\")\n",
    "# if odds increase by X %, then bet\n",
    "                    if delta>0 and (delta / p) > self.dev :\n",
    "                        runner_context = self.get_runner_context(market.market_id, r.selection_id, r.handicap)\n",
    "                        if runner_context.live_trade_count == 0:\n",
    "                            \n",
    "                            self.log.info(f\"big increase odds, no live trades, placing order: {r.selection_id} 5s ago : {p_5s}  now : {p}\")\n",
    "                            self.log.info(f\": {market.event_name}, time elapse {elapsed},  {market_book.publish_time}\")\n",
    "                            # back at current best lay price\n",
    "                            back = get_price(r.ex.available_to_lay, 0) \n",
    "                            # create trade\n",
    "                            trade = Trade(market_book.market_id, r.selection_id, r.handicap,\n",
    "                                self, notes={\"entry_px\": back})\n",
    "                            order = trade.create_order(side=\"BACK\", order_type=LimitOrder(back, self.context[\"stake\"]))\n",
    "                            market.place_order(order)\n",
    "                            self.log.info({\"PLACE ORDER\":market.market_id,\"price\":back,\"event_name\":market.event_name})\n",
    "\n",
    "                            \n",
    "# if profit available : hedge out at some take profit value\n",
    "                av = self.avg_back_odds(market, r.selection_id)\n",
    "                if av and (av - p) > self.take_prof_price_diff :\n",
    "                    # total matched on backs\n",
    "                    self.hedge_selection(r)\n",
    "\n",
    "    def hedge_selection(r):        \n",
    "        backs = [o for o in market.blotter if o.selection_id==r.selection_id and o.side==\"BACK\" and o.size_matched>0]\n",
    "        stake = sum(o.size_matched for o in backs)\n",
    "        best_lay = get_price(r.ex.available_to_lay, 0)\n",
    "        if not best_lay: return\n",
    "    \n",
    "        # hedge size so Pwin == Plose\n",
    "        hsize = (av*stake - stake) / best_lay\n",
    "        if hsize <= 0: return\n",
    "        self.log.info(f\"Closing risk : runner {r.selection_id}, {hsize} @ {best_lay}\")\n",
    "        trade = Trade(market.market_id, r.selection_id, r.handicap, self)\n",
    "        order = trade.create_order(\"LAY\", LimitOrder(best_lay, round(hsize,2), persistence_type=\"LAPSE\"))\n",
    "        market.place_order(order)\n",
    "\n",
    "    \n",
    "# if odd slowly increase bet more\n",
    "    \n",
    "# if further swing in odds bet more \n",
    "            \n",
    "    \n",
    "    def process_orders(self, market, orders):\n",
    "        # kill order if unmatched in market for greater than 2 seconds\n",
    "        for order in orders:\n",
    "            if order.status == OrderStatus.EXECUTABLE:\n",
    "                if order.elapsed_seconds and order.elapsed_seconds > 4:\n",
    "                     market.cancel_order(order)\n",
    "\n",
    "    def process_order(self, order):\n",
    "        # fully matched\n",
    "        if order.status == OrderStatus.EXECUTION_COMPLETE:\n",
    "            a = {\"Order fully matched\": order.selection_id,\"avg_px\":order.average_price_matched,\n",
    "                 \"size\":order.size_matched}\n",
    "            self.log.info(a)\n",
    "\n",
    "        # partially matched\n",
    "        elif order.size_matched and order.size_remaining:\n",
    "            a = {\"Partial match\":order.selection_id,\n",
    "                 \"matched\":order.size_matched,\n",
    "                 \"remaining\":order.size_remaining,\n",
    "                 \"avg_px\":order.average_price_matched}\n",
    "            self.log.info(a)\n",
    "\n",
    "    def process_closed_market(self, market, market_book):\n",
    "        self.pnl = 0.0\n",
    "        self.log.info(f\"Processing closed market: {market.event_name}, {market.market_id}\")\n",
    "        for order in market.blotter:\n",
    "            self.pnl += order.profit\n",
    "            self.log.info(f\"Order PNL {order.profit}, av size matched: {order.size_matched} av price matched: {order.average_price_matched}, date_time_created: {order.date_time_created}\")\n",
    "            \n",
    "        self.log.warning(f\"Total pnl for market:{market.event_name}, {market.market_id}, : PNL :: {self.pnl}\")\n",
    "            \n",
    "    "
   ]
  },
  {
   "cell_type": "code",
   "execution_count": 4,
   "id": "d3a943ec-261f-4574-a6d4-0e09abce1e0e",
   "metadata": {},
   "outputs": [],
   "source": [
    "markets = pd.read_csv(\"ADVeventid_marketid_AUG24.csv\")[\"path\"].tolist()"
   ]
  },
  {
   "cell_type": "code",
   "execution_count": 5,
   "id": "38d9c957-e0ab-4672-906b-cc2d217814c4",
   "metadata": {},
   "outputs": [],
   "source": [
    "def run_one_trial_drawdown_optim(max_order_exposure, max_selection_exposure, stake, threshold, dev, lookback, take_prof_price_diff):\n",
    "    def run_once(market, max_order_exposure, max_selection_exposure, stake, threshold, dev, lookback, take_prof_price_diff):\n",
    "        client = clients.SimulatedClient()\n",
    "        framework = FlumineSimulation(client=client)\n",
    "    \n",
    "        lists =[]\n",
    "        lists.append(market)\n",
    "        \n",
    "        strategy = HugoStrat(   \n",
    "            market_filter={\"markets\": lists},\n",
    "            max_order_exposure=max_order_exposure,\n",
    "            max_selection_exposure=max_selection_exposure,\n",
    "            context={\"stake\": stake},\n",
    "            threshold=threshold,\n",
    "            dev=dev,\n",
    "            lookback=lookback,\n",
    "            take_prof_price_diff=take_prof_price_diff,\n",
    "            log_root=\"./logs/backtest/\",\n",
    "            log_level=\"E\")\n",
    "    \n",
    "        framework.add_strategy(strategy)\n",
    "        framework.run()\n",
    "        pnl = getattr(strategy, \"pnl\")\n",
    "        del framework, client, strategy\n",
    "        return pnl\n",
    "\n",
    "    \n",
    "    pnls = []\n",
    "    for i in random.sample(markets, 45) :\n",
    "        pnl = run_once(i,max_order_exposure=max_order_exposure,max_selection_exposure=max_selection_exposure, stake=stake,\n",
    "                       threshold=threshold, dev=dev, lookback=lookback, take_prof_price_diff=take_prof_price_diff)\n",
    "        pnls.append(pnl)\n",
    "    return pnls\n",
    "    "
   ]
  },
  {
   "cell_type": "code",
   "execution_count": null,
   "id": "77befb1d-802f-45af-acec-fbd9280d44b4",
   "metadata": {},
   "outputs": [
    {
     "name": "stderr",
     "output_type": "stream",
     "text": [
      "[I 2025-09-13 15:10:09,329] A new study created in memory with name: no-name-fcbed096-adf7-4d30-9545-8b8459eb0da6\n",
      "[I 2025-09-13 15:12:53,820] Trial 1 finished with values: [-8.59, 14.77] and parameters: {'max_order_exposure': 190, 'max_selection_exposure': 170, 'stake': 4.0, 'max_odds_threshold': 3.212372086112194, 'odds_change_deviation_to_trigger_trade': 0.15383289837337616, 'price_lookback_duration_seconds': 6, 'odds_change_deviation_to_trigger_take_prof': 0.23890520534481374}.\n"
     ]
    },
    {
     "name": "stdout",
     "output_type": "stream",
     "text": [
      "pnls:  [0.0, 0.0, 0.0, 0.0, 0.0, 0.0, -4.0, 0.0, 0.0, 0.0, 0.0, 0.0, 0.0, 0.0, -4.0, 0.0, 0.0, 0.0, 0.18, 0.0, 0.0, 6.0, 0.0, 0.0, -2.77, 0.0, 0.0, 0.0, 0.0, 0.0, 0.0, 0.0, 0.0, 0.0, 0.0, 0.0, -4.0, 0.0, 0.0, 0.0, 0.0, 0.0, 0.0, 0.0, 0.0] \n",
      "sum: -8.59 sum losses : - 14.77\n"
     ]
    },
    {
     "name": "stderr",
     "output_type": "stream",
     "text": [
      "[I 2025-09-13 15:13:36,095] Trial 0 finished with values: [134.96000000000004, 222.17] and parameters: {'max_order_exposure': 150, 'max_selection_exposure': 110, 'stake': 2.0, 'max_odds_threshold': 6.45006419759102, 'odds_change_deviation_to_trigger_trade': 0.020988675796960884, 'price_lookback_duration_seconds': 21, 'odds_change_deviation_to_trigger_take_prof': 0.19792682475731466}.\n"
     ]
    },
    {
     "name": "stdout",
     "output_type": "stream",
     "text": [
      "pnls:  [15.190000000000005, 0.0, -4.679999999999999, -8.72, 0.2400000000000002, -25.13, -68.28, 0.0, 6.700000000000001, 24.58, 8.32, 2.58, -2.56, 0.0, 29.090000000000003, 12.749999999999996, 0.0, 1.3800000000000001, 0.24, -0.8700000000000001, 7.049999999999997, -20.369999999999997, 19.310000000000006, -0.7799999999999998, 0.0, 1.8699999999999997, 0.0, 6.8, -6.699999999999999, 41.410000000000004, 13.08, 0.0, -50.37, 0.5499999999999992, -21.54, -5.33, 34.33999999999999, 76.26000000000002, 0.17000000000000026, 7.279999999999999, 6.57, -4.9, 28.939999999999998, -1.94, 12.43] \n",
      "sum: 134.96000000000004 sum losses : - 222.17\n"
     ]
    },
    {
     "name": "stderr",
     "output_type": "stream",
     "text": [
      "[I 2025-09-13 15:15:38,559] Trial 2 finished with values: [-391.06, 429.62] and parameters: {'max_order_exposure': 125, 'max_selection_exposure': 190, 'stake': 5.0, 'max_odds_threshold': 17.300379626598293, 'odds_change_deviation_to_trigger_trade': 0.05826890431498843, 'price_lookback_duration_seconds': 17, 'odds_change_deviation_to_trigger_take_prof': 0.3008082970417152}.\n"
     ]
    },
    {
     "name": "stdout",
     "output_type": "stream",
     "text": [
      "pnls:  [-68.28, -3.75, 0.0, 0.0, 0.0, -5.09, 0.0, -1.5, -16.47, -6.51, -0.7000000000000002, -20.36, -15.350000000000001, 0.0, -1.45, 5.35, -1.1400000000000001, -0.43000000000000327, 0.0, -36.8, -59.83, 0.0, 2.75, 0.0, -12.18, -0.14, -6.399999999999998, 0.0, 0.71, -13.25, 0.0, 0.0, -28.869999999999997, -5.0, -12.799999999999995, -9.23, 13.45, 0.0, -21.189999999999998, -27.0, 16.3, -5.99, -3.2900000000000005, -3.47, -43.15] \n",
      "sum: -391.06 sum losses : - 429.62\n"
     ]
    },
    {
     "name": "stderr",
     "output_type": "stream",
     "text": [
      "[I 2025-09-13 15:16:52,074] Trial 3 finished with values: [102.34, 73.58] and parameters: {'max_order_exposure': 40, 'max_selection_exposure': 160, 'stake': 8.0, 'max_odds_threshold': 1.610733343905984, 'odds_change_deviation_to_trigger_trade': 0.036806399408241305, 'price_lookback_duration_seconds': 6, 'odds_change_deviation_to_trigger_take_prof': 0.09530417241592824}.\n"
     ]
    },
    {
     "name": "stdout",
     "output_type": "stream",
     "text": [
      "pnls:  [7.6, 0.0, 0.0, -10.24, -8.0, 27.29, -8.0, 0.0, 2.56, 15.840000000000002, 0.0, 15.12, 0.0, 0.01, 24.16, 0.0, 0.0, 0.0, 0.0, -8.0, 0.0, 0.0, 0.0, 4.08, 0.0, 0.0, 16.64, 9.919999999999998, 17.12, 0.58, 0.0, 0.0, -15.2, 4.24, 2.24, 0.0, -16.14, 0.0, 0.0, 3.03, 20.32, 2.16, -8.0, 3.01, 0.0] \n",
      "sum: 102.34 sum losses : - 73.58\n"
     ]
    },
    {
     "name": "stderr",
     "output_type": "stream",
     "text": [
      "[I 2025-09-13 15:19:16,860] Trial 4 finished with values: [-308.48, 698.0600000000001] and parameters: {'max_order_exposure': 160, 'max_selection_exposure': 150, 'stake': 8.0, 'max_odds_threshold': 7.331695203223062, 'odds_change_deviation_to_trigger_trade': 0.007888578281088708, 'price_lookback_duration_seconds': 13, 'odds_change_deviation_to_trigger_take_prof': 0.2925482349113186}.\n"
     ]
    },
    {
     "name": "stdout",
     "output_type": "stream",
     "text": [
      "pnls:  [-21.939999999999998, 0.0, 0.0, -2.339999999999999, -17.919999999999973, 0.0, -4.560000000000002, -59.800000000000004, 7.35, -12.850000000000001, -5.459999999999992, -37.71000000000001, -25.12, -64.76, 16.970000000000006, 0.0, 6.710000000000001, 7.879999999999998, -8.230000000000011, -3.3599999999999994, 18.92, 20.660000000000004, 29.02000000000001, 6.619999999999999, -57.870000000000005, -52.24, 0.0, 0.0, -8.340000000000002, 3.45, 24.580000000000005, 1.8000000000000007, 23.989999999999995, 17.69999999999999, 34.46, -78.75000000000001, 0.0, 16.43, -79.89000000000001, 3.2700000000000005, 38.11, -100.82999999999998, -56.09, 111.66, 0.0] \n",
      "sum: -308.48 sum losses : - 698.0600000000001\n"
     ]
    },
    {
     "name": "stderr",
     "output_type": "stream",
     "text": [
      "[I 2025-09-13 15:20:38,716] Trial 5 finished with values: [205.14, 160.16] and parameters: {'max_order_exposure': 165, 'max_selection_exposure': 30, 'stake': 3.0, 'max_odds_threshold': 13.728590885441367, 'odds_change_deviation_to_trigger_trade': 0.007178856520514159, 'price_lookback_duration_seconds': 16, 'odds_change_deviation_to_trigger_take_prof': 0.26786529123408104}.\n"
     ]
    },
    {
     "name": "stdout",
     "output_type": "stream",
     "text": [
      "pnls:  [4.170000000000002, -0.029999999999999805, 0.40000000000000124, -8.309999999999999, -28.669999999999998, 3.03, -8.380000000000003, -13.780000000000001, -1.4299999999999997, 0.0, 0.8399999999999999, 17.869999999999997, -7.010000000000003, -3.1100000000000017, 122.97, 8.129999999999999, -5.449999999999999, 6.84, 0.0, -0.9600000000000026, 0.0, 15.14, 9.029999999999998, 6.910000000000001, 1.08, 4.380000000000003, 0.0, -8.18, -2.110000000000001, 45.51999999999999, -18.42, 86.42999999999999, -6.909999999999999, -6.709999999999997, -0.38, 10.260000000000002, -9.0, 0.0, 0.0, 1.39, -25.32, 5.4399999999999995, -6.0, 7.83, 7.640000000000001] \n",
      "sum: 205.14 sum losses : - 160.16\n"
     ]
    },
    {
     "name": "stderr",
     "output_type": "stream",
     "text": [
      "[I 2025-09-13 15:22:07,373] Trial 6 finished with values: [-13.13, 28.88] and parameters: {'max_order_exposure': 40, 'max_selection_exposure': 120, 'stake': 1.0, 'max_odds_threshold': 12.98075831736601, 'odds_change_deviation_to_trigger_trade': 0.1878235070359515, 'price_lookback_duration_seconds': 28, 'odds_change_deviation_to_trigger_take_prof': 0.25841963641203636}.\n"
     ]
    },
    {
     "name": "stdout",
     "output_type": "stream",
     "text": [
      "pnls:  [0.0, -2.95, 7.02, 0.0, 0.0, -4.0, -2.0, 0.0, 3.4, 0.0, 0.0, 0.0, -8.26, 0.0, 0.0, -2.0, 0.0, 0.0, 0.0, 0.0, -1.0, 0.0, 0.0, 1.3, 0.0, 0.0, 0.0, 0.0, 0.0, 0.0, 1.06, -0.07, 0.0, -5.0, 0.0, 0.0, 0.0, 0.0, -1.54, -1.0, 0.0, 2.9699999999999998, -1.0599999999999996, 0.0, 0.0] \n",
      "sum: -13.13 sum losses : - 28.88\n"
     ]
    },
    {
     "name": "stderr",
     "output_type": "stream",
     "text": [
      "[I 2025-09-13 15:23:21,228] Trial 7 finished with values: [-41.599999999999945, 603.3199999999999] and parameters: {'max_order_exposure': 200, 'max_selection_exposure': 100, 'stake': 6.0, 'max_odds_threshold': 1.8620861317051791, 'odds_change_deviation_to_trigger_trade': 0.020183238532332216, 'price_lookback_duration_seconds': 26, 'odds_change_deviation_to_trigger_take_prof': 0.06886493707803996}.\n"
     ]
    },
    {
     "name": "stdout",
     "output_type": "stream",
     "text": [
      "pnls:  [10.1, -47.819999999999986, -32.3, 73.36, -13.56, 39.000000000000014, -33.36999999999999, -24.720000000000006, 66.96000000000001, 0.0, -9.46, -7.22, 0.0, 67.35, -27.65, -57.17999999999998, -3.54, 0.0, 0.04, 46.44, -50.879999999999995, -79.05, 2.4099999999999997, -81.42, 0.0, 7.630000000000001, 65.24, 0.52, 51.35000000000001, -0.120000000000001, 9.079999999999998, 0.0, 0.0, 0.07, 37.32, -6.0, 7.17, 24.229999999999997, -30.25999999999999, -98.77000000000001, 0.0, 38.44, 12.24, 0.72, 2.0500000000000003] \n",
      "sum: -41.599999999999945 sum losses : - 603.3199999999999\n"
     ]
    },
    {
     "name": "stderr",
     "output_type": "stream",
     "text": [
      "[I 2025-09-13 15:24:41,417] Trial 8 finished with values: [-239.99, 261.1] and parameters: {'max_order_exposure': 145, 'max_selection_exposure': 70, 'stake': 7.0, 'max_odds_threshold': 12.79289573224904, 'odds_change_deviation_to_trigger_trade': 0.07314090421113367, 'price_lookback_duration_seconds': 2, 'odds_change_deviation_to_trigger_take_prof': 0.9850706208723358}.\n"
     ]
    },
    {
     "name": "stdout",
     "output_type": "stream",
     "text": [
      "pnls:  [0.0, -8.18, 13.76, 0.0, 0.0, -1.95, -1.56, -12.259999999999998, -23.66, 0.0, -0.07, 0.0, -7.0, 0.0, 0.0, 0.0, -13.62, 0.0, 0.0, -37.720000000000006, -28.31, 0.0, 0.0, -7.0, -0.25, 6.09, -6.51, -5.8999999999999995, -5.37, 0.0, -12.07, 0.0, 1.26, 0.0, -4.24, 0.0, 0.0, 0.0, 0.0, -11.82, -40.09, 0.0, 0.0, 0.0, -33.519999999999996] \n",
      "sum: -239.99 sum losses : - 261.1\n"
     ]
    },
    {
     "name": "stderr",
     "output_type": "stream",
     "text": [
      "[I 2025-09-13 15:25:55,825] Trial 9 finished with values: [-158.68, 203.76] and parameters: {'max_order_exposure': 185, 'max_selection_exposure': 160, 'stake': 9.0, 'max_odds_threshold': 17.869746834339107, 'odds_change_deviation_to_trigger_trade': 0.1573390928748785, 'price_lookback_duration_seconds': 10, 'odds_change_deviation_to_trigger_take_prof': 0.2253296177113737}.\n"
     ]
    },
    {
     "name": "stdout",
     "output_type": "stream",
     "text": [
      "pnls:  [0.0, 23.04, -9.0, -18.0, 0.0, -10.729999999999999, 0.0, -45.92, -5.12, -39.17, 0.0, 0.0, 0.0, 0.0, 0.0, 0.0, -1.5, 0.0, 0.0, 0.0, 0.0, 0.0, -8.3, -0.05, 0.0, -3.02, -9.0, 0.0, 0.0, 0.0, 0.0, 0.0, 0.0, 0.0, 0.0, -39.82, 0.0, 0.0, 6.92, -9.0, 0.0, 0.0, -5.13, 15.12, 0.0] \n",
      "sum: -158.68 sum losses : - 203.76\n"
     ]
    },
    {
     "name": "stderr",
     "output_type": "stream",
     "text": [
      "[I 2025-09-13 15:27:59,261] Trial 10 finished with values: [178.47000000000003, 144.10999999999999] and parameters: {'max_order_exposure': 30, 'max_selection_exposure': 170, 'stake': 3.0, 'max_odds_threshold': 5.127954060470222, 'odds_change_deviation_to_trigger_trade': 0.07491370666640622, 'price_lookback_duration_seconds': 16, 'odds_change_deviation_to_trigger_take_prof': 0.05182137524073478}.\n"
     ]
    },
    {
     "name": "stdout",
     "output_type": "stream",
     "text": [
      "pnls:  [-3.09, 12.04, 2.58, -6.45, 0.0, 0.0, 21.09, 0.0, -7.68, 79.63000000000001, 28.56, 0.0, -4.06, 0.0, -4.5, 39.0, 0.0, 8.25, -3.0, 0.0, 0.0, 0.0, 0.0, -6.9, -11.75, 0.0, 11.15, 0.0, 92.52, 0.0, 0.0, 18.07, -12.0, -17.27, -33.62999999999999, 2.61, -6.6899999999999995, 0.0, -0.5100000000000002, 7.08, -7.65, 0.0, 0.0, -15.61, -3.32] \n",
      "sum: 178.47000000000003 sum losses : - 144.10999999999999\n"
     ]
    },
    {
     "name": "stderr",
     "output_type": "stream",
     "text": [
      "[I 2025-09-13 15:28:55,801] Trial 11 finished with values: [113.64999999999999, 434.3] and parameters: {'max_order_exposure': 200, 'max_selection_exposure': 100, 'stake': 9.0, 'max_odds_threshold': 7.784837787504579, 'odds_change_deviation_to_trigger_trade': 0.006101272533313021, 'price_lookback_duration_seconds': 3, 'odds_change_deviation_to_trigger_take_prof': 0.11693598821624407}.\n"
     ]
    },
    {
     "name": "stdout",
     "output_type": "stream",
     "text": [
      "pnls:  [-43.870000000000005, 124.07000000000001, 16.919999999999998, 35.190000000000005, 9.649999999999995, 50.04, 0.0, 10.729999999999999, -17.750000000000004, -19.21999999999999, 0.18, -42.85, -21.81, 36.1, -38.85000000000001, 22.49, 27.88, -22.04, 5.4399999999999995, -7.87, 1.19, 25.490000000000002, 0.9200000000000004, -6.380000000000001, -2.770000000000006, -26.01, 0.0, 0.0, -20.49, -19.22, 0.0, 16.29, 12.340000000000002, -10.789999999999994, 17.52, 85.65, -30.580000000000016, 0.41000000000000014, 0.0, 49.44999999999999, -59.17999999999999, 0.0, 0.0, -44.62, 0.0] \n",
      "sum: 113.64999999999999 sum losses : - 434.3\n"
     ]
    },
    {
     "name": "stderr",
     "output_type": "stream",
     "text": [
      "[I 2025-09-13 15:31:03,442] Trial 12 finished with values: [-63.58000000000004, 797.54] and parameters: {'max_order_exposure': 180, 'max_selection_exposure': 170, 'stake': 10.0, 'max_odds_threshold': 9.196677808365529, 'odds_change_deviation_to_trigger_trade': 0.045321193968381794, 'price_lookback_duration_seconds': 19, 'odds_change_deviation_to_trigger_take_prof': 0.06396383817812093}.\n"
     ]
    },
    {
     "name": "stdout",
     "output_type": "stream",
     "text": [
      "pnls:  [1.15, -45.74999999999999, -91.50000000000001, -5.300000000000001, 114.52, 35.43, -133.54000000000002, 1.06, 6.24, 149.1, 1.16, 0.0, 0.0, -25.34, 46.209999999999994, 0.0, 143.82, 8.899999999999999, -11.18, -74.9, 0.0, -55.05, 20.460000000000004, -0.2, -7.88, -51.26, -2.8400000000000003, -0.09, -0.07, 0.0, -0.23, 0.0, 0.0, 64.3, -72.64999999999999, -154.9, 6.14, 134.23, -5.159999999999999, -0.66, 0.0, 1.2399999999999998, -31.569999999999986, -27.47, 0.0] \n",
      "sum: -63.58000000000004 sum losses : - 797.54\n"
     ]
    },
    {
     "name": "stderr",
     "output_type": "stream",
     "text": [
      "[I 2025-09-13 15:31:56,889] Trial 13 finished with values: [-279.71999999999997, 389.41999999999996] and parameters: {'max_order_exposure': 85, 'max_selection_exposure': 40, 'stake': 8.0, 'max_odds_threshold': 10.200940188642793, 'odds_change_deviation_to_trigger_trade': 0.06633181123868617, 'price_lookback_duration_seconds': 25, 'odds_change_deviation_to_trigger_take_prof': 0.022487374562767403}.\n"
     ]
    },
    {
     "name": "stdout",
     "output_type": "stream",
     "text": [
      "pnls:  [0.0, 20.110000000000003, 18.87, -0.5, 5.44, 0.0, -16.05, 0.0, -8.0, -32.4, 0.0, 0.0, 0.0, 8.8, -38.56, -3.46, 0.0, 0.0, -16.97, -39.98, -26.0, -8.0, 3.95, 0.0, 17.729999999999997, 0.0, 0.0, 0.0, -0.2699999999999996, 0.0, -1.61, 0.0, -8.0, -22.31, 0.0, -31.219999999999995, 34.800000000000004, -29.66, -22.47, -34.3, -0.08999999999999986, -9.57, 0.0, 0.0, -40.0] \n",
      "sum: -279.71999999999997 sum losses : - 389.41999999999996\n"
     ]
    },
    {
     "name": "stderr",
     "output_type": "stream",
     "text": [
      "[I 2025-09-13 15:33:43,541] Trial 14 finished with values: [-93.07000000000001, 272.99] and parameters: {'max_order_exposure': 80, 'max_selection_exposure': 40, 'stake': 7.0, 'max_odds_threshold': 14.062572273124234, 'odds_change_deviation_to_trigger_trade': 0.010141480304777102, 'price_lookback_duration_seconds': 28, 'odds_change_deviation_to_trigger_take_prof': 0.07652571267391034}.\n"
     ]
    },
    {
     "name": "stdout",
     "output_type": "stream",
     "text": [
      "pnls:  [-10.46, -4.77, -9.31, -1.1499999999999968, 1.21, -35.519999999999996, 0.0, -1.3299999999999983, 0.0, -4.17, 2.51, -9.229999999999997, -25.300000000000004, 11.179999999999998, -9.35, 1.2299999999999969, 5.590000000000002, 1.8100000000000005, -14.939999999999998, 0.0, 0.5599999999999987, -7.280000000000001, -9.459999999999999, 0.700000000000002, 55.61999999999999, 2.039999999999999, 10.010000000000002, 11.39, 2.9099999999999997, 8.67, -2.33, -30.000000000000004, -0.3500000000000014, -38.07, 0.0, 18.41, -14.52, -9.450000000000001, 0.0, 9.349999999999998, 9.489999999999998, 12.5, 7.1000000000000005, -36.0, 7.64] \n",
      "sum: -93.07000000000001 sum losses : - 272.99\n"
     ]
    },
    {
     "name": "stderr",
     "output_type": "stream",
     "text": [
      "[I 2025-09-13 15:34:46,732] Trial 15 finished with values: [-53.64, 134.9] and parameters: {'max_order_exposure': 110, 'max_selection_exposure': 70, 'stake': 3.0, 'max_odds_threshold': 12.726199817595708, 'odds_change_deviation_to_trigger_trade': 0.06442174769241264, 'price_lookback_duration_seconds': 13, 'odds_change_deviation_to_trigger_take_prof': 0.949760985107222}.\n"
     ]
    },
    {
     "name": "stdout",
     "output_type": "stream",
     "text": [
      "pnls:  [0.0, -19.36, -0.41, -5.6499999999999995, -12.34, 0.0, 0.0, 2.01, 38.2, 0.0, 0.0, 0.0, -27.790000000000003, 0.18, 0.0, 0.0, 0.0, -5.15, 1.7900000000000003, 7.320000000000001, -3.0, 4.14, -2.73, 0.0, 0.0, -2.27, 0.0, -2.6899999999999986, 0.0, -5.56, -6.0, -0.05, 0.0, 0.0, 0.0, 13.32, 6.0, 0.0, 6.419999999999999, -12.67, 1.88, 0.0, -3.7100000000000013, -1.91, -23.61] \n",
      "sum: -53.64 sum losses : - 134.9\n"
     ]
    },
    {
     "name": "stderr",
     "output_type": "stream",
     "text": [
      "[I 2025-09-13 15:36:46,456] Trial 16 finished with values: [-252.66000000000003, 794.4] and parameters: {'max_order_exposure': 150, 'max_selection_exposure': 180, 'stake': 9.0, 'max_odds_threshold': 6.380687918128324, 'odds_change_deviation_to_trigger_trade': 0.02847370858231189, 'price_lookback_duration_seconds': 10, 'odds_change_deviation_to_trigger_take_prof': 0.10105627615214575}.\n"
     ]
    },
    {
     "name": "stdout",
     "output_type": "stream",
     "text": [
      "pnls:  [-5.710000000000002, -3.0900000000000007, -9.0, 3.480000000000002, 0.0, 21.42, -18.439999999999998, 212.34, -58.45000000000002, 0.0, 53.27999999999999, -2.55, -55.11, 0.01, 63.39999999999999, -8.46, -7.33, 17.89, 3.06, -126.96000000000001, -35.74999999999997, -6.32, 7.0600000000000005, 49.06000000000001, 0.0, 11.530000000000001, -14.32, -0.19999999999999998, 37.849999999999994, -0.48000000000000004, 31.64, -118.57999999999998, 22.159999999999997, -135.39000000000001, -31.03, -16.089999999999996, 3.6, 0.0, 0.0, -49.89000000000001, -39.92, 3.96, -16.19, -11.31, -23.83] \n",
      "sum: -252.66000000000003 sum losses : - 794.4\n"
     ]
    },
    {
     "name": "stderr",
     "output_type": "stream",
     "text": [
      "[I 2025-09-13 15:37:56,607] Trial 17 finished with values: [186.54999999999998, 208.15] and parameters: {'max_order_exposure': 90, 'max_selection_exposure': 30, 'stake': 7.0, 'max_odds_threshold': 19.900569002618745, 'odds_change_deviation_to_trigger_trade': 0.0109262661618359, 'price_lookback_duration_seconds': 25, 'odds_change_deviation_to_trigger_take_prof': 0.08089153052493536}.\n"
     ]
    },
    {
     "name": "stdout",
     "output_type": "stream",
     "text": [
      "pnls:  [-10.84, -29.47, -10.47, 6.0200000000000005, 8.21, -21.84, 6.800000000000001, -10.689999999999998, 0.0, 108.50999999999999, 21.25, 2.020000000000002, -11.350000000000001, 1.3999999999999986, -12.319999999999999, 0.0, -10.41, 11.66, 13.989999999999998, 5.510000000000002, 0.0, 2.32, -18.47, 62.050000000000004, 22.32, 1.06, 6.3, 23.38, -3.6300000000000003, -6.489999999999999, -8.640000000000004, 0.0, -9.360000000000001, 2.75, 23.189999999999998, -13.35, -10.409999999999997, -13.07, 15.16, 0.0, 23.16, 16.130000000000003, 5.33, 6.179999999999998, -7.340000000000002] \n",
      "sum: 186.54999999999998 sum losses : - 208.15\n"
     ]
    },
    {
     "name": "stderr",
     "output_type": "stream",
     "text": [
      "[I 2025-09-13 15:39:56,571] Trial 18 finished with values: [-221.25, 308.34000000000003] and parameters: {'max_order_exposure': 65, 'max_selection_exposure': 80, 'stake': 4.0, 'max_odds_threshold': 9.369904852070297, 'odds_change_deviation_to_trigger_trade': 0.0475681525543221, 'price_lookback_duration_seconds': 13, 'odds_change_deviation_to_trigger_take_prof': 0.04160157491614067}.\n"
     ]
    },
    {
     "name": "stdout",
     "output_type": "stream",
     "text": [
      "pnls:  [-54.61, 5.6, 3.06, -11.59, -37.209999999999994, -0.67, 5.350000000000003, 1.08, 2.8, 0.5, 12.34, 1.92, -21.77, 0.0, -2.4299999999999997, 6.069999999999999, -7.7399999999999975, 0.0, -3.5199999999999996, -3.0700000000000025, 0.0, -71.64000000000001, -18.340000000000003, 1.7699999999999996, 0.0, 2.72, 0.0, -0.28, 2.8, 3.5600000000000005, 0.0, -3.28, -8.0, 0.0, -48.519999999999996, 22.0, -4.0, -3.31, 0.0, 1.76, 0.0, 8.24, -8.36, 5.52, 0.0] \n",
      "sum: -221.25 sum losses : - 308.34000000000003\n"
     ]
    },
    {
     "name": "stderr",
     "output_type": "stream",
     "text": [
      "[I 2025-09-13 15:41:33,733] Trial 19 finished with values: [-13.979999999999988, 206.07] and parameters: {'max_order_exposure': 145, 'max_selection_exposure': 50, 'stake': 1.0, 'max_odds_threshold': 17.7846063661835, 'odds_change_deviation_to_trigger_trade': 0.009277864680376615, 'price_lookback_duration_seconds': 14, 'odds_change_deviation_to_trigger_take_prof': 0.5417759071692994}.\n"
     ]
    },
    {
     "name": "stdout",
     "output_type": "stream",
     "text": [
      "pnls:  [0.0, 3.8400000000000003, -7.069999999999999, 2.57, -11.250000000000002, -3.0, -32.370000000000005, -3.4400000000000004, 1.2299999999999989, -34.050000000000004, 1.15, -4.14, -1.3199999999999998, 7.440000000000006, -7.18, 0.0, -0.09, 10.869999999999997, 60.36, 0.0, 2.7300000000000004, -2.78, -4.989999999999998, 5.390000000000001, 0.0, 3.4899999999999998, 0.0, -23.48, 7.5, -3.86, -0.6, 2.780000000000002, -2.58, 0.8600000000000001, -40.859999999999985, -21.220000000000006, 2.58, 2.940000000000001, 2.56, 1.38, 0.8000000000000029, 2.389999999999999, 26.07, -1.79, 43.160000000000004] \n",
      "sum: -13.979999999999988 sum losses : - 206.07\n"
     ]
    },
    {
     "name": "stderr",
     "output_type": "stream",
     "text": [
      "[I 2025-09-13 15:42:41,787] Trial 20 finished with values: [69.27, 291.78999999999996] and parameters: {'max_order_exposure': 25, 'max_selection_exposure': 130, 'stake': 5.0, 'max_odds_threshold': 16.4584129682421, 'odds_change_deviation_to_trigger_trade': 0.04025198179945776, 'price_lookback_duration_seconds': 27, 'odds_change_deviation_to_trigger_take_prof': 0.7815941702346563}.\n"
     ]
    },
    {
     "name": "stdout",
     "output_type": "stream",
     "text": [
      "pnls:  [-27.05999999999998, 0.0, 45.86, -6.949999999999999, -0.6400000000000001, 0.0, 40.519999999999996, 0.0, -29.13, -0.78, 19.16, 0.0, -15.059999999999997, 12.019999999999996, -10.000000000000014, -0.5800000000000001, 0.0, -28.32, -18.72, -25.25, -8.58, -1.6800000000000002, -11.41, -5.0, -2.4299999999999997, 1.25, 0.0, 2.52, 0.0, 11.05, -10.0, -2.07, -0.11, 0.0, -12.44, 4.35, 2.78, -17.379999999999995, 7.65, 209.07999999999998, 0.0, 2.670000000000001, -58.199999999999996, 0.0, 2.15] \n",
      "sum: 69.27 sum losses : - 291.78999999999996\n"
     ]
    },
    {
     "name": "stderr",
     "output_type": "stream",
     "text": [
      "[I 2025-09-13 15:44:14,688] Trial 21 finished with values: [-22.630000000000003, 96.71] and parameters: {'max_order_exposure': 90, 'max_selection_exposure': 50, 'stake': 7.0, 'max_odds_threshold': 8.018337080442183, 'odds_change_deviation_to_trigger_trade': 0.10094288109515005, 'price_lookback_duration_seconds': 5, 'odds_change_deviation_to_trigger_take_prof': 0.04783225263609229}.\n"
     ]
    },
    {
     "name": "stdout",
     "output_type": "stream",
     "text": [
      "pnls:  [5.3500000000000005, -7.33, 0.0, 0.0, -28.599999999999998, 28.52, 0.0, 18.409999999999997, 0.4, 0.3200000000000003, -3.32, 0.0, 0.0, 0.0, 0.0, 15.819999999999999, 0.0, 0.0, 0.0, 0.0, 0.0, -1.95, 0.0, -0.79, -7.0, 0.0, -19.98, 0.0, 0.0, 0.0, -1.5, 1.96, 0.0, 0.0, 0.0, 0.0, -3.11, 0.0, -14.0, 0.0, 0.0, 0.0, 0.48999999999999977, 2.81, -9.129999999999999] \n",
      "sum: -22.630000000000003 sum losses : - 96.71\n"
     ]
    },
    {
     "name": "stderr",
     "output_type": "stream",
     "text": [
      "[I 2025-09-13 15:45:07,530] Trial 22 finished with values: [-37.2, 42.62] and parameters: {'max_order_exposure': 105, 'max_selection_exposure': 150, 'stake': 2.0, 'max_odds_threshold': 18.668867392095798, 'odds_change_deviation_to_trigger_trade': 0.14395836662170972, 'price_lookback_duration_seconds': 6, 'odds_change_deviation_to_trigger_take_prof': 0.03892193073672046}.\n"
     ]
    },
    {
     "name": "stdout",
     "output_type": "stream",
     "text": [
      "pnls:  [0.0, 0.0, 0.0, 1.22, 0.0, 0.0, 0.0, 0.0, 0.0, 0.0, -2.62, 0.0, 0.0, 0.0, -3.84, 0.0, 0.0, 0.0, 0.0, 0.0, -0.09, 0.0, 0.0, 1.72, 0.0, 0.0, -6.0, 0.0, 0.0, 0.0, 0.0, 0.0, -5.0, 2.48, 0.0, 0.0, 0.0, -4.0, -8.5, 0.0, -0.57, 0.0, 0.0, 0.0, -12.0] \n",
      "sum: -37.2 sum losses : - 42.62\n"
     ]
    },
    {
     "name": "stderr",
     "output_type": "stream",
     "text": [
      "[I 2025-09-13 15:47:14,681] Trial 23 finished with values: [-207.41999999999996, 609.7299999999999] and parameters: {'max_order_exposure': 165, 'max_selection_exposure': 140, 'stake': 10.0, 'max_odds_threshold': 8.233196436114927, 'odds_change_deviation_to_trigger_trade': 0.04907058074574071, 'price_lookback_duration_seconds': 7, 'odds_change_deviation_to_trigger_take_prof': 0.8943599908383986}.\n"
     ]
    },
    {
     "name": "stdout",
     "output_type": "stream",
     "text": [
      "pnls:  [-9.24, -13.229999999999997, -8.870000000000001, 0.0, -82.49999999999999, 0.0, 0.0, 0.0, -9.45, 16.91, 0.0, -2.55, 0.0, 0.0, -4.629999999999999, 0.0, 6.260000000000002, 16.729999999999986, -4.32, -10.0, 0.58, -94.55999999999999, -52.819999999999986, 0.0, 13.0, 0.0, 0.0, -93.58, 0.0, 18.94, -14.64, -37.6, 70.03999999999999, -33.379999999999995, 0.0, -10.0, 0.0, 0.0, -6.11, -10.0, -9.6, -13.59, 259.85, -89.06, 0.0] \n",
      "sum: -207.41999999999996 sum losses : - 609.7299999999999\n"
     ]
    },
    {
     "name": "stderr",
     "output_type": "stream",
     "text": [
      "[I 2025-09-13 15:48:27,428] Trial 24 finished with values: [-102.81999999999998, 508.84] and parameters: {'max_order_exposure': 195, 'max_selection_exposure': 90, 'stake': 10.0, 'max_odds_threshold': 5.24797482289338, 'odds_change_deviation_to_trigger_trade': 0.009101108333589436, 'price_lookback_duration_seconds': 24, 'odds_change_deviation_to_trigger_take_prof': 0.4322838695596277}.\n"
     ]
    },
    {
     "name": "stdout",
     "output_type": "stream",
     "text": [
      "pnls:  [0.0, 13.850000000000001, -0.41000000000000014, -8.420000000000002, 8.739999999999998, -90.0, 47.86000000000001, -1.3800000000000012, 50.63, 0.0, 11.830000000000005, 14.11, 0.0, -15.119999999999996, 18.98, 5.8, -4.760000000000001, -2.2, 47.94, 21.499999999999996, 32.54, 0.0, -17.43, 22.9, 37.84000000000001, -30.879999999999995, 37.46, -25.97, -41.400000000000006, 7.27, -25.88, -45.25, -15.1, 3.4, 14.610000000000001, 0.0, -1.1399999999999992, -10.35, -27.499999999999993, -11.880000000000004, 8.76, -4.58, -19.35, -54.26, -55.58] \n",
      "sum: -102.81999999999998 sum losses : - 508.84\n"
     ]
    },
    {
     "name": "stderr",
     "output_type": "stream",
     "text": [
      "[I 2025-09-13 15:50:27,474] Trial 25 finished with values: [224.64000000000004, 290.09999999999997] and parameters: {'max_order_exposure': 60, 'max_selection_exposure': 150, 'stake': 2.0, 'max_odds_threshold': 14.349904548506677, 'odds_change_deviation_to_trigger_trade': 0.014379304808363682, 'price_lookback_duration_seconds': 9, 'odds_change_deviation_to_trigger_take_prof': 0.759176601133651}.\n"
     ]
    },
    {
     "name": "stdout",
     "output_type": "stream",
     "text": [
      "pnls:  [0.0, -1.25, 2.9499999999999975, 0.0, -0.77, -66.00000000000001, 0.0, -3.1399999999999997, 3.3, 0.0, -1.71, -2.479999999999999, -4.78, 115.88999999999999, -2.1199999999999997, 3.6800000000000006, -22.959999999999994, -12.989999999999997, -1.9100000000000001, -18.129999999999992, 2.289999999999998, 0.0, 81.23, -10.78, 0.0, -49.13999999999999, -3.5300000000000002, 4.22, 2.25, 2.9200000000000013, -45.10000000000001, -0.78, 234.21000000000004, 7.2, 9.899999999999999, 0.0, 37.300000000000004, 4.069999999999997, 3.31, -9.58, 0.0, -2.0, 0.02, 0.0, -30.949999999999996] \n",
      "sum: 224.64000000000004 sum losses : - 290.09999999999997\n"
     ]
    },
    {
     "name": "stderr",
     "output_type": "stream",
     "text": [
      "[I 2025-09-13 15:51:34,454] Trial 26 finished with values: [0.0, 0.0] and parameters: {'max_order_exposure': 5, 'max_selection_exposure': 20, 'stake': 8.0, 'max_odds_threshold': 17.707136865516315, 'odds_change_deviation_to_trigger_trade': 0.14970606608673215, 'price_lookback_duration_seconds': 15, 'odds_change_deviation_to_trigger_take_prof': 0.33187002352262035}.\n"
     ]
    },
    {
     "name": "stdout",
     "output_type": "stream",
     "text": [
      "pnls:  [0.0, 0.0, 0.0, 0.0, 0.0, 0.0, 0.0, 0.0, 0.0, 0.0, 0.0, 0.0, 0.0, 0.0, 0.0, 0.0, 0.0, 0.0, 0.0, 0.0, 0.0, 0.0, 0.0, 0.0, 0.0, 0.0, 0.0, 0.0, 0.0, 0.0, 0.0, 0.0, 0.0, 0.0, 0.0, 0.0, 0.0, 0.0, 0.0, 0.0, 0.0, 0.0, 0.0, 0.0, 0.0] \n",
      "sum: 0.0 sum losses : - 0.0\n"
     ]
    },
    {
     "name": "stderr",
     "output_type": "stream",
     "text": [
      "[I 2025-09-13 15:54:07,684] Trial 27 finished with values: [45.169999999999995, 397.21000000000004] and parameters: {'max_order_exposure': 170, 'max_selection_exposure': 170, 'stake': 1.0, 'max_odds_threshold': 6.863540109802222, 'odds_change_deviation_to_trigger_trade': 0.005717088616835215, 'price_lookback_duration_seconds': 6, 'odds_change_deviation_to_trigger_take_prof': 0.021049271900721287}.\n"
     ]
    },
    {
     "name": "stdout",
     "output_type": "stream",
     "text": [
      "pnls:  [-16.150000000000002, 0.26, 70.95, 0.0, -0.9799999999999999, 39.88, 61.62999999999998, -3.79, 0.0, -61.57, 0.0, 30.140000000000008, -0.12, 0.0, 0.22, 8.420000000000002, 3.1300000000000003, -2.3100000000000005, -1.4699999999999998, -1.5999999999999996, 0.16999999999999935, 0.18000000000000016, 54.55000000000001, 35.52, 0.47, 2.1399999999999997, -6.79, -24.869999999999997, -11.410000000000007, 0.0, 15.620000000000001, 5.249999999999999, -8.51, -58.47, 40.71000000000001, -1.63, -68.72, -1.9700000000000004, 1.29, 2.7800000000000002, 59.86999999999998, -1.0, 9.200000000000001, -3.23, -122.62] \n",
      "sum: 45.169999999999995 sum losses : - 397.21000000000004\n"
     ]
    },
    {
     "name": "stderr",
     "output_type": "stream",
     "text": [
      "[I 2025-09-13 15:54:41,491] Trial 28 finished with values: [-55.35999999999999, 133.45] and parameters: {'max_order_exposure': 95, 'max_selection_exposure': 90, 'stake': 2.0, 'max_odds_threshold': 13.732416060185576, 'odds_change_deviation_to_trigger_trade': 0.05722170929743804, 'price_lookback_duration_seconds': 10, 'odds_change_deviation_to_trigger_take_prof': 0.19147080999125882}.\n"
     ]
    },
    {
     "name": "stdout",
     "output_type": "stream",
     "text": [
      "pnls:  [0.0, 0.0, -4.0, -2.0, 0.0, 0.0, 0.0, 0.0, 6.2, 19.22, 0.0, 0.0, 0.0, -0.11, -10.0, 1.44, 0.0, 0.9799999999999999, 0.0, 0.81, 0.0, -9.43, -28.779999999999998, 0.0, -0.25, -3.7800000000000002, 7.58, 5.0, -2.0300000000000002, 1.9, -3.93, -19.43, 8.41, -2.0, -4.01, 0.0, -3.2399999999999998, 2.51, 0.0, -17.0, 14.020000000000003, 1.16, -15.26, -8.2, 8.860000000000001] \n",
      "sum: -55.35999999999999 sum losses : - 133.45\n"
     ]
    },
    {
     "name": "stderr",
     "output_type": "stream",
     "text": [
      "[I 2025-09-13 15:56:45,067] Trial 29 finished with values: [-20.45, 39.839999999999996] and parameters: {'max_order_exposure': 180, 'max_selection_exposure': 160, 'stake': 1.0, 'max_odds_threshold': 12.98075831736601, 'odds_change_deviation_to_trigger_trade': 0.1878235070359515, 'price_lookback_duration_seconds': 28, 'odds_change_deviation_to_trigger_take_prof': 0.09530417241592824}.\n"
     ]
    },
    {
     "name": "stdout",
     "output_type": "stream",
     "text": [
      "pnls:  [0.0, 0.0, -0.2, -1.54, 0.0, 0.0, 0.0, 0.0, 0.0, -2.65, -8.0, 4.120000000000001, -7.71, 0.0, 0.0, -6.52, 4.75, 1.6400000000000001, 0.0, -2.0, 0.0, 4.0, 0.0, 0.0, 0.0, -1.0, -5.5, 0.0, 0.0, 0.0, 0.0, 0.0, 2.38, -0.07, 2.5, 0.0, 0.0, 0.0, -0.65, 0.0, 0.0, 0.0, -1.0, 0.0, -3.0] \n",
      "sum: -20.45 sum losses : - 39.839999999999996\n"
     ]
    },
    {
     "name": "stderr",
     "output_type": "stream",
     "text": [
      "[I 2025-09-13 15:57:27,116] Trial 30 finished with values: [2.85, 7.29] and parameters: {'max_order_exposure': 105, 'max_selection_exposure': 150, 'stake': 2.0, 'max_odds_threshold': 3.1519349660486715, 'odds_change_deviation_to_trigger_trade': 0.14395836662170972, 'price_lookback_duration_seconds': 10, 'odds_change_deviation_to_trigger_take_prof': 0.03892193073672046}.\n"
     ]
    },
    {
     "name": "stdout",
     "output_type": "stream",
     "text": [
      "pnls:  [0.0, 2.02, 0.0, 0.0, 2.26, 0.0, 0.0, 0.0, 0.0, 0.0, 0.0, 0.0, 0.0, 0.0, -2.0, 0.0, -2.0, 0.0, 0.0, 0.0, 0.0, 0.0, 0.0, -2.0, 0.0, 0.0, 0.0, 0.0, 0.0, 0.0, -1.29, 3.74, 0.0, 0.0, 0.0, 0.0, 0.0, 0.0, 0.0, 2.12, 0.0, 0.0, 0.0, 0.0, 0.0] \n",
      "sum: 2.85 sum losses : - 7.29\n"
     ]
    },
    {
     "name": "stderr",
     "output_type": "stream",
     "text": [
      "[I 2025-09-13 15:59:30,334] Trial 31 finished with values: [-6.99, 27.78] and parameters: {'max_order_exposure': 105, 'max_selection_exposure': 150, 'stake': 2.0, 'max_odds_threshold': 18.668867392095798, 'odds_change_deviation_to_trigger_trade': 0.14395836662170972, 'price_lookback_duration_seconds': 6, 'odds_change_deviation_to_trigger_take_prof': 0.03892193073672046}.\n"
     ]
    },
    {
     "name": "stdout",
     "output_type": "stream",
     "text": [
      "pnls:  [0.0, 0.0, 0.0, 0.0, -0.13, 0.0, 0.0, 0.0, -0.33, 0.0, 0.0, 0.0, -1.65, 0.0, -4.0, 0.0, 0.0, -2.85, 0.0, -3.84, 0.0, -4.0600000000000005, 2.34, 0.0, -4.0, 0.0, 0.0, -4.0, -0.09, 0.0, 17.3, 0.0, 0.0, 0.0, 0.0, 0.0, 0.0, 0.0, -2.83, 0.73, 0.42, 0.0, 0.0, 0.0, 0.0] \n",
      "sum: -6.99 sum losses : - 27.78\n"
     ]
    },
    {
     "name": "stderr",
     "output_type": "stream",
     "text": [
      "[I 2025-09-13 16:00:07,190] Trial 32 finished with values: [226.48999999999998, 120.28] and parameters: {'max_order_exposure': 105, 'max_selection_exposure': 150, 'stake': 7.0, 'max_odds_threshold': 18.668867392095798, 'odds_change_deviation_to_trigger_trade': 0.07314090421113367, 'price_lookback_duration_seconds': 2, 'odds_change_deviation_to_trigger_take_prof': 0.9850706208723358}.\n"
     ]
    },
    {
     "name": "stdout",
     "output_type": "stream",
     "text": [
      "pnls:  [0.0, 0.01, -19.770000000000003, 0.0, 9.36, -28.53, 0.0, 0.0, 0.0, 0.0, 6.58, 0.0, 36.4, -10.899999999999999, 0.55, 5.95, 0.0, 0.0, -41.330000000000005, 0.27, -0.09, 0.0, 0.0, -5.8999999999999995, 0.0, -2.86, 32.51, 45.64, 2.34, 1.26, 0.0, 190.25, 15.649999999999999, 0.0, 0.0, 0.0, 0.0, -2.34, 0.0, 0.0, 0.0, -1.56, 0.0, 0.0, -7.0] \n",
      "sum: 226.48999999999998 sum losses : - 120.28\n"
     ]
    },
    {
     "name": "stderr",
     "output_type": "stream",
     "text": [
      "[I 2025-09-13 16:02:06,752] Trial 33 finished with values: [-160.79000000000002, 523.2] and parameters: {'max_order_exposure': 195, 'max_selection_exposure': 90, 'stake': 10.0, 'max_odds_threshold': 5.24797482289338, 'odds_change_deviation_to_trigger_trade': 0.03306095219744098, 'price_lookback_duration_seconds': 24, 'odds_change_deviation_to_trigger_take_prof': 0.4322838695596277}.\n"
     ]
    },
    {
     "name": "stdout",
     "output_type": "stream",
     "text": [
      "pnls:  [-4.810000000000002, 0.0, -15.2, 33.040000000000006, 0.9299999999999999, 0.0, -14.280000000000001, -6.41, 0.0, 11.620000000000001, -18.509999999999994, -29.18, -10.5, -4.279999999999999, -7.23, -10.39, -64.95, -12.18000000000001, -23.01, 0.0, 33.08, 0.0, -3.47, -2.7, -30.14, -25.849999999999998, -64.06, 51.379999999999995, -0.01, -13.07, 0.0, -11.560000000000004, -14.649999999999999, -0.11, -37.19, 0.0, -48.910000000000004, -44.16, 0.0, 108.07000000000001, 61.510000000000005, 0.0, 40.96, 21.82, -6.390000000000008] \n",
      "sum: -160.79000000000002 sum losses : - 523.2\n"
     ]
    },
    {
     "name": "stderr",
     "output_type": "stream",
     "text": [
      "[I 2025-09-13 16:02:32,190] Trial 34 finished with values: [-25.549999999999997, 90.58] and parameters: {'max_order_exposure': 105, 'max_selection_exposure': 150, 'stake': 7.0, 'max_odds_threshold': 6.409042616645327, 'odds_change_deviation_to_trigger_trade': 0.14395836662170972, 'price_lookback_duration_seconds': 6, 'odds_change_deviation_to_trigger_take_prof': 0.08089153052493536}.\n"
     ]
    },
    {
     "name": "stdout",
     "output_type": "stream",
     "text": [
      "pnls:  [0.0, 0.0, 0.0, 0.0, 0.0, 3.5, 0.0, 0.0, 17.78, 0.0, -7.0, 0.0, -1.45, 0.0, 0.0, 0.0, -8.2, 0.0, -7.0, 0.0, 0.0, 0.0, 43.75, 0.0, 0.0, 0.0, 0.0, 0.0, -14.0, -7.0, 0.0, 0.0, 0.0, 0.0, 0.0, -14.0, 0.0, -7.0, 0.0, 0.0, -13.42, 0.0, 0.0, 0.0, -11.51] \n",
      "sum: -25.549999999999997 sum losses : - 90.58\n"
     ]
    },
    {
     "name": "stderr",
     "output_type": "stream",
     "text": [
      "[I 2025-09-13 16:05:17,123] Trial 35 finished with values: [-71.68000000000008, 603.7500000000001] and parameters: {'max_order_exposure': 160, 'max_selection_exposure': 170, 'stake': 4.0, 'max_odds_threshold': 7.784837787504579, 'odds_change_deviation_to_trigger_trade': 0.006101272533313021, 'price_lookback_duration_seconds': 30, 'odds_change_deviation_to_trigger_take_prof': 0.07979255019905714}.\n"
     ]
    },
    {
     "name": "stdout",
     "output_type": "stream",
     "text": [
      "pnls:  [8.09, -1.5999999999999996, -4.38, -11.110000000000001, -0.18999999999999995, 0.47, 2.21, 22.2, 75.64000000000003, -130.66000000000003, -18.49, 0.0, 0.0, -50.39999999999999, -10.340000000000002, -45.69, -3.6900000000000004, 58.56, -55.83000000000003, -25.310000000000002, -2.2, -1.1400000000000001, 13.89, 55.249999999999986, -15.640000000000011, -11.799999999999999, 51.539999999999985, 3.64, -53.58999999999997, 29.63, 44.05, 6.8500000000000005, -29.030000000000015, 35.91999999999997, 16.630000000000003, 39.85999999999999, 0.0, -33.410000000000004, 5.02, -12.110000000000003, -1.31, 25.52, -85.83000000000001, 0.0, 37.10000000000001] \n",
      "sum: -71.68000000000008 sum losses : - 603.7500000000001\n"
     ]
    },
    {
     "name": "stderr",
     "output_type": "stream",
     "text": [
      "[I 2025-09-13 16:06:08,787] Trial 36 finished with values: [-13.520000000000001, 31.85] and parameters: {'max_order_exposure': 40, 'max_selection_exposure': 120, 'stake': 1.0, 'max_odds_threshold': 12.98075831736601, 'odds_change_deviation_to_trigger_trade': 0.1878235070359515, 'price_lookback_duration_seconds': 28, 'odds_change_deviation_to_trigger_take_prof': 0.25841963641203636}.\n"
     ]
    },
    {
     "name": "stdout",
     "output_type": "stream",
     "text": [
      "pnls:  [0.0, -1.0, 2.9699999999999998, 0.0, 0.0, 0.0, 0.0, 0.0, 0.0, 0.0, 0.0, 0.0, 0.0, 0.0, 0.0, 4.75, -0.33, 0.0, 0.0, -2.95, -12.99, 0.0, -4.26, 0.0, 9.04, -2.0, -1.0, -5.05, 0.0, 0.0, 0.0, -0.2, 0.0, 1.57, 0.0, 0.0, 0.0, 0.0, -1.0, 0.0, 0.0, 0.0, 0.0, -1.0, -0.07] \n",
      "sum: -13.520000000000001 sum losses : - 31.85\n"
     ]
    },
    {
     "name": "stderr",
     "output_type": "stream",
     "text": [
      "[I 2025-09-13 17:37:44,048] Trial 37 finished with values: [-127.36, 184.42] and parameters: {'max_order_exposure': 155, 'max_selection_exposure': 20, 'stake': 7.0, 'max_odds_threshold': 8.018337080442183, 'odds_change_deviation_to_trigger_trade': 0.10094288109515005, 'price_lookback_duration_seconds': 28, 'odds_change_deviation_to_trigger_take_prof': 0.25841963641203636}.\n"
     ]
    },
    {
     "name": "stdout",
     "output_type": "stream",
     "text": [
      "pnls:  [-7.0, 2.81, 0.0, -19.78, -13.86, 11.060000000000002, -14.14, -3.8499999999999996, 4.35, 0.73, -14.0, -1.2, 11.129999999999999, 0.0, 0.0, -4.619999999999999, -12.64, 0.0, 0.0, 0.0, 0.0, -14.0, 0.0, 0.0, -3.8500000000000014, -7.0, 0.0, 0.0, -14.0, 0.0, -16.45, 0.0, -0.06, -18.66, 0.0, -0.94, 0.0, -3.77, 0.0, 8.92, 0.0, -14.6, 0.0, 18.060000000000002, 0.0] \n",
      "sum: -127.36 sum losses : - 184.42\n"
     ]
    },
    {
     "name": "stderr",
     "output_type": "stream",
     "text": [
      "[I 2025-09-13 17:38:38,280] Trial 38 finished with values: [-311.57, 565.29] and parameters: {'max_order_exposure': 200, 'max_selection_exposure': 70, 'stake': 9.0, 'max_odds_threshold': 7.784837787504579, 'odds_change_deviation_to_trigger_trade': 0.006101272533313021, 'price_lookback_duration_seconds': 2, 'odds_change_deviation_to_trigger_take_prof': 0.9850706208723358}.\n"
     ]
    },
    {
     "name": "stdout",
     "output_type": "stream",
     "text": [
      "pnls:  [12.6, -10.799999999999997, -33.07, -26.00999999999999, -30.48, 6.759999999999998, -24.59, -65.78999999999999, -4.5, 37.91, 15.640000000000002, 4.700000000000002, -4.14, -8.849999999999994, 0.0, -54.33000000000001, 17.719999999999995, 0.0, 36.129999999999995, -35.66000000000001, 4.359999999999999, 14.73, -26.620000000000005, 6.6, -13.110000000000003, -19.869999999999997, -14.869999999999994, 2.74, 0.0, -41.459999999999994, 21.42, 6.640000000000001, -19.22, -5.189999999999995, -2.2700000000000005, 17.45, -17.750000000000004, 11.78, 0.0, -22.63999999999999, 2.3099999999999987, 34.23, 0.0, -28.380000000000003, -55.69] \n",
      "sum: -311.57 sum losses : - 565.29\n"
     ]
    }
   ],
   "source": [
    "import optuna\n",
    "from optuna.samplers import NSGAIISampler\n",
    "from optuna.pruners import SuccessiveHalvingPruner\n",
    "\n",
    "def sum_losses(equity):\n",
    "    result = sum(abs(x) for x in equity if x <= 0)\n",
    "    return result\n",
    "\n",
    "def objective(trial):\n",
    "    order_exp = trial.suggest_int(\"max_order_exposure\", 5, 200, step=5)\n",
    "    sel_exp   = trial.suggest_int(\"max_selection_exposure\", 20, 200, step=10)\n",
    "    stake = trial.suggest_float(\"stake\", 1.0, 10.0, step=1)\n",
    "    odds_cap = trial.suggest_float(\"max_odds_threshold\", 1.5, 20.0)\n",
    "    trig_dev = trial.suggest_float(\"odds_change_deviation_to_trigger_trade\", 0.005, 0.20, log=True)\n",
    "    lookback = trial.suggest_int(\"price_lookback_duration_seconds\", 1, 30)\n",
    "    take_prof_price_diff = trial.suggest_float(\"odds_change_deviation_to_trigger_take_prof\", 0.02, 1, log=True)\n",
    "\n",
    "    equity = run_one_trial_drawdown_optim(\n",
    "        max_order_exposure=order_exp,\n",
    "        max_selection_exposure=sel_exp,\n",
    "        stake=stake,\n",
    "        threshold=odds_cap,\n",
    "        dev=trig_dev,\n",
    "        lookback=lookback,\n",
    "        take_prof_price_diff=take_prof_price_diff\n",
    "    )\n",
    "    \n",
    "    pnl_sum = sum(equity)\n",
    "\n",
    "    sum_loss = sum_losses(equity)\n",
    "    print(\"pnls: \", equity, \"\\nsum:\", pnl_sum, \"sum losses : -\", sum_loss)\n",
    "    return pnl_sum, sum_loss\n",
    "\n",
    "study = optuna.create_study(directions=[\"maximize\", \"minimize\"],sampler=NSGAIISampler(population_size=28))\n",
    "study.optimize(objective, n_trials=300, n_jobs=2)\n",
    "\n",
    "# Choose a Pareto-optimal trial (e.g., lowest MDD above a PnL floor)\n",
    "best = min(study.best_trials, key=lambda t: (t.values[1], -t.values[0]))\n",
    "print(\"Best (PnL, MDD):\", best.values)\n",
    "print(\"Params:\", best.params)\n"
   ]
  },
  {
   "cell_type": "code",
   "execution_count": null,
   "id": "f9b1b750-ee69-4a17-ae8e-249e7bc1a3f2",
   "metadata": {},
   "outputs": [],
   "source": []
  }
 ],
 "metadata": {
  "kernelspec": {
   "display_name": "Python [conda env:betenv]",
   "language": "python",
   "name": "conda-env-betenv-py"
  },
  "language_info": {
   "codemirror_mode": {
    "name": "ipython",
    "version": 3
   },
   "file_extension": ".py",
   "mimetype": "text/x-python",
   "name": "python",
   "nbconvert_exporter": "python",
   "pygments_lexer": "ipython3",
   "version": "3.12.2"
  }
 },
 "nbformat": 4,
 "nbformat_minor": 5
}
